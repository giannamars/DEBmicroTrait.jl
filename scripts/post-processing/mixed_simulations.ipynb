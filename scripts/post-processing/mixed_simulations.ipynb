{
 "cells": [
  {
   "cell_type": "code",
   "execution_count": 1,
   "id": "bfb63c37",
   "metadata": {},
   "outputs": [],
   "source": [
    "import numpy as np\n",
    "import matplotlib.pyplot as plt\n",
    "import seaborn as sns\n",
    "import pandas as pd"
   ]
  },
  {
   "cell_type": "code",
   "execution_count": 2,
   "id": "e15df29e",
   "metadata": {},
   "outputs": [
    {
     "data": {
      "text/html": [
       "<div>\n",
       "<style scoped>\n",
       "    .dataframe tbody tr th:only-of-type {\n",
       "        vertical-align: middle;\n",
       "    }\n",
       "\n",
       "    .dataframe tbody tr th {\n",
       "        vertical-align: top;\n",
       "    }\n",
       "\n",
       "    .dataframe thead th {\n",
       "        text-align: right;\n",
       "    }\n",
       "</style>\n",
       "<table border=\"1\" class=\"dataframe\">\n",
       "  <thead>\n",
       "    <tr style=\"text-align: right;\">\n",
       "      <th></th>\n",
       "      <th>monomer</th>\n",
       "      <th>ontology</th>\n",
       "      <th>isolate</th>\n",
       "      <th>response</th>\n",
       "      <th>percent_uptake</th>\n",
       "    </tr>\n",
       "  </thead>\n",
       "  <tbody>\n",
       "    <tr>\n",
       "      <th>0</th>\n",
       "      <td>2-aminoisobutyric acid</td>\n",
       "      <td>Amino acids</td>\n",
       "      <td>Acidobacteriaceae bacterium URHE0068</td>\n",
       "      <td>positive</td>\n",
       "      <td>0.999190</td>\n",
       "    </tr>\n",
       "    <tr>\n",
       "      <th>1</th>\n",
       "      <td>2-aminoisobutyric acid</td>\n",
       "      <td>Amino acids</td>\n",
       "      <td>Bacillus sp. URHB0009</td>\n",
       "      <td>negative</td>\n",
       "      <td>0.995375</td>\n",
       "    </tr>\n",
       "    <tr>\n",
       "      <th>3</th>\n",
       "      <td>2-aminoisobutyric acid</td>\n",
       "      <td>Amino acids</td>\n",
       "      <td>Bradyrhizobium sp. URHA0002</td>\n",
       "      <td>positive</td>\n",
       "      <td>0.999989</td>\n",
       "    </tr>\n",
       "    <tr>\n",
       "      <th>4</th>\n",
       "      <td>2-aminoisobutyric acid</td>\n",
       "      <td>Amino acids</td>\n",
       "      <td>Bradyrhizobium sp. URHA0013</td>\n",
       "      <td>positive</td>\n",
       "      <td>0.999994</td>\n",
       "    </tr>\n",
       "    <tr>\n",
       "      <th>5</th>\n",
       "      <td>2-aminoisobutyric acid</td>\n",
       "      <td>Amino acids</td>\n",
       "      <td>Bradyrhizobium sp. URHD0069</td>\n",
       "      <td>positive</td>\n",
       "      <td>1.000000</td>\n",
       "    </tr>\n",
       "  </tbody>\n",
       "</table>\n",
       "</div>"
      ],
      "text/plain": [
       "                   monomer     ontology                               isolate  \\\n",
       "0  2-aminoisobutyric acid   Amino acids  Acidobacteriaceae bacterium URHE0068   \n",
       "1  2-aminoisobutyric acid   Amino acids                 Bacillus sp. URHB0009   \n",
       "3  2-aminoisobutyric acid   Amino acids           Bradyrhizobium sp. URHA0002   \n",
       "4  2-aminoisobutyric acid   Amino acids           Bradyrhizobium sp. URHA0013   \n",
       "5  2-aminoisobutyric acid   Amino acids           Bradyrhizobium sp. URHD0069   \n",
       "\n",
       "   response  percent_uptake  \n",
       "0  positive        0.999190  \n",
       "1  negative        0.995375  \n",
       "3  positive        0.999989  \n",
       "4  positive        0.999994  \n",
       "5  positive        1.000000  "
      ]
     },
     "execution_count": 2,
     "metadata": {},
     "output_type": "execute_result"
    }
   ],
   "source": [
    "df = pd.read_csv(\"/Users/glmarschmann/.julia/dev/DEBmicroTrait/files/isolates_mixed_medium.csv\")\n",
    "df = df.loc[(df.response == \"positive\") | (df.response == \"negative\")]\n",
    "df.head()"
   ]
  },
  {
   "cell_type": "code",
   "execution_count": 3,
   "id": "30f13670",
   "metadata": {},
   "outputs": [
    {
     "data": {
      "text/html": [
       "<div>\n",
       "<style scoped>\n",
       "    .dataframe tbody tr th:only-of-type {\n",
       "        vertical-align: middle;\n",
       "    }\n",
       "\n",
       "    .dataframe tbody tr th {\n",
       "        vertical-align: top;\n",
       "    }\n",
       "\n",
       "    .dataframe thead th {\n",
       "        text-align: right;\n",
       "    }\n",
       "</style>\n",
       "<table border=\"1\" class=\"dataframe\">\n",
       "  <thead>\n",
       "    <tr style=\"text-align: right;\">\n",
       "      <th></th>\n",
       "      <th>isolate</th>\n",
       "      <th>class</th>\n",
       "      <th>phylum</th>\n",
       "      <th>response</th>\n",
       "      <th>mingt</th>\n",
       "      <th>rrn</th>\n",
       "      <th>genomesize</th>\n",
       "      <th>monomer</th>\n",
       "      <th>ontology</th>\n",
       "      <th>BGE</th>\n",
       "      <th>rgrowth</th>\n",
       "      <th>BP</th>\n",
       "      <th>BR</th>\n",
       "    </tr>\n",
       "  </thead>\n",
       "  <tbody>\n",
       "    <tr>\n",
       "      <th>0</th>\n",
       "      <td>Acidobacteriaceae bacterium URHE0068</td>\n",
       "      <td>Acidobacteria</td>\n",
       "      <td>Acidobacteria</td>\n",
       "      <td>positive</td>\n",
       "      <td>7.00</td>\n",
       "      <td>3</td>\n",
       "      <td>6679185</td>\n",
       "      <td>2-aminoisobutyric acid</td>\n",
       "      <td>Amino acids</td>\n",
       "      <td>0.591660</td>\n",
       "      <td>0.059213</td>\n",
       "      <td>7.888702e-09</td>\n",
       "      <td>2.961753e-09</td>\n",
       "    </tr>\n",
       "    <tr>\n",
       "      <th>1</th>\n",
       "      <td>Bacillus sp. URHB0009</td>\n",
       "      <td>Bacilli</td>\n",
       "      <td>Firmicutes</td>\n",
       "      <td>negative</td>\n",
       "      <td>1.31</td>\n",
       "      <td>20</td>\n",
       "      <td>5377210</td>\n",
       "      <td>2-aminoisobutyric acid</td>\n",
       "      <td>Amino acids</td>\n",
       "      <td>0.380744</td>\n",
       "      <td>0.127318</td>\n",
       "      <td>3.192556e-08</td>\n",
       "      <td>1.684607e-08</td>\n",
       "    </tr>\n",
       "    <tr>\n",
       "      <th>2</th>\n",
       "      <td>Blastococcus sp. URHD0036</td>\n",
       "      <td>Actinobacteria</td>\n",
       "      <td>Actinobacteria</td>\n",
       "      <td>undefined</td>\n",
       "      <td>2.78</td>\n",
       "      <td>8</td>\n",
       "      <td>5177578</td>\n",
       "      <td>2-aminoisobutyric acid</td>\n",
       "      <td>Amino acids</td>\n",
       "      <td>0.475350</td>\n",
       "      <td>0.097510</td>\n",
       "      <td>1.560388e-08</td>\n",
       "      <td>7.346933e-09</td>\n",
       "    </tr>\n",
       "    <tr>\n",
       "      <th>3</th>\n",
       "      <td>Bradyrhizobium sp. URHA0002</td>\n",
       "      <td>Alphaproteobacteria</td>\n",
       "      <td>Proteobacteria</td>\n",
       "      <td>positive</td>\n",
       "      <td>6.09</td>\n",
       "      <td>3</td>\n",
       "      <td>6972827</td>\n",
       "      <td>2-aminoisobutyric acid</td>\n",
       "      <td>Amino acids</td>\n",
       "      <td>0.590325</td>\n",
       "      <td>0.057814</td>\n",
       "      <td>7.447495e-09</td>\n",
       "      <td>3.213237e-09</td>\n",
       "    </tr>\n",
       "    <tr>\n",
       "      <th>4</th>\n",
       "      <td>Bradyrhizobium sp. URHA0013</td>\n",
       "      <td>Alphaproteobacteria</td>\n",
       "      <td>Proteobacteria</td>\n",
       "      <td>positive</td>\n",
       "      <td>5.73</td>\n",
       "      <td>3</td>\n",
       "      <td>7193102</td>\n",
       "      <td>2-aminoisobutyric acid</td>\n",
       "      <td>Amino acids</td>\n",
       "      <td>0.590507</td>\n",
       "      <td>0.060674</td>\n",
       "      <td>7.873335e-09</td>\n",
       "      <td>3.351377e-09</td>\n",
       "    </tr>\n",
       "  </tbody>\n",
       "</table>\n",
       "</div>"
      ],
      "text/plain": [
       "                                isolate                class          phylum  \\\n",
       "0  Acidobacteriaceae bacterium URHE0068        Acidobacteria   Acidobacteria   \n",
       "1                 Bacillus sp. URHB0009              Bacilli      Firmicutes   \n",
       "2             Blastococcus sp. URHD0036       Actinobacteria  Actinobacteria   \n",
       "3           Bradyrhizobium sp. URHA0002  Alphaproteobacteria  Proteobacteria   \n",
       "4           Bradyrhizobium sp. URHA0013  Alphaproteobacteria  Proteobacteria   \n",
       "\n",
       "    response  mingt  rrn  genomesize                  monomer     ontology  \\\n",
       "0   positive   7.00    3     6679185  2-aminoisobutyric acid   Amino acids   \n",
       "1   negative   1.31   20     5377210  2-aminoisobutyric acid   Amino acids   \n",
       "2  undefined   2.78    8     5177578  2-aminoisobutyric acid   Amino acids   \n",
       "3   positive   6.09    3     6972827  2-aminoisobutyric acid   Amino acids   \n",
       "4   positive   5.73    3     7193102  2-aminoisobutyric acid   Amino acids   \n",
       "\n",
       "        BGE   rgrowth            BP            BR  \n",
       "0  0.591660  0.059213  7.888702e-09  2.961753e-09  \n",
       "1  0.380744  0.127318  3.192556e-08  1.684607e-08  \n",
       "2  0.475350  0.097510  1.560388e-08  7.346933e-09  \n",
       "3  0.590325  0.057814  7.447495e-09  3.213237e-09  \n",
       "4  0.590507  0.060674  7.873335e-09  3.351377e-09  "
      ]
     },
     "execution_count": 3,
     "metadata": {},
     "output_type": "execute_result"
    }
   ],
   "source": [
    "df_bge = pd.read_csv(\"/Users/glmarschmann/.julia/dev/DEBmicroTrait/files/isolates_batch_model_BGE.csv\")\n",
    "df_bge.head()"
   ]
  },
  {
   "cell_type": "code",
   "execution_count": 4,
   "id": "61fab3a0",
   "metadata": {},
   "outputs": [
    {
     "data": {
      "text/html": [
       "<div>\n",
       "<style scoped>\n",
       "    .dataframe tbody tr th:only-of-type {\n",
       "        vertical-align: middle;\n",
       "    }\n",
       "\n",
       "    .dataframe tbody tr th {\n",
       "        vertical-align: top;\n",
       "    }\n",
       "\n",
       "    .dataframe thead th {\n",
       "        text-align: right;\n",
       "    }\n",
       "</style>\n",
       "<table border=\"1\" class=\"dataframe\">\n",
       "  <thead>\n",
       "    <tr style=\"text-align: right;\">\n",
       "      <th></th>\n",
       "      <th>monomer</th>\n",
       "      <th>ontology</th>\n",
       "      <th>isolate</th>\n",
       "      <th>response</th>\n",
       "      <th>percent_uptake</th>\n",
       "      <th>class</th>\n",
       "      <th>phylum</th>\n",
       "      <th>mingt</th>\n",
       "      <th>rrn</th>\n",
       "      <th>genomesize</th>\n",
       "      <th>BGE</th>\n",
       "      <th>rgrowth</th>\n",
       "      <th>BP</th>\n",
       "      <th>BR</th>\n",
       "    </tr>\n",
       "  </thead>\n",
       "  <tbody>\n",
       "    <tr>\n",
       "      <th>0</th>\n",
       "      <td>2-aminoisobutyric acid</td>\n",
       "      <td>Amino acids</td>\n",
       "      <td>Acidobacteriaceae bacterium URHE0068</td>\n",
       "      <td>positive</td>\n",
       "      <td>0.999190</td>\n",
       "      <td>Acidobacteria</td>\n",
       "      <td>Acidobacteria</td>\n",
       "      <td>7.00</td>\n",
       "      <td>3</td>\n",
       "      <td>6679185</td>\n",
       "      <td>0.591660</td>\n",
       "      <td>0.059213</td>\n",
       "      <td>7.888702e-09</td>\n",
       "      <td>2.961753e-09</td>\n",
       "    </tr>\n",
       "    <tr>\n",
       "      <th>1</th>\n",
       "      <td>2-aminoisobutyric acid</td>\n",
       "      <td>Amino acids</td>\n",
       "      <td>Bacillus sp. URHB0009</td>\n",
       "      <td>negative</td>\n",
       "      <td>0.995375</td>\n",
       "      <td>Bacilli</td>\n",
       "      <td>Firmicutes</td>\n",
       "      <td>1.31</td>\n",
       "      <td>20</td>\n",
       "      <td>5377210</td>\n",
       "      <td>0.380744</td>\n",
       "      <td>0.127318</td>\n",
       "      <td>3.192556e-08</td>\n",
       "      <td>1.684607e-08</td>\n",
       "    </tr>\n",
       "    <tr>\n",
       "      <th>2</th>\n",
       "      <td>2-aminoisobutyric acid</td>\n",
       "      <td>Amino acids</td>\n",
       "      <td>Bradyrhizobium sp. URHA0002</td>\n",
       "      <td>positive</td>\n",
       "      <td>0.999989</td>\n",
       "      <td>Alphaproteobacteria</td>\n",
       "      <td>Proteobacteria</td>\n",
       "      <td>6.09</td>\n",
       "      <td>3</td>\n",
       "      <td>6972827</td>\n",
       "      <td>0.590325</td>\n",
       "      <td>0.057814</td>\n",
       "      <td>7.447495e-09</td>\n",
       "      <td>3.213237e-09</td>\n",
       "    </tr>\n",
       "    <tr>\n",
       "      <th>3</th>\n",
       "      <td>2-aminoisobutyric acid</td>\n",
       "      <td>Amino acids</td>\n",
       "      <td>Bradyrhizobium sp. URHA0013</td>\n",
       "      <td>positive</td>\n",
       "      <td>0.999994</td>\n",
       "      <td>Alphaproteobacteria</td>\n",
       "      <td>Proteobacteria</td>\n",
       "      <td>5.73</td>\n",
       "      <td>3</td>\n",
       "      <td>7193102</td>\n",
       "      <td>0.590507</td>\n",
       "      <td>0.060674</td>\n",
       "      <td>7.873335e-09</td>\n",
       "      <td>3.351377e-09</td>\n",
       "    </tr>\n",
       "    <tr>\n",
       "      <th>4</th>\n",
       "      <td>2-aminoisobutyric acid</td>\n",
       "      <td>Amino acids</td>\n",
       "      <td>Bradyrhizobium sp. URHD0069</td>\n",
       "      <td>positive</td>\n",
       "      <td>1.000000</td>\n",
       "      <td>Alphaproteobacteria</td>\n",
       "      <td>Proteobacteria</td>\n",
       "      <td>5.32</td>\n",
       "      <td>3</td>\n",
       "      <td>6793945</td>\n",
       "      <td>0.594059</td>\n",
       "      <td>0.068539</td>\n",
       "      <td>9.416452e-09</td>\n",
       "      <td>3.240595e-09</td>\n",
       "    </tr>\n",
       "  </tbody>\n",
       "</table>\n",
       "</div>"
      ],
      "text/plain": [
       "                   monomer     ontology                               isolate  \\\n",
       "0  2-aminoisobutyric acid   Amino acids  Acidobacteriaceae bacterium URHE0068   \n",
       "1  2-aminoisobutyric acid   Amino acids                 Bacillus sp. URHB0009   \n",
       "2  2-aminoisobutyric acid   Amino acids           Bradyrhizobium sp. URHA0002   \n",
       "3  2-aminoisobutyric acid   Amino acids           Bradyrhizobium sp. URHA0013   \n",
       "4  2-aminoisobutyric acid   Amino acids           Bradyrhizobium sp. URHD0069   \n",
       "\n",
       "   response  percent_uptake                class          phylum  mingt  rrn  \\\n",
       "0  positive        0.999190        Acidobacteria   Acidobacteria   7.00    3   \n",
       "1  negative        0.995375              Bacilli      Firmicutes   1.31   20   \n",
       "2  positive        0.999989  Alphaproteobacteria  Proteobacteria   6.09    3   \n",
       "3  positive        0.999994  Alphaproteobacteria  Proteobacteria   5.73    3   \n",
       "4  positive        1.000000  Alphaproteobacteria  Proteobacteria   5.32    3   \n",
       "\n",
       "   genomesize       BGE   rgrowth            BP            BR  \n",
       "0     6679185  0.591660  0.059213  7.888702e-09  2.961753e-09  \n",
       "1     5377210  0.380744  0.127318  3.192556e-08  1.684607e-08  \n",
       "2     6972827  0.590325  0.057814  7.447495e-09  3.213237e-09  \n",
       "3     7193102  0.590507  0.060674  7.873335e-09  3.351377e-09  \n",
       "4     6793945  0.594059  0.068539  9.416452e-09  3.240595e-09  "
      ]
     },
     "execution_count": 4,
     "metadata": {},
     "output_type": "execute_result"
    }
   ],
   "source": [
    "df_merge = df.merge(df_bge)\n",
    "df_merge.head()"
   ]
  },
  {
   "cell_type": "code",
   "execution_count": 5,
   "id": "f6c69042",
   "metadata": {},
   "outputs": [
    {
     "data": {
      "text/html": [
       "<div>\n",
       "<style scoped>\n",
       "    .dataframe tbody tr th:only-of-type {\n",
       "        vertical-align: middle;\n",
       "    }\n",
       "\n",
       "    .dataframe tbody tr th {\n",
       "        vertical-align: top;\n",
       "    }\n",
       "\n",
       "    .dataframe thead th {\n",
       "        text-align: right;\n",
       "    }\n",
       "</style>\n",
       "<table border=\"1\" class=\"dataframe\">\n",
       "  <thead>\n",
       "    <tr style=\"text-align: right;\">\n",
       "      <th></th>\n",
       "      <th>monomer</th>\n",
       "      <th>response</th>\n",
       "      <th>percent_uptake</th>\n",
       "      <th>BGE</th>\n",
       "    </tr>\n",
       "  </thead>\n",
       "  <tbody>\n",
       "    <tr>\n",
       "      <th>0</th>\n",
       "      <td>2,3-Dihydroxybenzoic acid</td>\n",
       "      <td>negative</td>\n",
       "      <td>0.953350</td>\n",
       "      <td>0.390992</td>\n",
       "    </tr>\n",
       "    <tr>\n",
       "      <th>1</th>\n",
       "      <td>2,3-Dihydroxybenzoic acid</td>\n",
       "      <td>positive</td>\n",
       "      <td>0.998747</td>\n",
       "      <td>0.505829</td>\n",
       "    </tr>\n",
       "    <tr>\n",
       "      <th>2</th>\n",
       "      <td>2-aminoisobutyric acid</td>\n",
       "      <td>negative</td>\n",
       "      <td>0.999801</td>\n",
       "      <td>0.456528</td>\n",
       "    </tr>\n",
       "    <tr>\n",
       "      <th>3</th>\n",
       "      <td>2-aminoisobutyric acid</td>\n",
       "      <td>positive</td>\n",
       "      <td>0.999994</td>\n",
       "      <td>0.569965</td>\n",
       "    </tr>\n",
       "    <tr>\n",
       "      <th>4</th>\n",
       "      <td>3-Dehydroshikimic acid</td>\n",
       "      <td>negative</td>\n",
       "      <td>0.947163</td>\n",
       "      <td>0.390983</td>\n",
       "    </tr>\n",
       "  </tbody>\n",
       "</table>\n",
       "</div>"
      ],
      "text/plain": [
       "                     monomer  response  percent_uptake       BGE\n",
       "0  2,3-Dihydroxybenzoic acid  negative        0.953350  0.390992\n",
       "1  2,3-Dihydroxybenzoic acid  positive        0.998747  0.505829\n",
       "2    2-aminoisobutyric acid   negative        0.999801  0.456528\n",
       "3    2-aminoisobutyric acid   positive        0.999994  0.569965\n",
       "4     3-Dehydroshikimic acid  negative        0.947163  0.390983"
      ]
     },
     "execution_count": 5,
     "metadata": {},
     "output_type": "execute_result"
    }
   ],
   "source": [
    "groups = df_merge[[\"monomer\", \"response\", \"percent_uptake\", \"BGE\"]].groupby(by=[\"monomer\", \"response\"], dropna=False).median().agg(lambda\n",
    "                             x: list(x)).reset_index()\n",
    "groups.head()"
   ]
  },
  {
   "cell_type": "code",
   "execution_count": 6,
   "id": "9322256f",
   "metadata": {},
   "outputs": [],
   "source": [
    "groups[[\"diff_percent_uptake\", \"diff_BGE\"]]= groups[[\"monomer\", \"percent_uptake\", \"BGE\"]].groupby(\"monomer\").diff()"
   ]
  },
  {
   "cell_type": "code",
   "execution_count": 7,
   "id": "38a9956c",
   "metadata": {},
   "outputs": [
    {
     "data": {
      "text/html": [
       "<div>\n",
       "<style scoped>\n",
       "    .dataframe tbody tr th:only-of-type {\n",
       "        vertical-align: middle;\n",
       "    }\n",
       "\n",
       "    .dataframe tbody tr th {\n",
       "        vertical-align: top;\n",
       "    }\n",
       "\n",
       "    .dataframe thead th {\n",
       "        text-align: right;\n",
       "    }\n",
       "</style>\n",
       "<table border=\"1\" class=\"dataframe\">\n",
       "  <thead>\n",
       "    <tr style=\"text-align: right;\">\n",
       "      <th></th>\n",
       "      <th>monomer</th>\n",
       "      <th>response</th>\n",
       "      <th>percent_uptake</th>\n",
       "      <th>BGE</th>\n",
       "      <th>diff_percent_uptake</th>\n",
       "      <th>diff_BGE</th>\n",
       "      <th>diffup</th>\n",
       "      <th>diffBGE</th>\n",
       "    </tr>\n",
       "  </thead>\n",
       "  <tbody>\n",
       "    <tr>\n",
       "      <th>1</th>\n",
       "      <td>2,3-Dihydroxybenzoic acid</td>\n",
       "      <td>positive</td>\n",
       "      <td>0.998747</td>\n",
       "      <td>0.505829</td>\n",
       "      <td>0.045396</td>\n",
       "      <td>0.114837</td>\n",
       "      <td>4.545344</td>\n",
       "      <td>22.702722</td>\n",
       "    </tr>\n",
       "    <tr>\n",
       "      <th>3</th>\n",
       "      <td>2-aminoisobutyric acid</td>\n",
       "      <td>positive</td>\n",
       "      <td>0.999994</td>\n",
       "      <td>0.569965</td>\n",
       "      <td>0.000193</td>\n",
       "      <td>0.113437</td>\n",
       "      <td>0.019298</td>\n",
       "      <td>19.902465</td>\n",
       "    </tr>\n",
       "    <tr>\n",
       "      <th>5</th>\n",
       "      <td>3-Dehydroshikimic acid</td>\n",
       "      <td>positive</td>\n",
       "      <td>0.998349</td>\n",
       "      <td>0.505821</td>\n",
       "      <td>0.051186</td>\n",
       "      <td>0.114838</td>\n",
       "      <td>5.127018</td>\n",
       "      <td>22.703210</td>\n",
       "    </tr>\n",
       "    <tr>\n",
       "      <th>7</th>\n",
       "      <td>5-aminovaleric acid</td>\n",
       "      <td>positive</td>\n",
       "      <td>0.999998</td>\n",
       "      <td>0.610496</td>\n",
       "      <td>0.000059</td>\n",
       "      <td>0.123085</td>\n",
       "      <td>0.005905</td>\n",
       "      <td>20.161503</td>\n",
       "    </tr>\n",
       "    <tr>\n",
       "      <th>9</th>\n",
       "      <td>D-ribose</td>\n",
       "      <td>positive</td>\n",
       "      <td>0.999973</td>\n",
       "      <td>0.575598</td>\n",
       "      <td>0.000165</td>\n",
       "      <td>0.102565</td>\n",
       "      <td>0.016521</td>\n",
       "      <td>17.818887</td>\n",
       "    </tr>\n",
       "    <tr>\n",
       "      <th>...</th>\n",
       "      <td>...</td>\n",
       "      <td>...</td>\n",
       "      <td>...</td>\n",
       "      <td>...</td>\n",
       "      <td>...</td>\n",
       "      <td>...</td>\n",
       "      <td>...</td>\n",
       "      <td>...</td>\n",
       "    </tr>\n",
       "    <tr>\n",
       "      <th>155</th>\n",
       "      <td>valine</td>\n",
       "      <td>positive</td>\n",
       "      <td>0.999998</td>\n",
       "      <td>0.610496</td>\n",
       "      <td>0.000059</td>\n",
       "      <td>0.123085</td>\n",
       "      <td>0.005905</td>\n",
       "      <td>20.161503</td>\n",
       "    </tr>\n",
       "    <tr>\n",
       "      <th>157</th>\n",
       "      <td>vanillic acid</td>\n",
       "      <td>positive</td>\n",
       "      <td>0.998474</td>\n",
       "      <td>0.525084</td>\n",
       "      <td>0.051061</td>\n",
       "      <td>0.115193</td>\n",
       "      <td>5.113882</td>\n",
       "      <td>21.937955</td>\n",
       "    </tr>\n",
       "    <tr>\n",
       "      <th>159</th>\n",
       "      <td>vanillin</td>\n",
       "      <td>positive</td>\n",
       "      <td>0.998803</td>\n",
       "      <td>0.530001</td>\n",
       "      <td>0.046910</td>\n",
       "      <td>0.115217</td>\n",
       "      <td>4.696582</td>\n",
       "      <td>21.739069</td>\n",
       "    </tr>\n",
       "    <tr>\n",
       "      <th>161</th>\n",
       "      <td>xanthine</td>\n",
       "      <td>positive</td>\n",
       "      <td>0.968639</td>\n",
       "      <td>0.236166</td>\n",
       "      <td>-0.021984</td>\n",
       "      <td>0.026699</td>\n",
       "      <td>-2.269581</td>\n",
       "      <td>11.305256</td>\n",
       "    </tr>\n",
       "    <tr>\n",
       "      <th>163</th>\n",
       "      <td>xylose</td>\n",
       "      <td>positive</td>\n",
       "      <td>0.999973</td>\n",
       "      <td>0.575598</td>\n",
       "      <td>0.000165</td>\n",
       "      <td>0.102565</td>\n",
       "      <td>0.016521</td>\n",
       "      <td>17.818887</td>\n",
       "    </tr>\n",
       "  </tbody>\n",
       "</table>\n",
       "<p>82 rows × 8 columns</p>\n",
       "</div>"
      ],
      "text/plain": [
       "                       monomer  response  percent_uptake       BGE  \\\n",
       "1    2,3-Dihydroxybenzoic acid  positive        0.998747  0.505829   \n",
       "3      2-aminoisobutyric acid   positive        0.999994  0.569965   \n",
       "5       3-Dehydroshikimic acid  positive        0.998349  0.505821   \n",
       "7          5-aminovaleric acid  positive        0.999998  0.610496   \n",
       "9                     D-ribose  positive        0.999973  0.575598   \n",
       "..                         ...       ...             ...       ...   \n",
       "155                    valine   positive        0.999998  0.610496   \n",
       "157              vanillic acid  positive        0.998474  0.525084   \n",
       "159                   vanillin  positive        0.998803  0.530001   \n",
       "161                   xanthine  positive        0.968639  0.236166   \n",
       "163                     xylose  positive        0.999973  0.575598   \n",
       "\n",
       "     diff_percent_uptake  diff_BGE    diffup    diffBGE  \n",
       "1               0.045396  0.114837  4.545344  22.702722  \n",
       "3               0.000193  0.113437  0.019298  19.902465  \n",
       "5               0.051186  0.114838  5.127018  22.703210  \n",
       "7               0.000059  0.123085  0.005905  20.161503  \n",
       "9               0.000165  0.102565  0.016521  17.818887  \n",
       "..                   ...       ...       ...        ...  \n",
       "155             0.000059  0.123085  0.005905  20.161503  \n",
       "157             0.051061  0.115193  5.113882  21.937955  \n",
       "159             0.046910  0.115217  4.696582  21.739069  \n",
       "161            -0.021984  0.026699 -2.269581  11.305256  \n",
       "163             0.000165  0.102565  0.016521  17.818887  \n",
       "\n",
       "[82 rows x 8 columns]"
      ]
     },
     "execution_count": 7,
     "metadata": {},
     "output_type": "execute_result"
    }
   ],
   "source": [
    "groups[\"diffup\"]= groups[\"diff_percent_uptake\"]/groups[\"percent_uptake\"]*100\n",
    "groups[\"diffBGE\"]= groups[\"diff_BGE\"]/groups[\"BGE\"]*100\n",
    "groups.dropna()"
   ]
  },
  {
   "cell_type": "code",
   "execution_count": 8,
   "id": "8bdb2c49",
   "metadata": {},
   "outputs": [],
   "source": [
    "df_sig = groups[(groups.diffup > 3) | (groups.diffup < -1)]"
   ]
  },
  {
   "cell_type": "code",
   "execution_count": 9,
   "id": "19757b05",
   "metadata": {},
   "outputs": [
    {
     "data": {
      "text/plain": [
       "(39, 8)"
      ]
     },
     "execution_count": 9,
     "metadata": {},
     "output_type": "execute_result"
    }
   ],
   "source": [
    "df_sig = df_sig.sort_values(by=['diffup'], ascending=False)\n",
    "df_sig.shape"
   ]
  },
  {
   "cell_type": "markdown",
   "id": "27daf8bc",
   "metadata": {},
   "source": [
    "# Relative uptake"
   ]
  },
  {
   "cell_type": "code",
   "execution_count": 10,
   "id": "e316bb39",
   "metadata": {},
   "outputs": [],
   "source": [
    "fig_height = 2.5                         # inches  \n",
    "golden_mean = (np.sqrt(5)-1.0)/2.0      # Aesthetic ratio\n",
    "fig_width= 4.8     # height in inches\n",
    "dpi = 300.0                             # Convert inch to pt\n",
    "\n",
    "# Margins are specified as a fraction of axes size.\n",
    "# May need to adjust (especially left and bottom) to accomodate axes labels/tickmarks\n",
    "leftmargin = 0.15\n",
    "bottommargin = 0.2\n",
    "rightmargin = 0.05\n",
    "topmargin = 0.1\n",
    "# These two parameters are used for adjusting spacing between subplots (when used)\n",
    "wspace = 0.2\n",
    "hspace = 0.2\n",
    "\n",
    "fig_size =  [fig_width,fig_height]\n",
    "params = {'backend': 'svg',\n",
    "          'axes.labelsize': 4,\n",
    "          'axes.titlesize': 7,\n",
    "          'legend.fontsize': 10,\n",
    "          'xtick.labelsize': 4,\n",
    "          'ytick.labelsize': 4,\n",
    "          'figure.figsize': fig_size,\n",
    "          'text.usetex': False, \n",
    "          'font.family':'sans-serif',\n",
    "          'font.sans-serif':'Arial',\n",
    "          'svg.fonttype':'none'}"
   ]
  },
  {
   "cell_type": "code",
   "execution_count": 11,
   "id": "c4d377e5",
   "metadata": {},
   "outputs": [
    {
     "data": {
      "text/plain": [
       "<Axes:>"
      ]
     },
     "execution_count": 11,
     "metadata": {},
     "output_type": "execute_result"
    },
    {
     "data": {
      "image/png": "[encoded data removed]",
      "text/plain": [
       "<Figure size 345.6x180 with 1 Axes>"
      ]
     },
     "metadata": {
      "needs_background": "light"
     },
     "output_type": "display_data"
    }
   ],
   "source": [
    "plt.rcParams.update(params)\n",
    "plt.figure(1)\n",
    "plt.clf()\n",
    "plt.axes([leftmargin,\n",
    "            bottommargin,\n",
    "            1.0 - rightmargin-leftmargin,\n",
    "            1.0 - topmargin-bottommargin])"
   ]
  },
  {
   "cell_type": "code",
   "execution_count": 12,
   "id": "92b3be59",
   "metadata": {},
   "outputs": [
    {
     "data": {
      "text/plain": [
       "[Text(0, 3, 'lc'),\n",
       " Text(0, 3, 'lc'),\n",
       " Text(0, 3, 'lc'),\n",
       " Text(0, 3, ''),\n",
       " Text(0, 3, ''),\n",
       " Text(0, 3, ''),\n",
       " Text(0, 3, ''),\n",
       " Text(0, 3, ''),\n",
       " Text(0, 3, ''),\n",
       " Text(0, 3, ''),\n",
       " Text(0, 3, 'lc'),\n",
       " Text(0, 3, 'lc'),\n",
       " Text(0, 3, 'lc'),\n",
       " Text(0, 3, ''),\n",
       " Text(0, 3, ''),\n",
       " Text(0, 3, 'lc'),\n",
       " Text(0, 3, 'lc'),\n",
       " Text(0, 3, ''),\n",
       " Text(0, 3, ''),\n",
       " Text(0, 3, 'lc'),\n",
       " Text(0, 3, ''),\n",
       " Text(0, 3, 'lc'),\n",
       " Text(0, 3, 'lc'),\n",
       " Text(0, 3, 'lc'),\n",
       " Text(0, 3, ''),\n",
       " Text(0, 3, ''),\n",
       " Text(0, 3, ''),\n",
       " Text(0, -3, ''),\n",
       " Text(0, -3, ''),\n",
       " Text(0, -3, ''),\n",
       " Text(0, -3, ''),\n",
       " Text(0, -3, ''),\n",
       " Text(0, -3, 'lc'),\n",
       " Text(0, -3, 'lc'),\n",
       " Text(0, -3, ''),\n",
       " Text(0, -3, ''),\n",
       " Text(0, -3, 'lc'),\n",
       " Text(0, -3, ''),\n",
       " Text(0, -3, 'lc')]"
      ]
     },
     "execution_count": 12,
     "metadata": {},
     "output_type": "execute_result"
    },
    {
     "data": {
      "image/png": "[encoded data removed]",
      "text/plain": [
       "<Figure size 345.6x180 with 1 Axes>"
      ]
     },
     "metadata": {
      "needs_background": "light"
     },
     "output_type": "display_data"
    }
   ],
   "source": [
    "ax = plt.gca()\n",
    "ax = sns.barplot(x=\"monomer\", y=\"diffup\", data=df_sig, dodge=True, lw=0.5)\n",
    "for i, bar in enumerate(ax.patches):\n",
    "    if i<27:\n",
    "        bar.set_color(\"w\")\n",
    "        bar.set_edgecolor(\"#007100\")\n",
    "    else:\n",
    "        bar.set_color(\"w\")\n",
    "        bar.set_edgecolor(\"#bd5e8b\")\n",
    "#ax.set(ylabel='', rotation=90)\n",
    "\n",
    "plt.xticks(range(0,39), df_sig[\"monomer\"], rotation='vertical')\n",
    "ax.set(ylabel='Metabolite uptake (positive - negative responder) [%]', xlabel=\"\")\n",
    "ax.bar_label(ax.containers[0], labels=['lc','lc', 'lc','','','','','','','','lc','lc','lc','','','lc','lc','','','lc','','lc','lc','lc','','','','','','','','','lc','lc','','','lc','','lc'], padding=3, size=4)\n",
    "#plt.savefig(\"/Users/glmarschmann/.julia/dev/DEBmicroTrait/pnas/figures_main/isolates_mixed_medium_relative_uptake_horiz.svg\", format='svg')"
   ]
  },
  {
   "cell_type": "markdown",
   "id": "cc132cc9",
   "metadata": {},
   "source": [
    "# CUE"
   ]
  },
  {
   "cell_type": "code",
   "execution_count": 13,
   "id": "05c611e0",
   "metadata": {},
   "outputs": [
    {
     "name": "stderr",
     "output_type": "stream",
     "text": [
      "/Users/glmarschmann/anaconda3/lib/python3.7/site-packages/ipykernel_launcher.py:1: SettingWithCopyWarning: \n",
      "A value is trying to be set on a copy of a slice from a DataFrame\n",
      "\n",
      "See the caveats in the documentation: https://pandas.pydata.org/pandas-docs/stable/user_guide/indexing.html#returning-a-view-versus-a-copy\n",
      "  \"\"\"Entry point for launching an IPython kernel.\n"
     ]
    }
   ],
   "source": [
    "df_sig[\"response\"][df_sig[\"diffup\"] < 0] = \"negative\""
   ]
  },
  {
   "cell_type": "code",
   "execution_count": 14,
   "id": "d0c94d29",
   "metadata": {},
   "outputs": [],
   "source": [
    "df_bge = df_bge.loc[(df_bge.response == \"positive\") | (df_bge.response == \"negative\")]\n",
    "df_bge_grouped = df_bge.groupby([\"monomer\", \"response\"]).median().agg(lambda x: list(x)).reset_index()"
   ]
  },
  {
   "cell_type": "code",
   "execution_count": 15,
   "id": "70557c52",
   "metadata": {},
   "outputs": [],
   "source": [
    "d = (\n",
    "    df_bge_grouped.merge(df_sig, \n",
    "              on=['monomer'],\n",
    "              how='left', \n",
    "              indicator=True)\n",
    "    .query('_merge == \"both\"')\n",
    "    .drop(columns='_merge')\n",
    ")"
   ]
  },
  {
   "cell_type": "code",
   "execution_count": 16,
   "id": "e7fcb15b",
   "metadata": {},
   "outputs": [
    {
     "data": {
      "text/html": [
       "<div>\n",
       "<style scoped>\n",
       "    .dataframe tbody tr th:only-of-type {\n",
       "        vertical-align: middle;\n",
       "    }\n",
       "\n",
       "    .dataframe tbody tr th {\n",
       "        vertical-align: top;\n",
       "    }\n",
       "\n",
       "    .dataframe thead th {\n",
       "        text-align: right;\n",
       "    }\n",
       "</style>\n",
       "<table border=\"1\" class=\"dataframe\">\n",
       "  <thead>\n",
       "    <tr style=\"text-align: right;\">\n",
       "      <th></th>\n",
       "      <th>monomer</th>\n",
       "      <th>response_x</th>\n",
       "      <th>mingt</th>\n",
       "      <th>rrn</th>\n",
       "      <th>genomesize</th>\n",
       "      <th>BGE_x</th>\n",
       "      <th>rgrowth</th>\n",
       "      <th>BP</th>\n",
       "      <th>BR</th>\n",
       "      <th>response_y</th>\n",
       "      <th>percent_uptake</th>\n",
       "      <th>BGE_y</th>\n",
       "      <th>diff_percent_uptake</th>\n",
       "      <th>diff_BGE</th>\n",
       "      <th>diffup</th>\n",
       "      <th>diffBGE</th>\n",
       "    </tr>\n",
       "  </thead>\n",
       "  <tbody>\n",
       "    <tr>\n",
       "      <th>0</th>\n",
       "      <td>2,3-Dihydroxybenzoic acid</td>\n",
       "      <td>negative</td>\n",
       "      <td>3.16</td>\n",
       "      <td>9.0</td>\n",
       "      <td>5974969.0</td>\n",
       "      <td>0.390992</td>\n",
       "      <td>0.014717</td>\n",
       "      <td>1.437970e-09</td>\n",
       "      <td>1.307751e-09</td>\n",
       "      <td>positive</td>\n",
       "      <td>0.998747</td>\n",
       "      <td>0.505829</td>\n",
       "      <td>0.045396</td>\n",
       "      <td>0.114837</td>\n",
       "      <td>4.545344</td>\n",
       "      <td>22.702722</td>\n",
       "    </tr>\n",
       "    <tr>\n",
       "      <th>1</th>\n",
       "      <td>2,3-Dihydroxybenzoic acid</td>\n",
       "      <td>positive</td>\n",
       "      <td>5.32</td>\n",
       "      <td>3.0</td>\n",
       "      <td>6657122.0</td>\n",
       "      <td>0.505829</td>\n",
       "      <td>0.020320</td>\n",
       "      <td>2.232295e-09</td>\n",
       "      <td>1.197374e-09</td>\n",
       "      <td>positive</td>\n",
       "      <td>0.998747</td>\n",
       "      <td>0.505829</td>\n",
       "      <td>0.045396</td>\n",
       "      <td>0.114837</td>\n",
       "      <td>4.545344</td>\n",
       "      <td>22.702722</td>\n",
       "    </tr>\n",
       "    <tr>\n",
       "      <th>4</th>\n",
       "      <td>3-Dehydroshikimic acid</td>\n",
       "      <td>negative</td>\n",
       "      <td>3.16</td>\n",
       "      <td>9.0</td>\n",
       "      <td>5974969.0</td>\n",
       "      <td>0.390983</td>\n",
       "      <td>0.014732</td>\n",
       "      <td>1.437904e-09</td>\n",
       "      <td>1.309391e-09</td>\n",
       "      <td>positive</td>\n",
       "      <td>0.998349</td>\n",
       "      <td>0.505821</td>\n",
       "      <td>0.051186</td>\n",
       "      <td>0.114838</td>\n",
       "      <td>5.127018</td>\n",
       "      <td>22.703210</td>\n",
       "    </tr>\n",
       "    <tr>\n",
       "      <th>5</th>\n",
       "      <td>3-Dehydroshikimic acid</td>\n",
       "      <td>positive</td>\n",
       "      <td>5.32</td>\n",
       "      <td>3.0</td>\n",
       "      <td>6657122.0</td>\n",
       "      <td>0.505821</td>\n",
       "      <td>0.020296</td>\n",
       "      <td>2.232043e-09</td>\n",
       "      <td>1.195909e-09</td>\n",
       "      <td>positive</td>\n",
       "      <td>0.998349</td>\n",
       "      <td>0.505821</td>\n",
       "      <td>0.051186</td>\n",
       "      <td>0.114838</td>\n",
       "      <td>5.127018</td>\n",
       "      <td>22.703210</td>\n",
       "    </tr>\n",
       "    <tr>\n",
       "      <th>26</th>\n",
       "      <td>abscisic acid</td>\n",
       "      <td>negative</td>\n",
       "      <td>3.16</td>\n",
       "      <td>9.0</td>\n",
       "      <td>5974969.0</td>\n",
       "      <td>0.452414</td>\n",
       "      <td>0.014717</td>\n",
       "      <td>1.438098e-09</td>\n",
       "      <td>1.093090e-09</td>\n",
       "      <td>positive</td>\n",
       "      <td>0.999813</td>\n",
       "      <td>0.567081</td>\n",
       "      <td>0.078281</td>\n",
       "      <td>0.114667</td>\n",
       "      <td>7.829537</td>\n",
       "      <td>20.220585</td>\n",
       "    </tr>\n",
       "  </tbody>\n",
       "</table>\n",
       "</div>"
      ],
      "text/plain": [
       "                      monomer response_x  mingt  rrn  genomesize     BGE_x  \\\n",
       "0   2,3-Dihydroxybenzoic acid   negative   3.16  9.0   5974969.0  0.390992   \n",
       "1   2,3-Dihydroxybenzoic acid   positive   5.32  3.0   6657122.0  0.505829   \n",
       "4      3-Dehydroshikimic acid   negative   3.16  9.0   5974969.0  0.390983   \n",
       "5      3-Dehydroshikimic acid   positive   5.32  3.0   6657122.0  0.505821   \n",
       "26              abscisic acid   negative   3.16  9.0   5974969.0  0.452414   \n",
       "\n",
       "     rgrowth            BP            BR response_y  percent_uptake     BGE_y  \\\n",
       "0   0.014717  1.437970e-09  1.307751e-09   positive        0.998747  0.505829   \n",
       "1   0.020320  2.232295e-09  1.197374e-09   positive        0.998747  0.505829   \n",
       "4   0.014732  1.437904e-09  1.309391e-09   positive        0.998349  0.505821   \n",
       "5   0.020296  2.232043e-09  1.195909e-09   positive        0.998349  0.505821   \n",
       "26  0.014717  1.438098e-09  1.093090e-09   positive        0.999813  0.567081   \n",
       "\n",
       "    diff_percent_uptake  diff_BGE    diffup    diffBGE  \n",
       "0              0.045396  0.114837  4.545344  22.702722  \n",
       "1              0.045396  0.114837  4.545344  22.702722  \n",
       "4              0.051186  0.114838  5.127018  22.703210  \n",
       "5              0.051186  0.114838  5.127018  22.703210  \n",
       "26             0.078281  0.114667  7.829537  20.220585  "
      ]
     },
     "execution_count": 16,
     "metadata": {},
     "output_type": "execute_result"
    }
   ],
   "source": [
    "d.head()"
   ]
  },
  {
   "cell_type": "code",
   "execution_count": 17,
   "id": "a3672372",
   "metadata": {},
   "outputs": [],
   "source": [
    "fig_height = 3/2.1                       # inches  \n",
    "golden_mean = (np.sqrt(5)-1.0)/2.0      # Aesthetic ratio\n",
    "fig_width = 5/2.5     # height in inches\n",
    "dpi = 300.0                             # Convert inch to pt\n",
    "\n",
    "# Margins are specified as a fraction of axes size.\n",
    "# May need to adjust (especially left and bottom) to accomodate axes labels/tickmarks\n",
    "leftmargin = 0.15\n",
    "bottommargin = 0.2\n",
    "rightmargin = 0.05\n",
    "topmargin = 0.1\n",
    "# These two parameters are used for adjusting spacing between subplots (when used)\n",
    "wspace = 0.2\n",
    "hspace = 0.2\n",
    "\n",
    "fig_size =  [fig_width,fig_height]\n",
    "params = {'backend': 'svg',\n",
    "          'axes.labelsize': 5,\n",
    "          'axes.titlesize': 12,\n",
    "          'legend.fontsize': 5,\n",
    "          'xtick.labelsize': 5,\n",
    "          'ytick.labelsize': 5,\n",
    "          'figure.figsize': fig_size,\n",
    "          'text.usetex': False, \n",
    "          'font.family':'sans-serif',\n",
    "          'font.sans-serif':'Arial',\n",
    "          'svg.fonttype':'none'}"
   ]
  },
  {
   "cell_type": "code",
   "execution_count": 18,
   "id": "ab4903c3",
   "metadata": {},
   "outputs": [
    {
     "data": {
      "text/plain": [
       "<Axes:>"
      ]
     },
     "execution_count": 18,
     "metadata": {},
     "output_type": "execute_result"
    },
    {
     "data": {
      "image/png": "[encoded data removed]",
      "text/plain": [
       "<Figure size 144x102.857 with 1 Axes>"
      ]
     },
     "metadata": {
      "needs_background": "light"
     },
     "output_type": "display_data"
    }
   ],
   "source": [
    "plt.rcParams.update(params)\n",
    "plt.figure(1)\n",
    "plt.clf()\n",
    "plt.axes([leftmargin,\n",
    "            bottommargin,\n",
    "            1.0 - rightmargin-leftmargin,\n",
    "            1.0 - topmargin-bottommargin])"
   ]
  },
  {
   "cell_type": "code",
   "execution_count": 19,
   "id": "ceca559c",
   "metadata": {},
   "outputs": [
    {
     "data": {
      "text/plain": [
       "[Text(0, 0.5, 'Carbon use efficiency [-]'), Text(0.5, 0, '')]"
      ]
     },
     "execution_count": 19,
     "metadata": {},
     "output_type": "execute_result"
    },
    {
     "data": {
      "image/png": "[encoded data removed]",
      "text/plain": [
       "<Figure size 144x102.857 with 1 Axes>"
      ]
     },
     "metadata": {
      "needs_background": "light"
     },
     "output_type": "display_data"
    }
   ],
   "source": [
    "ax = plt.gca()\n",
    "ax = sns.stripplot(x=\"response_x\", y=\"BGE_x\", hue=\"response_y\", palette =[\"k\", 'k'], data=d, dodge=True, size=2, order=[\"positive\", \"negative\"])\n",
    "ax = sns.boxplot(x=\"response_x\", y=\"BGE_x\", hue=\"response_y\", data=d, palette =[\"#007100\", '#bd5e8b'], showfliers=False, linewidth=1, order=[\"positive\", \"negative\"])\n",
    "ax.set(ylabel='Carbon use efficiency [-]', xlabel='')\n",
    "#plt.savefig(\"/Users/glmarschmann/.julia/dev/DEBmicroTrait/pnas/figures_main/isolates_mixed_medium_bge.svg\", format='svg')"
   ]
  },
  {
   "cell_type": "markdown",
   "id": "338a4e62",
   "metadata": {},
   "source": [
    "# Statistics"
   ]
  },
  {
   "cell_type": "code",
   "execution_count": 20,
   "id": "b9fb3d6c",
   "metadata": {},
   "outputs": [],
   "source": [
    "df_negative_u = d.loc[(d.response_x == \"negative\")]\n",
    "df_positive_u = d.loc[(d.response_x == \"positive\")]\n",
    "df_negative_up = df_negative_u.loc[(df_negative_u.response_y == \"positive\")]\n",
    "df_negative_un = df_negative_u.loc[(df_negative_u.response_y == \"negative\")]\n",
    "df_positive_up = df_positive_u.loc[(df_positive_u.response_y == \"positive\")]\n",
    "df_positive_un = df_positive_u.loc[(df_positive_u.response_y == \"negative\")]"
   ]
  },
  {
   "cell_type": "code",
   "execution_count": 21,
   "id": "39aa8704",
   "metadata": {},
   "outputs": [],
   "source": [
    "from scipy import stats"
   ]
  },
  {
   "cell_type": "code",
   "execution_count": 22,
   "id": "1f4013a5",
   "metadata": {},
   "outputs": [
    {
     "data": {
      "text/plain": [
       "KruskalResult(statistic=9.633333333333354, pvalue=0.0019107751373644167)"
      ]
     },
     "execution_count": 22,
     "metadata": {},
     "output_type": "execute_result"
    }
   ],
   "source": [
    "stats.kruskal(df_positive_up[\"BGE_x\"], df_positive_un[\"BGE_x\"])"
   ]
  },
  {
   "cell_type": "code",
   "execution_count": 23,
   "id": "43b817be",
   "metadata": {},
   "outputs": [
    {
     "data": {
      "text/plain": [
       "KruskalResult(statistic=0.8333333333333428, pvalue=0.361310428526176)"
      ]
     },
     "execution_count": 23,
     "metadata": {},
     "output_type": "execute_result"
    }
   ],
   "source": [
    "stats.kruskal(df_negative_up[\"BGE_x\"], df_negative_un[\"BGE_x\"])"
   ]
  },
  {
   "cell_type": "code",
   "execution_count": 24,
   "id": "10cba794",
   "metadata": {},
   "outputs": [
    {
     "data": {
      "text/plain": [
       "KruskalResult(statistic=23.636906099418297, pvalue=1.163347958331681e-06)"
      ]
     },
     "execution_count": 24,
     "metadata": {},
     "output_type": "execute_result"
    }
   ],
   "source": [
    "stats.kruskal(df_positive_u[\"BGE_x\"], df_negative_u[\"BGE_x\"])"
   ]
  },
  {
   "cell_type": "code",
   "execution_count": null,
   "id": "4e0efc94",
   "metadata": {},
   "outputs": [],
   "source": []
  }
 ],
 "metadata": {
  "kernelspec": {
   "display_name": "Python 3 (ipykernel)",
   "language": "python",
   "name": "python3"
  },
  "language_info": {
   "codemirror_mode": {
    "name": "ipython",
    "version": 3
   },
   "file_extension": ".py",
   "mimetype": "text/x-python",
   "name": "python",
   "nbconvert_exporter": "python",
   "pygments_lexer": "ipython3",
   "version": "3.7.1"
  }
 },
 "nbformat": 4,
 "nbformat_minor": 5
}
