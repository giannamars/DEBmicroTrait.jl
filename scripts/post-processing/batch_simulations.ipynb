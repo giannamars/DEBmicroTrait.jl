{
 "cells": [
  {
   "cell_type": "code",
   "execution_count": 3,
   "id": "cad85309",
   "metadata": {},
   "outputs": [],
   "source": [
    "import numpy as np\n",
    "import seaborn as sns\n",
    "import matplotlib.pyplot as plt\n",
    "from matplotlib import ticker, cm\n",
    "from matplotlib.ticker import StrMethodFormatter, NullFormatter\n",
    "import pandas as pd\n",
    "from sklearn.preprocessing import StandardScaler\n",
    "from sklearn.decomposition import PCA\n",
    "from scipy import stats\n",
    "import h5py"
   ]
  },
  {
   "cell_type": "markdown",
   "id": "18f9a92c",
   "metadata": {},
   "source": [
    "# Main Figure 3"
   ]
  },
  {
   "cell_type": "code",
   "execution_count": 4,
   "id": "d224f780",
   "metadata": {},
   "outputs": [],
   "source": [
    "fig_width = 4.5                        # inches  \n",
    "golden_mean = (np.sqrt(5)-1.0)/2.0      # Aesthetic ratio\n",
    "fig_height = 3.5      # height in inches\n",
    "dpi = 300.0  \n",
    "# Margins are specified as a fraction of axes size.\n",
    "# May need to adjust (especially left and bottom) to accomodate axes labels/tickmarks\n",
    "leftmargin = 0.15\n",
    "bottommargin = 0.2\n",
    "rightmargin = 0.05\n",
    "topmargin = 0.1\n",
    "# These two parameters are used for adjusting spacing between subplots (when used)\n",
    "wspace = 0.2\n",
    "hspace = 0.2\n",
    "\n",
    "fig_size =  [fig_width,fig_height]\n",
    "params = {'backend': 'svg',\n",
    "          'axes.labelsize': 12,\n",
    "          'axes.titlesize': 12,\n",
    "          'legend.fontsize': 10,\n",
    "          'xtick.labelsize': 12,\n",
    "          'ytick.labelsize': 12,\n",
    "          'figure.figsize': fig_size,\n",
    "          'text.usetex': False, \n",
    "          'font.family':'sans-serif',\n",
    "          'font.sans-serif':'Arial',\n",
    "          'svg.fonttype':'none'}"
   ]
  },
  {
   "cell_type": "markdown",
   "id": "4f5289b2",
   "metadata": {},
   "source": [
    "# Flux PCA"
   ]
  },
  {
   "cell_type": "code",
   "execution_count": 204,
   "id": "5ba68395",
   "metadata": {},
   "outputs": [
    {
     "data": {
      "text/html": [
       "<div>\n",
       "<style scoped>\n",
       "    .dataframe tbody tr th:only-of-type {\n",
       "        vertical-align: middle;\n",
       "    }\n",
       "\n",
       "    .dataframe tbody tr th {\n",
       "        vertical-align: top;\n",
       "    }\n",
       "\n",
       "    .dataframe thead th {\n",
       "        text-align: right;\n",
       "    }\n",
       "</style>\n",
       "<table border=\"1\" class=\"dataframe\">\n",
       "  <thead>\n",
       "    <tr style=\"text-align: right;\">\n",
       "      <th></th>\n",
       "      <th>rgrowth</th>\n",
       "      <th>xenzyme</th>\n",
       "      <th>rGco2</th>\n",
       "      <th>rMco2</th>\n",
       "      <th>rXco2</th>\n",
       "      <th>jEX</th>\n",
       "      <th>jDE</th>\n",
       "      <th>jDEco2</th>\n",
       "      <th>jD</th>\n",
       "      <th>jED</th>\n",
       "      <th>jV</th>\n",
       "      <th>jE</th>\n",
       "      <th>dreserve</th>\n",
       "      <th>response</th>\n",
       "      <th>isolate</th>\n",
       "      <th>ontology</th>\n",
       "    </tr>\n",
       "  </thead>\n",
       "  <tbody>\n",
       "    <tr>\n",
       "      <th>0</th>\n",
       "      <td>0.059213</td>\n",
       "      <td>0.000457</td>\n",
       "      <td>0.000261</td>\n",
       "      <td>0.000088</td>\n",
       "      <td>2.014209e-06</td>\n",
       "      <td>0.000007</td>\n",
       "      <td>0.001366</td>\n",
       "      <td>0.000455</td>\n",
       "      <td>0.001821</td>\n",
       "      <td>0.000004</td>\n",
       "      <td>0.001285</td>\n",
       "      <td>0.000004</td>\n",
       "      <td>0.081456</td>\n",
       "      <td>positive</td>\n",
       "      <td>Acidobacteriaceae bacterium URHE0068</td>\n",
       "      <td>Amino acids</td>\n",
       "    </tr>\n",
       "    <tr>\n",
       "      <th>1</th>\n",
       "      <td>0.127318</td>\n",
       "      <td>0.000419</td>\n",
       "      <td>0.000630</td>\n",
       "      <td>0.000008</td>\n",
       "      <td>2.072272e-06</td>\n",
       "      <td>0.000002</td>\n",
       "      <td>0.001126</td>\n",
       "      <td>0.000375</td>\n",
       "      <td>0.001501</td>\n",
       "      <td>0.000002</td>\n",
       "      <td>0.000929</td>\n",
       "      <td>0.000002</td>\n",
       "      <td>0.136902</td>\n",
       "      <td>negative</td>\n",
       "      <td>Bacillus sp. URHB0009</td>\n",
       "      <td>Amino acids</td>\n",
       "    </tr>\n",
       "    <tr>\n",
       "      <th>2</th>\n",
       "      <td>0.097510</td>\n",
       "      <td>0.000225</td>\n",
       "      <td>0.000470</td>\n",
       "      <td>0.000009</td>\n",
       "      <td>1.085467e-06</td>\n",
       "      <td>0.000002</td>\n",
       "      <td>0.001211</td>\n",
       "      <td>0.000404</td>\n",
       "      <td>0.001615</td>\n",
       "      <td>0.000002</td>\n",
       "      <td>0.001169</td>\n",
       "      <td>0.000002</td>\n",
       "      <td>0.100524</td>\n",
       "      <td>undefined</td>\n",
       "      <td>Blastococcus sp. URHD0036</td>\n",
       "      <td>Amino acids</td>\n",
       "    </tr>\n",
       "    <tr>\n",
       "      <th>3</th>\n",
       "      <td>0.057814</td>\n",
       "      <td>0.000085</td>\n",
       "      <td>0.000253</td>\n",
       "      <td>0.000117</td>\n",
       "      <td>3.711103e-07</td>\n",
       "      <td>0.000001</td>\n",
       "      <td>0.001369</td>\n",
       "      <td>0.000456</td>\n",
       "      <td>0.001826</td>\n",
       "      <td>0.000003</td>\n",
       "      <td>0.001256</td>\n",
       "      <td>0.000003</td>\n",
       "      <td>0.071506</td>\n",
       "      <td>positive</td>\n",
       "      <td>Bradyrhizobium sp. URHA0002</td>\n",
       "      <td>Amino acids</td>\n",
       "    </tr>\n",
       "    <tr>\n",
       "      <th>4</th>\n",
       "      <td>0.060674</td>\n",
       "      <td>0.000116</td>\n",
       "      <td>0.000246</td>\n",
       "      <td>0.000148</td>\n",
       "      <td>4.680717e-07</td>\n",
       "      <td>0.000002</td>\n",
       "      <td>0.001378</td>\n",
       "      <td>0.000459</td>\n",
       "      <td>0.001837</td>\n",
       "      <td>0.000003</td>\n",
       "      <td>0.001266</td>\n",
       "      <td>0.000003</td>\n",
       "      <td>0.072229</td>\n",
       "      <td>positive</td>\n",
       "      <td>Bradyrhizobium sp. URHA0013</td>\n",
       "      <td>Amino acids</td>\n",
       "    </tr>\n",
       "  </tbody>\n",
       "</table>\n",
       "</div>"
      ],
      "text/plain": [
       "    rgrowth   xenzyme     rGco2     rMco2         rXco2       jEX       jDE  \\\n",
       "0  0.059213  0.000457  0.000261  0.000088  2.014209e-06  0.000007  0.001366   \n",
       "1  0.127318  0.000419  0.000630  0.000008  2.072272e-06  0.000002  0.001126   \n",
       "2  0.097510  0.000225  0.000470  0.000009  1.085467e-06  0.000002  0.001211   \n",
       "3  0.057814  0.000085  0.000253  0.000117  3.711103e-07  0.000001  0.001369   \n",
       "4  0.060674  0.000116  0.000246  0.000148  4.680717e-07  0.000002  0.001378   \n",
       "\n",
       "     jDEco2        jD       jED        jV        jE  dreserve   response  \\\n",
       "0  0.000455  0.001821  0.000004  0.001285  0.000004  0.081456   positive   \n",
       "1  0.000375  0.001501  0.000002  0.000929  0.000002  0.136902   negative   \n",
       "2  0.000404  0.001615  0.000002  0.001169  0.000002  0.100524  undefined   \n",
       "3  0.000456  0.001826  0.000003  0.001256  0.000003  0.071506   positive   \n",
       "4  0.000459  0.001837  0.000003  0.001266  0.000003  0.072229   positive   \n",
       "\n",
       "                                isolate     ontology  \n",
       "0  Acidobacteriaceae bacterium URHE0068  Amino acids  \n",
       "1                 Bacillus sp. URHB0009  Amino acids  \n",
       "2             Blastococcus sp. URHD0036  Amino acids  \n",
       "3           Bradyrhizobium sp. URHA0002  Amino acids  \n",
       "4           Bradyrhizobium sp. URHA0013  Amino acids  "
      ]
     },
     "execution_count": 204,
     "metadata": {},
     "output_type": "execute_result"
    }
   ],
   "source": [
    "df = pd.read_csv(\"/Users/glmarschmann/.julia/dev/DEBmicroTrait/files/isolates_batch_model_fluxes.csv\")\n",
    "#df = df.loc[(df.response == \"positive\") | (df.response == \"negative\")]\n",
    "df_high = df[df.rgrowth >  0.041]\n",
    "df_low = df[df.rgrowth <  0.04]\n",
    "df_high = df_high.dropna()\n",
    "df_low = df_low.dropna()\n",
    "df_high[\"turnover\"] = df_high[\"jV\"] + df_high['jE']\n",
    "df_low[\"turnover\"] = df_low[\"jV\"] + df_low['jE']\n",
    "df.head()"
   ]
  },
  {
   "cell_type": "markdown",
   "id": "7b06cc6f",
   "metadata": {},
   "source": [
    "## High growth regime"
   ]
  },
  {
   "cell_type": "code",
   "execution_count": 148,
   "id": "0e040e83",
   "metadata": {},
   "outputs": [],
   "source": [
    "features = ['rGco2', 'rMco2', 'jDEco2', 'rXco2', 'turnover', 'dreserve']"
   ]
  },
  {
   "cell_type": "code",
   "execution_count": 149,
   "id": "e7d03f2b",
   "metadata": {},
   "outputs": [],
   "source": [
    "x = df_high.loc[:, features].values# Separating out the target\n",
    "y = df_high.loc[:,['response']].values# Standardizing the features\n",
    "x = StandardScaler().fit_transform(x)"
   ]
  },
  {
   "cell_type": "code",
   "execution_count": 150,
   "id": "6a9f7aa6",
   "metadata": {},
   "outputs": [],
   "source": [
    "pca = PCA(n_components=2)\n",
    "principalComponents = pca.fit_transform(x)\n",
    "principalDf = pd.DataFrame(data = principalComponents, columns = ['principal component 1', 'principal component 2'])"
   ]
  },
  {
   "cell_type": "code",
   "execution_count": 151,
   "id": "f2bb8416",
   "metadata": {},
   "outputs": [
    {
     "data": {
      "text/html": [
       "<div>\n",
       "<style scoped>\n",
       "    .dataframe tbody tr th:only-of-type {\n",
       "        vertical-align: middle;\n",
       "    }\n",
       "\n",
       "    .dataframe tbody tr th {\n",
       "        vertical-align: top;\n",
       "    }\n",
       "\n",
       "    .dataframe thead th {\n",
       "        text-align: right;\n",
       "    }\n",
       "</style>\n",
       "<table border=\"1\" class=\"dataframe\">\n",
       "  <thead>\n",
       "    <tr style=\"text-align: right;\">\n",
       "      <th></th>\n",
       "      <th>principal component 1</th>\n",
       "      <th>principal component 2</th>\n",
       "      <th>response</th>\n",
       "    </tr>\n",
       "  </thead>\n",
       "  <tbody>\n",
       "    <tr>\n",
       "      <th>0</th>\n",
       "      <td>-0.667129</td>\n",
       "      <td>0.133432</td>\n",
       "      <td>positive</td>\n",
       "    </tr>\n",
       "    <tr>\n",
       "      <th>1</th>\n",
       "      <td>0.933191</td>\n",
       "      <td>0.533443</td>\n",
       "      <td>negative</td>\n",
       "    </tr>\n",
       "    <tr>\n",
       "      <th>2</th>\n",
       "      <td>-0.023052</td>\n",
       "      <td>0.749472</td>\n",
       "      <td>undefined</td>\n",
       "    </tr>\n",
       "    <tr>\n",
       "      <th>3</th>\n",
       "      <td>-1.537262</td>\n",
       "      <td>0.398557</td>\n",
       "      <td>positive</td>\n",
       "    </tr>\n",
       "    <tr>\n",
       "      <th>4</th>\n",
       "      <td>-1.633412</td>\n",
       "      <td>0.195425</td>\n",
       "      <td>positive</td>\n",
       "    </tr>\n",
       "  </tbody>\n",
       "</table>\n",
       "</div>"
      ],
      "text/plain": [
       "   principal component 1  principal component 2   response\n",
       "0              -0.667129               0.133432   positive\n",
       "1               0.933191               0.533443   negative\n",
       "2              -0.023052               0.749472  undefined\n",
       "3              -1.537262               0.398557   positive\n",
       "4              -1.633412               0.195425   positive"
      ]
     },
     "execution_count": 151,
     "metadata": {},
     "output_type": "execute_result"
    }
   ],
   "source": [
    "finalDf = pd.concat([principalDf, df_high[['response']]], axis = 1)\n",
    "finalDf.head()"
   ]
  },
  {
   "cell_type": "code",
   "execution_count": 152,
   "id": "b690064a",
   "metadata": {},
   "outputs": [
    {
     "data": {
      "text/html": [
       "<div>\n",
       "<style scoped>\n",
       "    .dataframe tbody tr th:only-of-type {\n",
       "        vertical-align: middle;\n",
       "    }\n",
       "\n",
       "    .dataframe tbody tr th {\n",
       "        vertical-align: top;\n",
       "    }\n",
       "\n",
       "    .dataframe thead th {\n",
       "        text-align: right;\n",
       "    }\n",
       "</style>\n",
       "<table border=\"1\" class=\"dataframe\">\n",
       "  <thead>\n",
       "    <tr style=\"text-align: right;\">\n",
       "      <th></th>\n",
       "      <th>rgrowth</th>\n",
       "      <th>xenzyme</th>\n",
       "      <th>rGco2</th>\n",
       "      <th>rMco2</th>\n",
       "      <th>rXco2</th>\n",
       "      <th>jEX</th>\n",
       "      <th>jDE</th>\n",
       "      <th>jDEco2</th>\n",
       "      <th>jD</th>\n",
       "      <th>jED</th>\n",
       "      <th>jV</th>\n",
       "      <th>jE</th>\n",
       "      <th>dreserve</th>\n",
       "      <th>turnover</th>\n",
       "      <th>pc1</th>\n",
       "      <th>pc2</th>\n",
       "    </tr>\n",
       "    <tr>\n",
       "      <th>response</th>\n",
       "      <th></th>\n",
       "      <th></th>\n",
       "      <th></th>\n",
       "      <th></th>\n",
       "      <th></th>\n",
       "      <th></th>\n",
       "      <th></th>\n",
       "      <th></th>\n",
       "      <th></th>\n",
       "      <th></th>\n",
       "      <th></th>\n",
       "      <th></th>\n",
       "      <th></th>\n",
       "      <th></th>\n",
       "      <th></th>\n",
       "      <th></th>\n",
       "    </tr>\n",
       "  </thead>\n",
       "  <tbody>\n",
       "    <tr>\n",
       "      <th>negative</th>\n",
       "      <td>0.075963</td>\n",
       "      <td>0.000337</td>\n",
       "      <td>0.000503</td>\n",
       "      <td>0.000039</td>\n",
       "      <td>0.000002</td>\n",
       "      <td>0.000003</td>\n",
       "      <td>0.001310</td>\n",
       "      <td>0.000328</td>\n",
       "      <td>0.001638</td>\n",
       "      <td>0.000002</td>\n",
       "      <td>0.001106</td>\n",
       "      <td>0.000002</td>\n",
       "      <td>0.083893</td>\n",
       "      <td>0.001109</td>\n",
       "      <td>0.015670</td>\n",
       "      <td>-0.051490</td>\n",
       "    </tr>\n",
       "    <tr>\n",
       "      <th>positive</th>\n",
       "      <td>0.068021</td>\n",
       "      <td>0.000184</td>\n",
       "      <td>0.000399</td>\n",
       "      <td>0.000092</td>\n",
       "      <td>0.000001</td>\n",
       "      <td>0.000003</td>\n",
       "      <td>0.001495</td>\n",
       "      <td>0.000382</td>\n",
       "      <td>0.001878</td>\n",
       "      <td>0.000003</td>\n",
       "      <td>0.001268</td>\n",
       "      <td>0.000003</td>\n",
       "      <td>0.073309</td>\n",
       "      <td>0.001271</td>\n",
       "      <td>-0.052451</td>\n",
       "      <td>-0.013506</td>\n",
       "    </tr>\n",
       "    <tr>\n",
       "      <th>undefined</th>\n",
       "      <td>0.099919</td>\n",
       "      <td>0.000302</td>\n",
       "      <td>0.000598</td>\n",
       "      <td>0.000008</td>\n",
       "      <td>0.000002</td>\n",
       "      <td>0.000003</td>\n",
       "      <td>0.001528</td>\n",
       "      <td>0.000390</td>\n",
       "      <td>0.001918</td>\n",
       "      <td>0.000003</td>\n",
       "      <td>0.001484</td>\n",
       "      <td>0.000003</td>\n",
       "      <td>0.097256</td>\n",
       "      <td>0.001487</td>\n",
       "      <td>0.059248</td>\n",
       "      <td>0.058306</td>\n",
       "    </tr>\n",
       "  </tbody>\n",
       "</table>\n",
       "</div>"
      ],
      "text/plain": [
       "            rgrowth   xenzyme     rGco2     rMco2     rXco2       jEX  \\\n",
       "response                                                                \n",
       "negative   0.075963  0.000337  0.000503  0.000039  0.000002  0.000003   \n",
       "positive   0.068021  0.000184  0.000399  0.000092  0.000001  0.000003   \n",
       "undefined  0.099919  0.000302  0.000598  0.000008  0.000002  0.000003   \n",
       "\n",
       "                jDE    jDEco2        jD       jED        jV        jE  \\\n",
       "response                                                                \n",
       "negative   0.001310  0.000328  0.001638  0.000002  0.001106  0.000002   \n",
       "positive   0.001495  0.000382  0.001878  0.000003  0.001268  0.000003   \n",
       "undefined  0.001528  0.000390  0.001918  0.000003  0.001484  0.000003   \n",
       "\n",
       "           dreserve  turnover       pc1       pc2  \n",
       "response                                           \n",
       "negative   0.083893  0.001109  0.015670 -0.051490  \n",
       "positive   0.073309  0.001271 -0.052451 -0.013506  \n",
       "undefined  0.097256  0.001487  0.059248  0.058306  "
      ]
     },
     "execution_count": 152,
     "metadata": {},
     "output_type": "execute_result"
    }
   ],
   "source": [
    "xs = principalComponents[:,0]\n",
    "ys = principalComponents[:,1]\n",
    "scalex = 1.0/(xs.max() - xs.min())\n",
    "scaley = 1.0/(ys.max() - ys.min())\n",
    "df_high['pc1'] = xs*scalex\n",
    "df_high['pc2'] = ys*scaley\n",
    "df_high_grouped = df_high.groupby('response').mean()\n",
    "df_high_grouped.head()"
   ]
  },
  {
   "cell_type": "code",
   "execution_count": 134,
   "id": "4f2ba950",
   "metadata": {},
   "outputs": [
    {
     "data": {
      "text/plain": [
       "array([0.38333518, 0.21138702])"
      ]
     },
     "execution_count": 134,
     "metadata": {},
     "output_type": "execute_result"
    }
   ],
   "source": [
    "pca.explained_variance_ratio_"
   ]
  },
  {
   "cell_type": "code",
   "execution_count": 135,
   "id": "f782cfc3",
   "metadata": {},
   "outputs": [
    {
     "data": {
      "text/plain": [
       "<Axes:>"
      ]
     },
     "execution_count": 135,
     "metadata": {},
     "output_type": "execute_result"
    },
    {
     "data": {
      "image/png": "[encoded data removed]",
      "text/plain": [
       "<Figure size 324x252 with 1 Axes>"
      ]
     },
     "metadata": {
      "needs_background": "light"
     },
     "output_type": "display_data"
    }
   ],
   "source": [
    "plt.rcParams.update(params)\n",
    "plt.figure(1)\n",
    "plt.clf()\n",
    "plt.axes([leftmargin,\n",
    "            bottommargin,\n",
    "            1.0 - rightmargin-leftmargin,\n",
    "            1.0 - topmargin-bottommargin])"
   ]
  },
  {
   "cell_type": "code",
   "execution_count": 136,
   "id": "927f98de",
   "metadata": {},
   "outputs": [
    {
     "data": {
      "text/plain": [
       "Text(0, 0.5, 'PC 2 (38% explained var.)')"
      ]
     },
     "execution_count": 136,
     "metadata": {},
     "output_type": "execute_result"
    },
    {
     "data": {
      "image/png": "[encoded data removed]",
      "text/plain": [
       "<Figure size 324x252 with 1 Axes>"
      ]
     },
     "metadata": {
      "needs_background": "light"
     },
     "output_type": "display_data"
    }
   ],
   "source": [
    "features =['Growth', 'Maintenance', 'Assimilation', 'Enzyme', 'Turnover', 'Reserve']\n",
    "plt.scatter(df_high['pc1'],df_high['pc2'], s=30, marker='o', edgecolor='#a6761d', alpha=0.1, color='none')\n",
    "x=np.linspace(start=-1,stop=1,num=500)\n",
    "y_positive=lambda x: np.sqrt(1-x**2) \n",
    "y_negative=lambda x: -np.sqrt(1-x**2)\n",
    "#plt.plot(x,list(map(y_positive, x)), color='k', lw=1)\n",
    "#plt.plot(x,list(map(y_negative, x)),color='k', lw=1)\n",
    "x=np.linspace(start=-1,stop=1,num=30)\n",
    "#plt.scatter(x,[0]*len(x), marker='_',color='k', lw=1)\n",
    "#plt.scatter([0]*len(x), x, marker='|',color='k', lw=1)\n",
    "add_string=\"\"\n",
    "for i in range(len(values[0])):\n",
    "    xi=values[0][i]\n",
    "    yi=values[1][i]\n",
    "    plt.arrow(0,0, \n",
    "              dx=xi, dy=yi, \n",
    "              head_width=0.03, head_length=0.03, lw=2,\n",
    "              color='#3182bd', length_includes_head=True)\n",
    "    add_string=\"\"\n",
    "    add_string=f\" ({round(xi,2)} {round(yi,2)})\"\n",
    "    plt.text(values[0, i], \n",
    "             values[1, i] , \n",
    "             s=features[i], size=11)\n",
    "\n",
    "plt.scatter(df_high_grouped['pc1'][1],df_high_grouped['pc2'][1], s=100, marker='^', color='#007100', edgecolor='k')\n",
    "plt.scatter(df_high_grouped['pc1'][0],df_high_grouped['pc2'][0], s=100, marker= 'v', color='#bd5e8b', edgecolor='k')\n",
    "plt.scatter(df_high_grouped['pc1'][2],df_high_grouped['pc2'][2], s=100, marker= 's', color='w', edgecolor='k')\n",
    "ax = plt.gca()\n",
    "ax.set_yticks([-0.5, -0.25, 0, 0.25, 0.5,0.75])\n",
    "ax.set_xlabel(\"PC 1 (21% explained var.)\")\n",
    "ax.set_ylabel(\"PC 2 (38% explained var.)\")\n",
    "#plt.savefig(\"/Users/glmarschmann/.julia/dev/DEBmicroTrait/pnas/figures_main/batch_high_pca.svg\", format='svg')"
   ]
  },
  {
   "cell_type": "code",
   "execution_count": 110,
   "id": "863125a5",
   "metadata": {},
   "outputs": [],
   "source": [
    "df_high.to_csv('/Users/glmarschmann/.julia/dev/DEBmicroTrait/files/isolates_batch_model_fluxes_high.csv')"
   ]
  },
  {
   "cell_type": "markdown",
   "id": "a48bcb3f",
   "metadata": {},
   "source": [
    "## Low growth regime "
   ]
  },
  {
   "cell_type": "code",
   "execution_count": 205,
   "id": "edf16f14",
   "metadata": {},
   "outputs": [],
   "source": [
    "features = ['rGco2', 'rMco2', 'jDEco2', 'rXco2', 'turnover', 'dreserve']"
   ]
  },
  {
   "cell_type": "code",
   "execution_count": 206,
   "id": "4a5e41f6",
   "metadata": {},
   "outputs": [],
   "source": [
    "x = df_low.loc[:, features].values# Separating out the target\n",
    "y = df_low.loc[:,['response']].values# Standardizing the features\n",
    "x = StandardScaler().fit_transform(x)"
   ]
  },
  {
   "cell_type": "code",
   "execution_count": 207,
   "id": "0b63645a",
   "metadata": {},
   "outputs": [],
   "source": [
    "pca = PCA(n_components=2)\n",
    "principalComponents = pca.fit_transform(x)\n",
    "principalDf = pd.DataFrame(data = principalComponents, columns = ['principal component 1', 'principal component 2'])"
   ]
  },
  {
   "cell_type": "code",
   "execution_count": 208,
   "id": "d4aa50cb",
   "metadata": {},
   "outputs": [],
   "source": [
    "values = pca.components_"
   ]
  },
  {
   "cell_type": "code",
   "execution_count": 209,
   "id": "72145d1d",
   "metadata": {},
   "outputs": [
    {
     "data": {
      "text/html": [
       "<div>\n",
       "<style scoped>\n",
       "    .dataframe tbody tr th:only-of-type {\n",
       "        vertical-align: middle;\n",
       "    }\n",
       "\n",
       "    .dataframe tbody tr th {\n",
       "        vertical-align: top;\n",
       "    }\n",
       "\n",
       "    .dataframe thead th {\n",
       "        text-align: right;\n",
       "    }\n",
       "</style>\n",
       "<table border=\"1\" class=\"dataframe\">\n",
       "  <thead>\n",
       "    <tr style=\"text-align: right;\">\n",
       "      <th></th>\n",
       "      <th>principal component 1</th>\n",
       "      <th>principal component 2</th>\n",
       "      <th>response</th>\n",
       "    </tr>\n",
       "  </thead>\n",
       "  <tbody>\n",
       "    <tr>\n",
       "      <th>0</th>\n",
       "      <td>2.824385</td>\n",
       "      <td>-0.399912</td>\n",
       "      <td>NaN</td>\n",
       "    </tr>\n",
       "    <tr>\n",
       "      <th>1</th>\n",
       "      <td>2.463360</td>\n",
       "      <td>-0.442121</td>\n",
       "      <td>NaN</td>\n",
       "    </tr>\n",
       "    <tr>\n",
       "      <th>2</th>\n",
       "      <td>2.614647</td>\n",
       "      <td>-0.033798</td>\n",
       "      <td>NaN</td>\n",
       "    </tr>\n",
       "    <tr>\n",
       "      <th>3</th>\n",
       "      <td>2.838731</td>\n",
       "      <td>0.667397</td>\n",
       "      <td>NaN</td>\n",
       "    </tr>\n",
       "    <tr>\n",
       "      <th>4</th>\n",
       "      <td>-1.498301</td>\n",
       "      <td>0.011894</td>\n",
       "      <td>NaN</td>\n",
       "    </tr>\n",
       "  </tbody>\n",
       "</table>\n",
       "</div>"
      ],
      "text/plain": [
       "   principal component 1  principal component 2 response\n",
       "0               2.824385              -0.399912      NaN\n",
       "1               2.463360              -0.442121      NaN\n",
       "2               2.614647              -0.033798      NaN\n",
       "3               2.838731               0.667397      NaN\n",
       "4              -1.498301               0.011894      NaN"
      ]
     },
     "execution_count": 209,
     "metadata": {},
     "output_type": "execute_result"
    }
   ],
   "source": [
    "finalDf = pd.concat([principalDf, df_low[['response']]], axis = 1)\n",
    "finalDf.head()"
   ]
  },
  {
   "cell_type": "code",
   "execution_count": 210,
   "id": "9939c6a7",
   "metadata": {},
   "outputs": [
    {
     "data": {
      "text/html": [
       "<div>\n",
       "<style scoped>\n",
       "    .dataframe tbody tr th:only-of-type {\n",
       "        vertical-align: middle;\n",
       "    }\n",
       "\n",
       "    .dataframe tbody tr th {\n",
       "        vertical-align: top;\n",
       "    }\n",
       "\n",
       "    .dataframe thead th {\n",
       "        text-align: right;\n",
       "    }\n",
       "</style>\n",
       "<table border=\"1\" class=\"dataframe\">\n",
       "  <thead>\n",
       "    <tr style=\"text-align: right;\">\n",
       "      <th></th>\n",
       "      <th>rgrowth</th>\n",
       "      <th>xenzyme</th>\n",
       "      <th>rGco2</th>\n",
       "      <th>rMco2</th>\n",
       "      <th>rXco2</th>\n",
       "      <th>jEX</th>\n",
       "      <th>jDE</th>\n",
       "      <th>jDEco2</th>\n",
       "      <th>jD</th>\n",
       "      <th>jED</th>\n",
       "      <th>jV</th>\n",
       "      <th>jE</th>\n",
       "      <th>dreserve</th>\n",
       "      <th>turnover</th>\n",
       "      <th>pc1</th>\n",
       "      <th>pc2</th>\n",
       "    </tr>\n",
       "    <tr>\n",
       "      <th>response</th>\n",
       "      <th></th>\n",
       "      <th></th>\n",
       "      <th></th>\n",
       "      <th></th>\n",
       "      <th></th>\n",
       "      <th></th>\n",
       "      <th></th>\n",
       "      <th></th>\n",
       "      <th></th>\n",
       "      <th></th>\n",
       "      <th></th>\n",
       "      <th></th>\n",
       "      <th></th>\n",
       "      <th></th>\n",
       "      <th></th>\n",
       "      <th></th>\n",
       "    </tr>\n",
       "  </thead>\n",
       "  <tbody>\n",
       "    <tr>\n",
       "      <th>negative</th>\n",
       "      <td>0.012114</td>\n",
       "      <td>0.000056</td>\n",
       "      <td>0.000159</td>\n",
       "      <td>0.000005</td>\n",
       "      <td>7.621929e-07</td>\n",
       "      <td>8.509180e-07</td>\n",
       "      <td>0.000376</td>\n",
       "      <td>0.000080</td>\n",
       "      <td>0.000455</td>\n",
       "      <td>6.381508e-07</td>\n",
       "      <td>0.000256</td>\n",
       "      <td>6.381508e-07</td>\n",
       "      <td>0.013066</td>\n",
       "      <td>0.000257</td>\n",
       "      <td>-0.058733</td>\n",
       "      <td>-0.044889</td>\n",
       "    </tr>\n",
       "    <tr>\n",
       "      <th>positive</th>\n",
       "      <td>0.016839</td>\n",
       "      <td>0.000056</td>\n",
       "      <td>0.000158</td>\n",
       "      <td>0.000033</td>\n",
       "      <td>4.189700e-07</td>\n",
       "      <td>1.262579e-06</td>\n",
       "      <td>0.000651</td>\n",
       "      <td>0.000146</td>\n",
       "      <td>0.000797</td>\n",
       "      <td>1.524069e-06</td>\n",
       "      <td>0.000544</td>\n",
       "      <td>1.524069e-06</td>\n",
       "      <td>0.022387</td>\n",
       "      <td>0.000545</td>\n",
       "      <td>0.032579</td>\n",
       "      <td>0.034580</td>\n",
       "    </tr>\n",
       "    <tr>\n",
       "      <th>undefined</th>\n",
       "      <td>0.013893</td>\n",
       "      <td>0.000050</td>\n",
       "      <td>0.000175</td>\n",
       "      <td>0.000002</td>\n",
       "      <td>5.800181e-07</td>\n",
       "      <td>9.955312e-07</td>\n",
       "      <td>0.000486</td>\n",
       "      <td>0.000101</td>\n",
       "      <td>0.000587</td>\n",
       "      <td>9.681393e-07</td>\n",
       "      <td>0.000399</td>\n",
       "      <td>9.681393e-07</td>\n",
       "      <td>0.017393</td>\n",
       "      <td>0.000400</td>\n",
       "      <td>-0.025280</td>\n",
       "      <td>-0.037084</td>\n",
       "    </tr>\n",
       "  </tbody>\n",
       "</table>\n",
       "</div>"
      ],
      "text/plain": [
       "            rgrowth   xenzyme     rGco2     rMco2         rXco2           jEX  \\\n",
       "response                                                                        \n",
       "negative   0.012114  0.000056  0.000159  0.000005  7.621929e-07  8.509180e-07   \n",
       "positive   0.016839  0.000056  0.000158  0.000033  4.189700e-07  1.262579e-06   \n",
       "undefined  0.013893  0.000050  0.000175  0.000002  5.800181e-07  9.955312e-07   \n",
       "\n",
       "                jDE    jDEco2        jD           jED        jV            jE  \\\n",
       "response                                                                        \n",
       "negative   0.000376  0.000080  0.000455  6.381508e-07  0.000256  6.381508e-07   \n",
       "positive   0.000651  0.000146  0.000797  1.524069e-06  0.000544  1.524069e-06   \n",
       "undefined  0.000486  0.000101  0.000587  9.681393e-07  0.000399  9.681393e-07   \n",
       "\n",
       "           dreserve  turnover       pc1       pc2  \n",
       "response                                           \n",
       "negative   0.013066  0.000257 -0.058733 -0.044889  \n",
       "positive   0.022387  0.000545  0.032579  0.034580  \n",
       "undefined  0.017393  0.000400 -0.025280 -0.037084  "
      ]
     },
     "execution_count": 210,
     "metadata": {},
     "output_type": "execute_result"
    }
   ],
   "source": [
    "xs = principalComponents[:,0]\n",
    "ys = principalComponents[:,1]\n",
    "scalex = 1.0/(xs.max() - xs.min())\n",
    "scaley = 1.0/(ys.max() - ys.min())\n",
    "df_low['pc1'] = xs*scalex\n",
    "df_low['pc2'] = ys*scaley\n",
    "df_low_grouped = df_low.groupby('response').mean()\n",
    "df_low_grouped.head()"
   ]
  },
  {
   "cell_type": "code",
   "execution_count": 211,
   "id": "1d8ce61a",
   "metadata": {},
   "outputs": [
    {
     "data": {
      "text/plain": [
       "array([0.61220044, 0.15881581])"
      ]
     },
     "execution_count": 211,
     "metadata": {},
     "output_type": "execute_result"
    }
   ],
   "source": [
    "pca.explained_variance_ratio_"
   ]
  },
  {
   "cell_type": "code",
   "execution_count": 212,
   "id": "adb9e66e",
   "metadata": {},
   "outputs": [
    {
     "data": {
      "text/plain": [
       "<Axes:>"
      ]
     },
     "execution_count": 212,
     "metadata": {},
     "output_type": "execute_result"
    },
    {
     "data": {
      "image/png": "[encoded data removed]",
      "text/plain": [
       "<Figure size 324x252 with 1 Axes>"
      ]
     },
     "metadata": {
      "needs_background": "light"
     },
     "output_type": "display_data"
    }
   ],
   "source": [
    "plt.rcParams.update(params)\n",
    "plt.figure(1)\n",
    "plt.clf()\n",
    "plt.axes([leftmargin,\n",
    "            bottommargin,\n",
    "            1.0 - rightmargin-leftmargin,\n",
    "            1.0 - topmargin-bottommargin])"
   ]
  },
  {
   "cell_type": "code",
   "execution_count": 213,
   "id": "f851b01f",
   "metadata": {},
   "outputs": [
    {
     "data": {
      "text/plain": [
       "Text(0, 0.5, 'PC 2 (61% explained var.)')"
      ]
     },
     "execution_count": 213,
     "metadata": {},
     "output_type": "execute_result"
    },
    {
     "data": {
      "image/png": "[encoded data removed]",
      "text/plain": [
       "<Figure size 324x252 with 1 Axes>"
      ]
     },
     "metadata": {
      "needs_background": "light"
     },
     "output_type": "display_data"
    }
   ],
   "source": [
    "features =['Growth', 'Maintenance', 'Assimilation', 'Enzyme', 'Turnover', 'Reserve']\n",
    "plt.scatter(df_low['pc1'],df_low['pc2'], s=30, marker='o', edgecolor='#666666', alpha=0.1, color='none')\n",
    "x=np.linspace(start=-1,stop=1,num=500)\n",
    "y_positive=lambda x: np.sqrt(1-x**2) \n",
    "y_negative=lambda x: -np.sqrt(1-x**2)\n",
    "#plt.plot(x,list(map(y_positive, x)), color='k', lw=1)\n",
    "#plt.plot(x,list(map(y_negative, x)),color='k', lw=1)\n",
    "x=np.linspace(start=-1,stop=1,num=30)\n",
    "#plt.scatter(x,[0]*len(x), marker='_',color='k', lw=1)\n",
    "#plt.scatter([0]*len(x), x, marker='|',color='k', lw=1)\n",
    "add_string=\"\"\n",
    "for i in range(len(values[0])):\n",
    "    xi=values[0][i]\n",
    "    yi=values[1][i]\n",
    "    plt.arrow(0,0, \n",
    "              dx=xi, dy=yi, \n",
    "              head_width=0.03, head_length=0.03, lw=2,\n",
    "              color='#3182bd', length_includes_head=True)\n",
    "    add_string=\"\"\n",
    "    add_string=f\" ({round(xi,2)} {round(yi,2)})\"\n",
    "    plt.text(values[0, i], \n",
    "             values[1, i] , \n",
    "             s=features[i], size=11)\n",
    "\n",
    "plt.scatter(df_low_grouped['pc1'][1],df_low_grouped['pc2'][1], s=100, marker='^', color='#007100', edgecolor='k')\n",
    "plt.scatter(df_low_grouped['pc1'][0],df_low_grouped['pc2'][0], s=100, marker= 'v', color='#bd5e8b', edgecolor='k')\n",
    "plt.scatter(df_low_grouped['pc1'][2],df_low_grouped['pc2'][2], s=100, marker= 's', color='w', edgecolor='k')\n",
    "ax = plt.gca()\n",
    "ax.set_yticks([-0.5, -0.25, 0, 0.25, 0.5, 0.75,1])\n",
    "ax.set_xlabel(\"PC 1 (16% explained var.)\")\n",
    "ax.set_ylabel(\"PC 2 (61% explained var.)\")\n",
    "#plt.savefig(\"/Users/glmarschmann/.julia/dev/DEBmicroTrait/pnas/figures_main/batch_low_pca.svg\", format='svg')"
   ]
  },
  {
   "cell_type": "code",
   "execution_count": 214,
   "id": "c061c96c",
   "metadata": {},
   "outputs": [],
   "source": [
    "df_low.to_csv('/Users/glmarschmann/.julia/dev/DEBmicroTrait/files/isolates_batch_model_fluxes_low.csv')"
   ]
  },
  {
   "cell_type": "markdown",
   "id": "9425975c",
   "metadata": {},
   "source": [
    "# Power-Yield"
   ]
  },
  {
   "cell_type": "code",
   "execution_count": 117,
   "id": "c03c59e1",
   "metadata": {},
   "outputs": [],
   "source": [
    "df_bge = pd.read_csv(\"/Users/glmarschmann/.julia/dev/DEBmicroTrait/files/isolates_batch_model_BGE.csv\")\n",
    "df_bge = df_bge.dropna()"
   ]
  },
  {
   "cell_type": "markdown",
   "id": "16e6f408",
   "metadata": {},
   "source": [
    "## Regression"
   ]
  },
  {
   "cell_type": "code",
   "execution_count": 84,
   "id": "dfb485d3",
   "metadata": {},
   "outputs": [],
   "source": [
    "df_bge_p_sugars = df_bge.loc[(df_bge.response == \"positive\") & (df_bge.ontology == \"Sugars\")]\n",
    "df_bge_p_organics = df_bge.loc[(df_bge.response == \"positive\") & (df_bge.ontology == \"Organic acids\")]\n",
    "df_bge_p_aminos = df_bge.loc[(df_bge.response == \"positive\") & (df_bge.ontology == \"Amino acids\")]\n",
    "df_bge_p_fattys = df_bge.loc[(df_bge.response == \"positive\") & (df_bge.ontology == \"Fatty acids\")]\n",
    "df_bge_p_nucleos = df_bge.loc[(df_bge.response == \"positive\") & (df_bge.ontology == \"Nucleotides\")]\n",
    "df_bge_p_auxins = df_bge.loc[(df_bge.response == \"positive\") & (df_bge.ontology == \"Auxins\")]\n",
    "df_bge_n_sugars = df_bge.loc[(df_bge.response == \"negative\") & (df_bge.ontology == \"Sugars\")]\n",
    "df_bge_n_organics = df_bge.loc[(df_bge.response == \"negative\") & (df_bge.ontology == \"Organic acids\")]\n",
    "df_bge_n_aminos = df_bge.loc[(df_bge.response == \"negative\") & (df_bge.ontology == \"Amino acids\")]\n",
    "df_bge_n_fattys = df_bge.loc[(df_bge.response == \"negative\") & (df_bge.ontology == \"Fatty acids\")]\n",
    "df_bge_n_nucleos = df_bge.loc[(df_bge.response == \"negative\") & (df_bge.ontology == \"Nucleotides\")]\n",
    "df_bge_n_auxins = df_bge.loc[(df_bge.response == \"negative\") & (df_bge.ontology == \"Auxins\")]\n",
    "df_bge_u_sugars = df_bge.loc[(df_bge.response == \"undefined\") & (df_bge.ontology == \"Sugars\")]\n",
    "df_bge_u_organics = df_bge.loc[(df_bge.response == \"undefined\") & (df_bge.ontology == \"Organic acids\")]\n",
    "df_bge_u_aminos = df_bge.loc[(df_bge.response == \"undefined\") & (df_bge.ontology == \"Amino acids\")]\n",
    "df_bge_u_fattys = df_bge.loc[(df_bge.response == \"undefined\") & (df_bge.ontology == \"Fatty acids\")]\n",
    "df_bge_u_nucleos = df_bge.loc[(df_bge.response == \"undefined\") & (df_bge.ontology == \"Nucleotides\")]\n",
    "df_bge_u_auxins = df_bge.loc[(df_bge.response == \"undefined\") & (df_bge.ontology == \"Auxins\")]\n",
    "#\n",
    "bge_grouped = df_bge.groupby([\"response\", \"ontology\"]).median()\n",
    "df_bge_high = bge_grouped[bge_grouped.rgrowth >  0.041]\n",
    "df_bge_low = bge_grouped[bge_grouped.rgrowth <  0.0407]"
   ]
  },
  {
   "cell_type": "code",
   "execution_count": 85,
   "id": "97c23bf1",
   "metadata": {},
   "outputs": [
    {
     "data": {
      "text/html": [
       "<div>\n",
       "<style scoped>\n",
       "    .dataframe tbody tr th:only-of-type {\n",
       "        vertical-align: middle;\n",
       "    }\n",
       "\n",
       "    .dataframe tbody tr th {\n",
       "        vertical-align: top;\n",
       "    }\n",
       "\n",
       "    .dataframe thead th {\n",
       "        text-align: right;\n",
       "    }\n",
       "</style>\n",
       "<table border=\"1\" class=\"dataframe\">\n",
       "  <thead>\n",
       "    <tr style=\"text-align: right;\">\n",
       "      <th></th>\n",
       "      <th></th>\n",
       "      <th>mingt</th>\n",
       "      <th>BGE</th>\n",
       "      <th>rgrowth</th>\n",
       "      <th>BP</th>\n",
       "      <th>BR</th>\n",
       "    </tr>\n",
       "    <tr>\n",
       "      <th>response</th>\n",
       "      <th>ontology</th>\n",
       "      <th></th>\n",
       "      <th></th>\n",
       "      <th></th>\n",
       "      <th></th>\n",
       "      <th></th>\n",
       "    </tr>\n",
       "  </thead>\n",
       "  <tbody>\n",
       "    <tr>\n",
       "      <th rowspan=\"2\" valign=\"top\">negative</th>\n",
       "      <th>Amino acids</th>\n",
       "      <td>3.16</td>\n",
       "      <td>0.482094</td>\n",
       "      <td>0.077103</td>\n",
       "      <td>1.034778e-08</td>\n",
       "      <td>6.999252e-09</td>\n",
       "    </tr>\n",
       "    <tr>\n",
       "      <th>Sugars</th>\n",
       "      <td>3.16</td>\n",
       "      <td>0.498416</td>\n",
       "      <td>0.066856</td>\n",
       "      <td>8.987512e-09</td>\n",
       "      <td>6.006086e-09</td>\n",
       "    </tr>\n",
       "    <tr>\n",
       "      <th>positive</th>\n",
       "      <th>Amino acids</th>\n",
       "      <td>5.32</td>\n",
       "      <td>0.576385</td>\n",
       "      <td>0.057780</td>\n",
       "      <td>7.419594e-09</td>\n",
       "      <td>3.292241e-09</td>\n",
       "    </tr>\n",
       "    <tr>\n",
       "      <th rowspan=\"2\" valign=\"top\">undefined</th>\n",
       "      <th>Amino acids</th>\n",
       "      <td>3.45</td>\n",
       "      <td>0.512486</td>\n",
       "      <td>0.065136</td>\n",
       "      <td>8.665203e-09</td>\n",
       "      <td>5.688567e-09</td>\n",
       "    </tr>\n",
       "    <tr>\n",
       "      <th>Sugars</th>\n",
       "      <td>3.45</td>\n",
       "      <td>0.535742</td>\n",
       "      <td>0.062709</td>\n",
       "      <td>8.540205e-09</td>\n",
       "      <td>4.680757e-09</td>\n",
       "    </tr>\n",
       "  </tbody>\n",
       "</table>\n",
       "</div>"
      ],
      "text/plain": [
       "                       mingt       BGE   rgrowth            BP            BR\n",
       "response  ontology                                                          \n",
       "negative  Amino acids   3.16  0.482094  0.077103  1.034778e-08  6.999252e-09\n",
       "          Sugars        3.16  0.498416  0.066856  8.987512e-09  6.006086e-09\n",
       "positive  Amino acids   5.32  0.576385  0.057780  7.419594e-09  3.292241e-09\n",
       "undefined Amino acids   3.45  0.512486  0.065136  8.665203e-09  5.688567e-09\n",
       "          Sugars        3.45  0.535742  0.062709  8.540205e-09  4.680757e-09"
      ]
     },
     "execution_count": 85,
     "metadata": {},
     "output_type": "execute_result"
    }
   ],
   "source": [
    "df_bge_high.head()"
   ]
  },
  {
   "cell_type": "code",
   "execution_count": 86,
   "id": "2562d700",
   "metadata": {},
   "outputs": [
    {
     "data": {
      "text/plain": [
       "<Axes:>"
      ]
     },
     "execution_count": 86,
     "metadata": {},
     "output_type": "execute_result"
    },
    {
     "data": {
      "image/png": "[encoded data removed]",
      "text/plain": [
       "<Figure size 324x252 with 1 Axes>"
      ]
     },
     "metadata": {
      "needs_background": "light"
     },
     "output_type": "display_data"
    }
   ],
   "source": [
    "plt.rcParams.update(params)\n",
    "plt.figure(1)\n",
    "plt.clf()\n",
    "plt.axes([leftmargin,\n",
    "            bottommargin,\n",
    "            1.0 - rightmargin-leftmargin,\n",
    "            1.0 - topmargin-bottommargin])"
   ]
  },
  {
   "cell_type": "code",
   "execution_count": 87,
   "id": "12c95c82",
   "metadata": {},
   "outputs": [
    {
     "data": {
      "text/plain": [
       "<matplotlib.legend.Legend at 0x7fd6b3879630>"
      ]
     },
     "execution_count": 87,
     "metadata": {},
     "output_type": "execute_result"
    },
    {
     "data": {
      "image/png": "[encoded data removed]",
      "text/plain": [
       "<Figure size 324x252 with 1 Axes>"
      ]
     },
     "metadata": {
      "needs_background": "light"
     },
     "output_type": "display_data"
    }
   ],
   "source": [
    "ax = plt.gca()\n",
    "ax = sns.regplot(x=\"BGE\", y=\"rgrowth\", data=df_bge_high, marker=\"\", line_kws={\"color\":\"#a6761d\",\"alpha\":1.0,\"lw\":2})\n",
    "ax = sns.regplot(x=\"BGE\", y=\"rgrowth\", data=df_bge_low, marker=\"\", line_kws={\"color\":\"#666666\",\"alpha\":1.0,\"lw\":2})\n",
    "\n",
    "plt.scatter(np.median(df_bge_p_sugars.BGE), np.median(df_bge_p_sugars.rgrowth), s=100, color='#d95f02', edgecolor='k', marker='^', label=\"\")\n",
    "plt.scatter(np.median(df_bge_p_organics.BGE), np.median(df_bge_p_organics.rgrowth), s=100, c='#1b9e77', edgecolor='k',marker='^', label=\"\")\n",
    "plt.scatter(np.median(df_bge_p_aminos.BGE), np.median(df_bge_p_aminos.rgrowth), s=100, c='#66a61e',edgecolor='k', marker='^',label=\"\")\n",
    "plt.scatter(np.median(df_bge_p_fattys.BGE), np.median(df_bge_p_fattys.rgrowth), s=100, c='#7570b3',edgecolor='k', marker='^',label=\"\")\n",
    "plt.scatter(np.median(df_bge_p_nucleos.BGE), np.median(df_bge_p_nucleos.rgrowth), s=100, c='#e7298a',edgecolor='k', marker='^',label=\"\")\n",
    "plt.scatter(np.median(df_bge_p_auxins.BGE), np.median(df_bge_p_auxins.rgrowth), s=100, c='#e6ab02',edgecolor='k', marker='^',label=\"\")\n",
    "plt.scatter(np.median(df_bge_n_sugars.BGE), np.median(df_bge_n_sugars.rgrowth), s=100, c='#d95f02',edgecolor='k', marker='v',label=\"\")\n",
    "plt.scatter(np.median(df_bge_n_organics.BGE), np.median(df_bge_n_organics.rgrowth), s=100, c='#1b9e77',edgecolor='k', marker='v',label=\"\")\n",
    "plt.scatter(np.median(df_bge_n_aminos.BGE), np.median(df_bge_n_aminos.rgrowth), s=100, c='#66a61e',edgecolor='k', marker='v',label=\"\")\n",
    "plt.scatter(np.median(df_bge_n_fattys.BGE), np.median(df_bge_n_fattys.rgrowth), s=100, c='#7570b3',edgecolor='k', marker='v',label=\"\")\n",
    "plt.scatter(np.median(df_bge_n_nucleos.BGE), np.median(df_bge_n_nucleos.rgrowth), s=100, c='#e7298a',edgecolor='k', marker='v',label=\"\")\n",
    "plt.scatter(np.median(df_bge_n_auxins.BGE), np.median(df_bge_n_auxins.rgrowth), s=100, c='#e6ab02',edgecolor='k', marker='v',label=\"\")\n",
    "plt.scatter(np.median(df_bge_u_sugars.BGE), np.median(df_bge_u_sugars.rgrowth), s=100, c='#d95f02',edgecolor='k', marker='s', label=\"Sugars\")\n",
    "plt.scatter(np.median(df_bge_u_organics.BGE), np.median(df_bge_u_organics.rgrowth), s=100, c='#1b9e77',edgecolor='k', marker='s', label=\"Organic acids\")\n",
    "plt.scatter(np.median(df_bge_u_aminos.BGE), np.median(df_bge_u_aminos.rgrowth), s=100, c='#66a61e',edgecolor='k', marker='s', label=\"Amino acids\")\n",
    "plt.scatter(np.median(df_bge_u_fattys.BGE), np.median(df_bge_u_fattys.rgrowth), s=100, c='#7570b3',edgecolor='k', marker='s', label=\"Fatty acids\")\n",
    "plt.scatter(np.median(df_bge_u_nucleos.BGE), np.median(df_bge_u_nucleos.rgrowth), s=100, c='#e7298a',edgecolor='k', marker='s', label=\"Nucleotides\")\n",
    "plt.scatter(np.median(df_bge_u_auxins.BGE), np.median(df_bge_u_auxins.rgrowth), s=100, c='#e6ab02',edgecolor='k', marker='s', label=\"Auxins\")\n",
    "plt.legend()\n",
    "\n",
    "ax.set_xlim([0.18, 0.6])\n",
    "ax.set_ylim([0.001, 0.085])\n",
    "ax.set(ylabel='Growth rate [h-1]', xlabel='Carbon use efficiency [-]')\n",
    "ax.set_yticks([0.005, 0.02, 0.04, 0.06, 0.08])\n",
    "ax.set_yticklabels([\"0.01\", \"0.02\", \"0.04\", \"0.06\", \"0.08\"])\n",
    "ax.set_xticks([0.2, 0.3, 0.4, 0.5, 0.6])\n",
    "ax.set_xticklabels([\"0.2\", \"0.3\", \"0.4\", \"0.5\", \"0.6\"])\n",
    "from matplotlib.patches import Patch\n",
    "from matplotlib.lines import Line2D\n",
    "legend_elements = [\n",
    "                   Line2D([0], [0], marker='_', color='#d95f02', label='Sugars',\n",
    "                          markerfacecolor='#d95f02', markersize=6),\n",
    "                   Line2D([0], [0], marker='_', color='#1b9e77', label='Organic acids',\n",
    "                          markerfacecolor='#1b9e77', markersize=6),\n",
    "                   Line2D([0], [0], marker='_', color='#66a61e', label='Amino acids',\n",
    "                          markerfacecolor='#66a61e', markersize=6),\n",
    "                   Line2D([0], [0], marker='_', color='#7570b3', label='Fatty acids',\n",
    "                          markerfacecolor='#7570b3', markersize=6),\n",
    "                   Line2D([0], [0], marker='_', color='#e7298a', label='Nucleotides',\n",
    "                          markerfacecolor='#e7298a', markersize=6),\n",
    "                   Line2D([0], [0], marker='_', color='#e6ab02', label='Auxins',\n",
    "                          markerfacecolor='#e6ab02', markersize=6),\n",
    "                   Line2D([0], [0], marker='^', color='w', label='Positive',\n",
    "                          markerfacecolor='none', mec='k', markersize=8),\n",
    "                   Line2D([0], [0], marker='v', color='w', label='Negative',\n",
    "                          markerfacecolor='none', mec='k', markersize=8),\n",
    "                   Line2D([0], [0], marker='s', color='w', label='Undefined',\n",
    "                          markerfacecolor='none', mec='k', markersize=8),\n",
    "]\n",
    "ax.legend(handles=legend_elements)\n",
    "#plt.savefig(\"/Users/glmarschmann/.julia/dev/DEBmicroTrait/pnas/figures_main/batch_growth_cue.svg\", format='svg')"
   ]
  },
  {
   "cell_type": "markdown",
   "id": "d7768851",
   "metadata": {},
   "source": [
    "## BP-BR scaling"
   ]
  },
  {
   "cell_type": "code",
   "execution_count": 121,
   "id": "5ef93925",
   "metadata": {},
   "outputs": [],
   "source": [
    "df_bge['BP'] = df_bge['BP'].apply(lambda x: x*1e9)\n",
    "df_bge['BR'] = df_bge['BR'].apply(lambda x: x*1e9)\n",
    "df_bge['BP'] = df_bge['BP'].apply(lambda x: np.log(x))\n",
    "df_bge['BR'] = df_bge['BR'].apply(lambda x: np.log(x))\n",
    "#\n",
    "df_bge_high = df_bge[df_bge.rgrowth >  0.041]\n",
    "df_bge_low = df_bge[df_bge.rgrowth <  0.0407]"
   ]
  },
  {
   "cell_type": "code",
   "execution_count": 89,
   "id": "2b064e87",
   "metadata": {},
   "outputs": [],
   "source": [
    "df_bge_high_p = df_bge_high.loc[(df_bge_high.response == \"positive\")]\n",
    "df_bge_high_n = df_bge_high.loc[(df_bge_high.response == \"negative\")]\n",
    "df_bge_high_u = df_bge_high.loc[(df_bge_high.response == \"undefined\")]\n",
    "bge_high_grouped_p = df_bge_high_p.groupby([\"isolate\"]).median()\n",
    "bge_high_grouped_n = df_bge_high_n.groupby([\"isolate\"]).median()\n",
    "bge_high_grouped_u = df_bge_high_u.groupby([\"isolate\"]).median()\n",
    "df_bge_low_p = df_bge_low.loc[(df_bge_low.response == \"positive\")]\n",
    "df_bge_low_n = df_bge_low.loc[(df_bge_low.response == \"negative\")]\n",
    "df_bge_low_u = df_bge_low.loc[(df_bge_low.response == \"undefined\")]\n",
    "bge_low_grouped_p = df_bge_low_p.groupby([\"isolate\"]).median()\n",
    "bge_low_grouped_n = df_bge_low_n.groupby([\"isolate\"]).median()\n",
    "bge_low_grouped_u = df_bge_low_u.groupby([\"isolate\"]).median()"
   ]
  },
  {
   "cell_type": "code",
   "execution_count": 90,
   "id": "f7a2eebd",
   "metadata": {},
   "outputs": [],
   "source": [
    "bge_high_iso = bge_high_grouped_p.append([bge_high_grouped_n, bge_high_grouped_u])\n",
    "bge_low_iso = bge_low_grouped_p.append([bge_low_grouped_n, bge_low_grouped_u])"
   ]
  },
  {
   "cell_type": "code",
   "execution_count": 91,
   "id": "2c0c18a6",
   "metadata": {},
   "outputs": [],
   "source": [
    "import matplotlib.ticker\n",
    "\n",
    "class OOMFormatter(matplotlib.ticker.ScalarFormatter):\n",
    "    def __init__(self, order=0, fformat=\"%1.1f\", offset=True, mathText=True):\n",
    "        self.oom = order\n",
    "        self.fformat = fformat\n",
    "        matplotlib.ticker.ScalarFormatter.__init__(self,useOffset=offset,useMathText=mathText)\n",
    "    def _set_order_of_magnitude(self):\n",
    "        self.orderOfMagnitude = self.oom\n",
    "    def _set_format(self, vmin=None, vmax=None):\n",
    "        self.format = self.fformat\n",
    "        if self._useMathText:\n",
    "            self.format = r'$\\mathdefault{%s}$' % self.format"
   ]
  },
  {
   "cell_type": "code",
   "execution_count": 92,
   "id": "2c4c0f91",
   "metadata": {},
   "outputs": [
    {
     "data": {
      "text/plain": [
       "<Axes:>"
      ]
     },
     "execution_count": 92,
     "metadata": {},
     "output_type": "execute_result"
    },
    {
     "data": {
      "image/png": "[encoded data removed]",
      "text/plain": [
       "<Figure size 324x252 with 1 Axes>"
      ]
     },
     "metadata": {
      "needs_background": "light"
     },
     "output_type": "display_data"
    }
   ],
   "source": [
    "plt.rcParams.update(params)\n",
    "plt.figure(1)\n",
    "plt.clf()\n",
    "plt.axes([leftmargin,\n",
    "            bottommargin,\n",
    "            1.0 - rightmargin-leftmargin,\n",
    "            1.0 - topmargin-bottommargin])"
   ]
  },
  {
   "cell_type": "code",
   "execution_count": 93,
   "id": "b553e312",
   "metadata": {},
   "outputs": [
    {
     "data": {
      "text/plain": [
       "<matplotlib.legend.Legend at 0x7fd6b482b518>"
      ]
     },
     "execution_count": 93,
     "metadata": {},
     "output_type": "execute_result"
    },
    {
     "data": {
      "image/png": "[encoded data removed]",
      "text/plain": [
       "<Figure size 324x252 with 1 Axes>"
      ]
     },
     "metadata": {
      "needs_background": "light"
     },
     "output_type": "display_data"
    }
   ],
   "source": [
    "plt.scatter(bge_high_grouped_p.BR, bge_high_grouped_p.BP, s=bge_high_grouped_p.BGE*120, marker='^', color='#007100', edgecolor='k', label=\"\")\n",
    "plt.scatter(bge_high_grouped_n.BR, bge_high_grouped_n.BP, s=bge_high_grouped_n.BGE*120, marker='v', color='#bd5e8b', edgecolor='k', label=\"\")\n",
    "plt.scatter(bge_high_grouped_u.BR, bge_high_grouped_u.BP, s=bge_high_grouped_u.BGE*120, marker='s', color='w', edgecolor='k', label=\"\")\n",
    "plt.scatter(bge_low_grouped_p.BR, bge_low_grouped_p.BP, s=bge_low_grouped_p.BGE*120, marker='^', color='#007100', edgecolor='k', label=\"Positive\")\n",
    "plt.scatter(bge_low_grouped_n.BR, bge_low_grouped_n.BP, s=bge_low_grouped_n.BGE*120, marker='v', color='#bd5e8b', edgecolor='k', label=\"Negative\")\n",
    "plt.scatter(bge_low_grouped_u.BR, bge_low_grouped_u.BP, s=bge_low_grouped_u.BGE*120, marker='s', color='w', edgecolor='k', label=\"Undefined\")\n",
    "ax = plt.gca()\n",
    "ax.set_xlim([0.2, 3.5])\n",
    "ax.set_ylim([0.001, 3.5])\n",
    "ax.set_yticks([0.1,1,2,3])\n",
    "ax.set_yticklabels([\"1\",\"10\", \"20\", \"30\"])\n",
    "ax.set_xticks([0.5,1,2,3])\n",
    "ax.set_xticklabels([\"1\",\"10\", \"20\", \"30\"])\n",
    "ax = sns.regplot(x=\"BR\", y=\"BP\", data=bge_high_iso, marker=\"\", line_kws={\"color\":\"#a6761d\",\"alpha\":1.0,\"lw\":2}, ci=95, truncate=False)\n",
    "ax = sns.regplot(x=\"BR\", y=\"BP\", data=bge_low_iso, marker=\"\", line_kws={\"color\":\"#666666\",\"alpha\":1.0,\"lw\":2},ci=95, truncate=True)\n",
    "ax.set(xlabel=\"Biomass respiration [nmol C cell-1 h-1]\", ylabel=\"Biomass production [nmol C cell-1 h-1]\")\n",
    "plt.legend(loc=\"lower right\")\n",
    "#plt.savefig(\"/Users/glmarschmann/.julia/dev/DEBmicroTrait/pnas/figures_main/batch_resp.svg\", format='svg')"
   ]
  },
  {
   "cell_type": "markdown",
   "id": "526fb889",
   "metadata": {},
   "source": [
    "# Supplementary Figures"
   ]
  },
  {
   "cell_type": "markdown",
   "id": "499c6c44",
   "metadata": {},
   "source": [
    "## CUE - growth distributions"
   ]
  },
  {
   "cell_type": "code",
   "execution_count": 94,
   "id": "29adde8f",
   "metadata": {},
   "outputs": [
    {
     "data": {
      "text/plain": [
       "<Axes:>"
      ]
     },
     "execution_count": 94,
     "metadata": {},
     "output_type": "execute_result"
    },
    {
     "data": {
      "image/png": "[encoded data removed]",
      "text/plain": [
       "<Figure size 324x252 with 1 Axes>"
      ]
     },
     "metadata": {
      "needs_background": "light"
     },
     "output_type": "display_data"
    }
   ],
   "source": [
    "plt.rcParams.update(params)\n",
    "plt.figure(1)\n",
    "plt.clf()\n",
    "plt.axes([leftmargin,\n",
    "            bottommargin,\n",
    "            1.0 - rightmargin-leftmargin,\n",
    "            1.0 - topmargin-bottommargin])"
   ]
  },
  {
   "cell_type": "code",
   "execution_count": 95,
   "id": "bd3af954",
   "metadata": {},
   "outputs": [
    {
     "data": {
      "text/plain": [
       "[<matplotlib.axis.XTick at 0x7fd6b3cf3d30>,\n",
       " <matplotlib.axis.XTick at 0x7fd6b49675f8>,\n",
       " <matplotlib.axis.XTick at 0x7fd6b4a36c50>,\n",
       " <matplotlib.axis.XTick at 0x7fd6b4b42780>]"
      ]
     },
     "execution_count": 95,
     "metadata": {},
     "output_type": "execute_result"
    },
    {
     "data": {
      "image/png": "[encoded data removed]",
      "text/plain": [
       "<Figure size 324x252 with 1 Axes>"
      ]
     },
     "metadata": {
      "needs_background": "light"
     },
     "output_type": "display_data"
    }
   ],
   "source": [
    "plt.hist(df_bge[\"BGE\"], bins=50, label=\"Batch simulations\", color='w', edgecolor='k')\n",
    "plt.xlabel(\"Carbon use efficiency [-]\")\n",
    "plt.ylabel(\"Frequency\")\n",
    "#plt.legend()\n",
    "ax = plt.gca()\n",
    "ax.set_xticks([0.1,0.3,0.5, 0.7])\n",
    "#plt.savefig(\"/Users/glmarschmann/.julia/dev/DEBmicroTrait/pnas/figures_suppl/batch_cue_hist.svg\", format='svg')"
   ]
  },
  {
   "cell_type": "code",
   "execution_count": 96,
   "id": "ead3619e",
   "metadata": {},
   "outputs": [
    {
     "data": {
      "text/plain": [
       "[<matplotlib.axis.XTick at 0x7fd6b4a88c50>,\n",
       " <matplotlib.axis.XTick at 0x7fd6b433f390>,\n",
       " <matplotlib.axis.XTick at 0x7fd6b433f7b8>,\n",
       " <matplotlib.axis.XTick at 0x7fd6b579b550>]"
      ]
     },
     "execution_count": 96,
     "metadata": {},
     "output_type": "execute_result"
    },
    {
     "data": {
      "image/png": "[encoded data removed]",
      "text/plain": [
       "<Figure size 324x252 with 1 Axes>"
      ]
     },
     "metadata": {
      "needs_background": "light"
     },
     "output_type": "display_data"
    }
   ],
   "source": [
    "plt.hist(df_bge[\"rgrowth\"], bins=100, label=\"Batch simulations\", color='w', edgecolor='k')\n",
    "plt.xlabel(\"Growth rate [h-1]\")\n",
    "plt.ylabel(\"Frequency\")\n",
    "#plt.legend()\n",
    "ax = plt.gca()\n",
    "ax.set_xscale('log')\n",
    "ax.set_xticks([5e-3,1e-2,1e-1, 8e-1])\n",
    "#plt.savefig(\"/Users/glmarschmann/.julia/dev/DEBmicroTrait/pnas/figures_suppl/batch_growth_hist.svg\", format='svg')"
   ]
  },
  {
   "cell_type": "code",
   "execution_count": 78,
   "id": "052a211b",
   "metadata": {},
   "outputs": [],
   "source": [
    "# Growth benchmarks"
   ]
  },
  {
   "cell_type": "code",
   "execution_count": 97,
   "id": "c45f7bc8",
   "metadata": {},
   "outputs": [
    {
     "data": {
      "text/plain": [
       "<Axes:>"
      ]
     },
     "execution_count": 97,
     "metadata": {},
     "output_type": "execute_result"
    },
    {
     "data": {
      "image/png": "[encoded data removed]",
      "text/plain": [
       "<Figure size 324x252 with 1 Axes>"
      ]
     },
     "metadata": {
      "needs_background": "light"
     },
     "output_type": "display_data"
    }
   ],
   "source": [
    "plt.rcParams.update(params)\n",
    "plt.figure(1)\n",
    "plt.clf()\n",
    "plt.axes([leftmargin,\n",
    "            bottommargin,\n",
    "            1.0 - rightmargin-leftmargin,\n",
    "            1.0 - topmargin-bottommargin])"
   ]
  },
  {
   "cell_type": "code",
   "execution_count": 226,
   "id": "76d71850",
   "metadata": {},
   "outputs": [
    {
     "data": {
      "image/png": "[encoded data removed]",
      "text/plain": [
       "<Figure size 324x252 with 1 Axes>"
      ]
     },
     "metadata": {
      "needs_background": "light"
     },
     "output_type": "display_data"
    }
   ],
   "source": [
    "plt.scatter(df_bge[\"rgrowth\"], np.log(2)/df_bge[\"mingt\"], s=25, color='w', edgecolor='k' )\n",
    "x = np.linspace(1e-3,1,100)\n",
    "y = x\n",
    "plt.plot(x, y, '--', c='k', label=\"\")\n",
    "plt.xlabel(\"Realized growth rate [h-1]\")\n",
    "plt.ylabel(\"Maximum growth rate [h-1]\")\n",
    "plt.xscale('log')\n",
    "plt.savefig(\"/Users/glmarschmann/.julia/dev/DEBmicroTrait/pnas/figures_suppl/suppl_growth_comp.svg\", format='svg')"
   ]
  },
  {
   "cell_type": "code",
   "execution_count": 217,
   "id": "11afa222",
   "metadata": {},
   "outputs": [
    {
     "data": {
      "text/plain": [
       "(39, 3)"
      ]
     },
     "execution_count": 217,
     "metadata": {},
     "output_type": "execute_result"
    }
   ],
   "source": [
    "df_glucose = pd.read_csv(\"/Users/glmarschmann/.julia/dev/DEBmicroTrait/files/isolates_batch_model_media.csv\")\n",
    "df_glucose.shape"
   ]
  },
  {
   "cell_type": "code",
   "execution_count": 221,
   "id": "b8f02e16",
   "metadata": {},
   "outputs": [],
   "source": [
    "df_glucose_non=df_glucose.drop(df_glucose.index[[10,28,29]])\n",
    "df_glucose_non.shape\n",
    "\n",
    "L=[10,28,29]\n",
    "df_glucose_out=df_glucose.iloc[L]"
   ]
  },
  {
   "cell_type": "code",
   "execution_count": 222,
   "id": "eb43d749",
   "metadata": {},
   "outputs": [
    {
     "data": {
      "text/plain": [
       "<Axes:>"
      ]
     },
     "execution_count": 222,
     "metadata": {},
     "output_type": "execute_result"
    },
    {
     "data": {
      "image/png": "[encoded data removed]",
      "text/plain": [
       "<Figure size 324x252 with 1 Axes>"
      ]
     },
     "metadata": {
      "needs_background": "light"
     },
     "output_type": "display_data"
    }
   ],
   "source": [
    "plt.rcParams.update(params)\n",
    "plt.figure(1)\n",
    "plt.clf()\n",
    "plt.axes([leftmargin,\n",
    "            bottommargin,\n",
    "            1.0 - rightmargin-leftmargin,\n",
    "            1.0 - topmargin-bottommargin])"
   ]
  },
  {
   "cell_type": "code",
   "execution_count": 225,
   "id": "383cc3bb",
   "metadata": {},
   "outputs": [
    {
     "data": {
      "image/png": "[encoded data removed]",
      "text/plain": [
       "<Figure size 324x252 with 1 Axes>"
      ]
     },
     "metadata": {
      "needs_background": "light"
     },
     "output_type": "display_data"
    }
   ],
   "source": [
    "# 4\n",
    "plt.scatter(df_glucose[\"rmedian\"], df_glucose[\"gmax\"], s=30, color='w', edgecolor='k', label='not significant' )\n",
    "plt.scatter(df_glucose_out[\"rmedian\"], df_glucose_out[\"gmax\"], s=30, color='w', edgecolor='r', label='significant' )\n",
    "x = np.linspace(5e-2,1,100)\n",
    "y = x\n",
    "plt.plot(x, y, '--', c='k', label=\"\")\n",
    "plt.xlabel(\"Realized growth rate [h-1]\")\n",
    "plt.ylabel(\"Maximum growth rate [h-1]\")\n",
    "plt.xscale('log')\n",
    "plt.yscale('log')\n",
    "plt.legend(title=\"Difference between\\n measured and predicted\", bbox_to_anchor=(1.01, 1))\n",
    "plt.savefig(\"/Users/glmarschmann/.julia/dev/DEBmicroTrait/pnas/figures_suppl/suppl_growth_benchmark.svg\", format='svg')"
   ]
  },
  {
   "cell_type": "markdown",
   "id": "43d4d092",
   "metadata": {},
   "source": [
    "## CUE boxplot"
   ]
  },
  {
   "cell_type": "code",
   "execution_count": 115,
   "id": "d11db0f0",
   "metadata": {},
   "outputs": [],
   "source": [
    "fig_width = 6.2                         # inches  \n",
    "golden_mean = (np.sqrt(5)-1.0)/2.0      # Aesthetic ratio\n",
    "fig_height = fig_width*golden_mean      # height in inches\n",
    "dpi = 300.0                             # Convert inch to pt\n",
    "\n",
    "# Margins are specified as a fraction of axes size.\n",
    "# May need to adjust (especially left and bottom) to accomodate axes labels/tickmarks\n",
    "leftmargin = 0.15\n",
    "bottommargin = 0.2\n",
    "rightmargin = 0.05\n",
    "topmargin = 0.1\n",
    "# These two parameters are used for adjusting spacing between subplots (when used)\n",
    "wspace = 0.2\n",
    "hspace = 0.2\n",
    "\n",
    "fig_size =  [fig_width,fig_height]\n",
    "params = {'backend': 'svg',\n",
    "          'axes.labelsize': 12,\n",
    "          'axes.titlesize': 12,\n",
    "          'legend.fontsize': 10,\n",
    "          'xtick.labelsize': 10,\n",
    "          'ytick.labelsize': 12,\n",
    "          'figure.figsize': fig_size,\n",
    "          'text.usetex': False, \n",
    "          'font.family':'sans-serif',\n",
    "          'font.sans-serif':'Arial',\n",
    "          'svg.fonttype':'none'}"
   ]
  },
  {
   "cell_type": "code",
   "execution_count": 116,
   "id": "6d6a064a",
   "metadata": {
    "collapsed": true
   },
   "outputs": [
    {
     "data": {
      "text/plain": [
       "<Axes:>"
      ]
     },
     "execution_count": 116,
     "metadata": {},
     "output_type": "execute_result"
    },
    {
     "data": {
      "image/png": "[encoded data removed]",
      "text/plain": [
       "<Figure size 446.4x275.89 with 1 Axes>"
      ]
     },
     "metadata": {
      "needs_background": "light"
     },
     "output_type": "display_data"
    }
   ],
   "source": [
    "plt.rcParams.update(params)\n",
    "plt.figure(1)\n",
    "plt.clf()\n",
    "plt.axes([leftmargin,\n",
    "            bottommargin,\n",
    "            1.0 - rightmargin-leftmargin,\n",
    "            1.0 - topmargin-bottommargin])"
   ]
  },
  {
   "cell_type": "code",
   "execution_count": 118,
   "id": "103d8476",
   "metadata": {},
   "outputs": [],
   "source": [
    "df_bge_pn = df_bge.loc[(df_bge.response == \"positive\") | (df_bge.response == \"negative\")]"
   ]
  },
  {
   "cell_type": "code",
   "execution_count": 120,
   "id": "fffbd516",
   "metadata": {},
   "outputs": [
    {
     "data": {
      "image/png": "[encoded data removed]",
      "text/plain": [
       "<Figure size 446.4x275.89 with 1 Axes>"
      ]
     },
     "metadata": {
      "needs_background": "light"
     },
     "output_type": "display_data"
    }
   ],
   "source": [
    "ax = plt.gca()\n",
    "ax = sns.stripplot(x=\"ontology\", y=\"BGE\", hue=\"response\", palette =[\"k\", 'k'], data=df_bge_pn, dodge=True, size=1, order=[\n",
    "                 'Amino acids', 'Organic acids', 'Sugars', 'Nucleotides', 'Fatty acids', 'Auxins'])\n",
    "ax = sns.boxplot(x=\"ontology\", y=\"BGE\", hue=\"response\", data=df_bge_pn, palette =[\"#007100\", '#bd5e8b'], showfliers=False,  whis=[5, 95], order=[\n",
    "                 'Amino acids', 'Organic acids', 'Sugars', 'Nucleotides', 'Fatty acids', 'Auxins'])\n",
    "ax.set(yscale=\"log\")\n",
    "ax.set(ylabel='Carbon use efficiency [-]', xlabel='')\n",
    "ax.set_ylim([7e-2, 1e0])\n",
    "plt.savefig(\"/Users/glmarschmann/.julia/dev/DEBmicroTrait/pnas/figures_suppl/isolates_batch_model_bge_pn.svg\", format=\"svg\")"
   ]
  },
  {
   "cell_type": "code",
   "execution_count": 126,
   "id": "bc05ddaf",
   "metadata": {},
   "outputs": [
    {
     "name": "stderr",
     "output_type": "stream",
     "text": [
      "/Users/glmarschmann/anaconda3/lib/python3.7/site-packages/ipykernel_launcher.py:3: SettingWithCopyWarning: \n",
      "A value is trying to be set on a copy of a slice from a DataFrame.\n",
      "Try using .loc[row_indexer,col_indexer] = value instead\n",
      "\n",
      "See the caveats in the documentation: https://pandas.pydata.org/pandas-docs/stable/user_guide/indexing.html#returning-a-view-versus-a-copy\n",
      "  This is separate from the ipykernel package so we can avoid doing imports until\n"
     ]
    }
   ],
   "source": [
    "df_bge_low = pd.read_csv('/Users/glmarschmann/.julia/dev/DEBmicroTrait/files/isolates_batch_model_fluxes_low.csv')\n",
    "df_low_pn = df_bge_low.loc[(df_bge_low.response == \"positive\") | (df_bge_low.response == \"negative\")]\n",
    "df_low_pn[\"mfrac\"] = df_low_pn[\"rMco2\"]/(df_low_pn[\"rMco2\"] + df_low_pn[\"rGco2\"] + df_low_pn[\"rXco2\"])"
   ]
  },
  {
   "cell_type": "code",
   "execution_count": 127,
   "id": "ebfb10fd",
   "metadata": {},
   "outputs": [],
   "source": [
    "fig_width = 0.9                       # inches  \n",
    "golden_mean = (np.sqrt(5)-1.0)/2.0      # Aesthetic ratio\n",
    "fig_height = 1.607      # height in inches\n",
    "dpi = 300.0                             # Convert inch to pt\n",
    "\n",
    "# Margins are specified as a fraction of axes size.\n",
    "# May need to adjust (especially left and bottom) to accomodate axes labels/tickmarks\n",
    "leftmargin = 0.15\n",
    "bottommargin = 0.2\n",
    "rightmargin = 0.05\n",
    "topmargin = 0.1\n",
    "# These two parameters are used for adjusting spacing between subplots (when used)\n",
    "wspace = 0.2\n",
    "hspace = 0.2\n",
    "\n",
    "fig_size =  [fig_width,fig_height]\n",
    "params = {'backend': 'svg',\n",
    "          'axes.labelsize': 8,\n",
    "          'axes.titlesize': 10,\n",
    "          'legend.fontsize': 6,\n",
    "          'xtick.labelsize': 6,\n",
    "          'ytick.labelsize': 8,\n",
    "          'figure.figsize': fig_size,\n",
    "          'text.usetex': False, \n",
    "          'font.family':'sans-serif',\n",
    "          'font.sans-serif':'Arial',\n",
    "          'svg.fonttype':'none'}"
   ]
  },
  {
   "cell_type": "code",
   "execution_count": 128,
   "id": "961cfe06",
   "metadata": {},
   "outputs": [
    {
     "data": {
      "text/plain": [
       "<Axes:>"
      ]
     },
     "execution_count": 128,
     "metadata": {},
     "output_type": "execute_result"
    },
    {
     "data": {
      "image/png": "[encoded data removed]",
      "text/plain": [
       "<Figure size 64.8x115.704 with 1 Axes>"
      ]
     },
     "metadata": {
      "needs_background": "light"
     },
     "output_type": "display_data"
    }
   ],
   "source": [
    "plt.rcParams.update(params)\n",
    "plt.figure(1)\n",
    "plt.clf()\n",
    "plt.axes([leftmargin,\n",
    "            bottommargin,\n",
    "            1.0 - rightmargin-leftmargin,\n",
    "            1.0 - topmargin-bottommargin])"
   ]
  },
  {
   "cell_type": "code",
   "execution_count": 131,
   "id": "78d8d9c0",
   "metadata": {},
   "outputs": [
    {
     "data": {
      "image/png": "[encoded data removed]",
      "text/plain": [
       "<Figure size 64.8x115.704 with 1 Axes>"
      ]
     },
     "metadata": {
      "needs_background": "light"
     },
     "output_type": "display_data"
    }
   ],
   "source": [
    "ax = plt.gca()\n",
    "ax = sns.stripplot(x=\"response\", y=\"mfrac\", hue=\"response\", palette =[\"k\", 'k'], data=df_low_pn, dodge=False, size=1, label='')\n",
    "ax = sns.boxplot(x=\"response\", y=\"mfrac\", hue=\"response\", data=df_low_pn, palette =[\"#007100\", '#bd5e8b'], dodge=False, showfliers=False)\n",
    "ax.set(yscale=\"log\")\n",
    "ax.set(ylabel='Maintenance fraction [-]', xlabel='')\n",
    "#from matplotlib.ticker import ScalarFormatter\n",
    "#formatter0 = EngFormatter(unit='Hz')\n",
    "#ax.yaxis.set_major_formatter('{x:.0f}')\n",
    "#ax.yaxis.set_minor_formatter('{x:.0f}')\n",
    "plt.savefig(\"/Users/glmarschmann/.julia/dev/DEBmicroTrait/pnas/figures_suppl/suppl_mfrac.svg\", format=\"svg\")"
   ]
  },
  {
   "cell_type": "code",
   "execution_count": 132,
   "id": "a55d10de",
   "metadata": {},
   "outputs": [
    {
     "data": {
      "text/plain": [
       "<Axes:>"
      ]
     },
     "execution_count": 132,
     "metadata": {},
     "output_type": "execute_result"
    },
    {
     "data": {
      "image/png": "[encoded data removed]",
      "text/plain": [
       "<Figure size 64.8x115.704 with 1 Axes>"
      ]
     },
     "metadata": {
      "needs_background": "light"
     },
     "output_type": "display_data"
    }
   ],
   "source": [
    "plt.rcParams.update(params)\n",
    "plt.figure(1)\n",
    "plt.clf()\n",
    "plt.axes([leftmargin,\n",
    "            bottommargin,\n",
    "            1.0 - rightmargin-leftmargin,\n",
    "            1.0 - topmargin-bottommargin])"
   ]
  },
  {
   "cell_type": "code",
   "execution_count": 139,
   "id": "356809c3",
   "metadata": {},
   "outputs": [
    {
     "name": "stderr",
     "output_type": "stream",
     "text": [
      "/Users/glmarschmann/anaconda3/lib/python3.7/site-packages/ipykernel_launcher.py:5: SettingWithCopyWarning: \n",
      "A value is trying to be set on a copy of a slice from a DataFrame.\n",
      "Try using .loc[row_indexer,col_indexer] = value instead\n",
      "\n",
      "See the caveats in the documentation: https://pandas.pydata.org/pandas-docs/stable/user_guide/indexing.html#returning-a-view-versus-a-copy\n",
      "  \"\"\"\n"
     ]
    }
   ],
   "source": [
    "df = pd.read_csv(\"/Users/glmarschmann/.julia/dev/DEBmicroTrait/files/isolates_batch_model_fluxes.csv\")\n",
    "df_bge_pn = df.loc[(df.response == \"positive\") | (df.response == \"negative\")]\n",
    "df_bge_pn.loc[df_bge_pn['rgrowth'] >= 0.041, 'growthregime'] = 'high' \n",
    "df_bge_pn.loc[df_bge_pn['rgrowth'] < 0.04, 'growthregime'] = 'low' \n",
    "df_bge_pn[\"turnover\"] = df_bge_pn[\"jV\"] + df_bge_pn['jE']"
   ]
  },
  {
   "cell_type": "code",
   "execution_count": 141,
   "id": "061bb421",
   "metadata": {},
   "outputs": [
    {
     "data": {
      "image/png": "[encoded data removed]",
      "text/plain": [
       "<Figure size 64.8x115.704 with 1 Axes>"
      ]
     },
     "metadata": {
      "needs_background": "light"
     },
     "output_type": "display_data"
    }
   ],
   "source": [
    "ax = plt.gca()\n",
    "ax = sns.stripplot(x=\"growthregime\", y=\"turnover\", palette =[\"k\", 'k'], data=df_bge_pn, dodge=False, size=1, label='')\n",
    "ax = sns.boxplot(x=\"growthregime\", y=\"turnover\", data=df_bge_pn, palette =[\"#a6761d\", '#666666'], dodge=False, showfliers=False)\n",
    "ax.set(yscale=\"log\")\n",
    "ax.set(ylabel='Turnover [h-1]', xlabel='')\n",
    "#from matplotlib.ticker import ScalarFormatter\n",
    "#formatter0 = EngFormatter(unit='Hz')\n",
    "#ax.yaxis.set_major_formatter('{x:.0f}')\n",
    "#ax.yaxis.set_minor_formatter('{x:.0f}')\n",
    "plt.savefig(\"/Users/glmarschmann/.julia/dev/DEBmicroTrait/pnas/figures_suppl/suppl_turnover.svg\", format=\"svg\")"
   ]
  },
  {
   "cell_type": "markdown",
   "id": "3b22dfab",
   "metadata": {},
   "source": [
    "# Random forest output"
   ]
  },
  {
   "cell_type": "code",
   "execution_count": 107,
   "id": "24c67c3e",
   "metadata": {},
   "outputs": [],
   "source": [
    "fig_width = 3.5                         # inches  \n",
    "golden_mean = (np.sqrt(5)-1.0)/2.0      # Aesthetic ratio\n",
    "fig_height = 3.5      # height in inches\n",
    "dpi = 300.0                             # Convert inch to pt\n",
    "\n",
    "# Margins are specified as a fraction of axes size.\n",
    "# May need to adjust (especially left and bottom) to accomodate axes labels/tickmarks\n",
    "leftmargin = 0.15\n",
    "bottommargin = 0.2\n",
    "rightmargin = 0.05\n",
    "topmargin = 0.1\n",
    "# These two parameters are used for adjusting spacing between subplots (when used)\n",
    "wspace = 0.2\n",
    "hspace = 0.2\n",
    "\n",
    "fig_size =  [fig_width,fig_height]\n",
    "params = {'backend': 'svg',\n",
    "          'axes.labelsize': 11,\n",
    "          'axes.titlesize': 12,\n",
    "          'legend.fontsize': 10,\n",
    "          'xtick.labelsize': 12,\n",
    "          'ytick.labelsize': 12,\n",
    "          'figure.figsize': fig_size,\n",
    "          'text.usetex': False, \n",
    "          'font.family':'sans-serif',\n",
    "          'font.sans-serif':'Arial',\n",
    "          'svg.fonttype':'none'}"
   ]
  },
  {
   "cell_type": "code",
   "execution_count": 108,
   "id": "0f3a83dc",
   "metadata": {},
   "outputs": [
    {
     "data": {
      "text/plain": [
       "<Axes:>"
      ]
     },
     "execution_count": 108,
     "metadata": {},
     "output_type": "execute_result"
    },
    {
     "data": {
      "image/png": "[encoded data removed]",
      "text/plain": [
       "<Figure size 252x252 with 1 Axes>"
      ]
     },
     "metadata": {
      "needs_background": "light"
     },
     "output_type": "display_data"
    }
   ],
   "source": [
    "plt.rcParams.update(params)\n",
    "plt.figure(1)\n",
    "plt.clf()\n",
    "plt.axes([leftmargin,\n",
    "            bottommargin,\n",
    "            1.0 - rightmargin-leftmargin,\n",
    "            1.0 - topmargin-bottommargin])"
   ]
  },
  {
   "cell_type": "markdown",
   "id": "fa248d19",
   "metadata": {},
   "source": [
    "### CUE"
   ]
  },
  {
   "cell_type": "code",
   "execution_count": 109,
   "id": "16a95eb6",
   "metadata": {},
   "outputs": [],
   "source": [
    "var = [5,4,3,2,1]\n",
    "rel_inf = [39.50, 20.57, 8.77, 6.60, 6.19]"
   ]
  },
  {
   "cell_type": "code",
   "execution_count": 111,
   "id": "8867f330",
   "metadata": {},
   "outputs": [
    {
     "data": {
      "image/png": "[encoded data removed]",
      "text/plain": [
       "<Figure size 252x252 with 1 Axes>"
      ]
     },
     "metadata": {
      "needs_background": "light"
     },
     "output_type": "display_data"
    }
   ],
   "source": [
    "plt.scatter(x=rel_inf, y=var, s=60, marker='x', color='k', label = \"\")\n",
    "plt.grid(True)\n",
    "plt.ylabel(\"\")\n",
    "plt.xlabel(\"Mean decrease accuracy\")\n",
    "#plt.legend()\n",
    "plt.title(\"Carbon use efficiency\")\n",
    "ax = plt.gca()\n",
    "ax.set_xticks([40,20,0])\n",
    "ax.invert_xaxis()\n",
    "ax.set_yticks([1, 2, 3, 4, 5])\n",
    "ax.set_yticklabels([\"GH gene frequency\", \"Max. specific uptake rate\", \"Half-saturation constant\", \"rRNA copy number\", \"Assimilation yield\"])\n",
    "plt.savefig(\"/Users/glmarschmann/.julia/dev/DEBmicroTrait/pnas/figures_suppl/batch_rf_cue.svg\", format='svg')"
   ]
  },
  {
   "cell_type": "markdown",
   "id": "f5b0e437",
   "metadata": {},
   "source": [
    "### Growth rate"
   ]
  },
  {
   "cell_type": "code",
   "execution_count": 112,
   "id": "979ef16f",
   "metadata": {},
   "outputs": [],
   "source": [
    "var = [5,4,3,2,1]\n",
    "rel_inf = [45.34, 21.21, 7.64, 5.35, 1.72]"
   ]
  },
  {
   "cell_type": "code",
   "execution_count": 114,
   "id": "21160911",
   "metadata": {},
   "outputs": [
    {
     "data": {
      "image/png": "[encoded data removed]",
      "text/plain": [
       "<Figure size 252x252 with 1 Axes>"
      ]
     },
     "metadata": {
      "needs_background": "light"
     },
     "output_type": "display_data"
    }
   ],
   "source": [
    "plt.scatter(x=rel_inf, y=var, s=60, marker='x', color='k', label = \"\")\n",
    "plt.grid(True)\n",
    "plt.ylabel(\"\")\n",
    "plt.xlabel(\"Mean decrease accuracy\")\n",
    "#plt.legend()\n",
    "plt.title(\"Growth rate\")\n",
    "ax = plt.gca()\n",
    "ax.set_xticks([40,20,0])\n",
    "ax.invert_xaxis()\n",
    "ax.set_yticks([1, 2, 3, 4, 5])\n",
    "ax.set_yticklabels([\"Protein translation rate\", \"Min. generation time\", \"Assimilation yield\", \"Max. specific uptake rate\", \"Half-saturation constant\"])\n",
    "plt.savefig(\"/Users/glmarschmann/.julia/dev/DEBmicroTrait/pnas/figures_suppl/batch_rf_growth.svg\", format='svg')"
   ]
  },
  {
   "cell_type": "markdown",
   "id": "afa772fa",
   "metadata": {},
   "source": [
    "# Assimilation benchmarks"
   ]
  },
  {
   "cell_type": "code",
   "execution_count": 89,
   "id": "e801af7b",
   "metadata": {},
   "outputs": [
    {
     "data": {
      "text/html": [
       "<div>\n",
       "<style scoped>\n",
       "    .dataframe tbody tr th:only-of-type {\n",
       "        vertical-align: middle;\n",
       "    }\n",
       "\n",
       "    .dataframe tbody tr th {\n",
       "        vertical-align: top;\n",
       "    }\n",
       "\n",
       "    .dataframe thead th {\n",
       "        text-align: right;\n",
       "    }\n",
       "</style>\n",
       "<table border=\"1\" class=\"dataframe\">\n",
       "  <thead>\n",
       "    <tr style=\"text-align: right;\">\n",
       "      <th></th>\n",
       "      <th>transporter_density</th>\n",
       "      <th>Vmax</th>\n",
       "      <th>KD</th>\n",
       "      <th>affinity</th>\n",
       "      <th>ontology</th>\n",
       "      <th>name</th>\n",
       "      <th>diffusivity</th>\n",
       "      <th>zdistr</th>\n",
       "      <th>response</th>\n",
       "      <th>genome_size</th>\n",
       "      <th>cell_size</th>\n",
       "      <th>mingt</th>\n",
       "      <th>sav</th>\n",
       "      <th>yield</th>\n",
       "      <th>cell_radius</th>\n",
       "      <th>yDE</th>\n",
       "    </tr>\n",
       "  </thead>\n",
       "  <tbody>\n",
       "    <tr>\n",
       "      <th>0</th>\n",
       "      <td>0.003192</td>\n",
       "      <td>0.136527</td>\n",
       "      <td>0.000863</td>\n",
       "      <td>158.253125</td>\n",
       "      <td>Amino acids</td>\n",
       "      <td>2-aminoisobutyric acid</td>\n",
       "      <td>7.283438e-10</td>\n",
       "      <td>0.732558</td>\n",
       "      <td>positive</td>\n",
       "      <td>6679185</td>\n",
       "      <td>2.537341e-17</td>\n",
       "      <td>7.0</td>\n",
       "      <td>1.645727e+06</td>\n",
       "      <td>0.250000</td>\n",
       "      <td>1.822902</td>\n",
       "      <td>4.000000</td>\n",
       "    </tr>\n",
       "    <tr>\n",
       "      <th>1</th>\n",
       "      <td>0.000026</td>\n",
       "      <td>0.001946</td>\n",
       "      <td>0.000127</td>\n",
       "      <td>15.314888</td>\n",
       "      <td>Organic acids</td>\n",
       "      <td>2,3-Dihydroxybenzoic acid</td>\n",
       "      <td>6.236958e-10</td>\n",
       "      <td>0.011628</td>\n",
       "      <td>positive</td>\n",
       "      <td>6679185</td>\n",
       "      <td>2.537341e-17</td>\n",
       "      <td>7.0</td>\n",
       "      <td>1.645727e+06</td>\n",
       "      <td>0.164615</td>\n",
       "      <td>1.822902</td>\n",
       "      <td>6.074766</td>\n",
       "    </tr>\n",
       "    <tr>\n",
       "      <th>2</th>\n",
       "      <td>0.000026</td>\n",
       "      <td>0.001946</td>\n",
       "      <td>0.000133</td>\n",
       "      <td>14.675118</td>\n",
       "      <td>Organic acids</td>\n",
       "      <td>3-Dehydroshikimic acid</td>\n",
       "      <td>5.976413e-10</td>\n",
       "      <td>0.011628</td>\n",
       "      <td>positive</td>\n",
       "      <td>6679185</td>\n",
       "      <td>2.537341e-17</td>\n",
       "      <td>7.0</td>\n",
       "      <td>1.645727e+06</td>\n",
       "      <td>0.164615</td>\n",
       "      <td>1.822902</td>\n",
       "      <td>6.074766</td>\n",
       "    </tr>\n",
       "    <tr>\n",
       "      <th>3</th>\n",
       "      <td>0.002394</td>\n",
       "      <td>0.127995</td>\n",
       "      <td>0.000707</td>\n",
       "      <td>181.133816</td>\n",
       "      <td>Amino acids</td>\n",
       "      <td>5-aminovaleric acid</td>\n",
       "      <td>6.933574e-10</td>\n",
       "      <td>0.732558</td>\n",
       "      <td>positive</td>\n",
       "      <td>6679185</td>\n",
       "      <td>2.537341e-17</td>\n",
       "      <td>7.0</td>\n",
       "      <td>1.645727e+06</td>\n",
       "      <td>0.200000</td>\n",
       "      <td>1.822902</td>\n",
       "      <td>5.000000</td>\n",
       "    </tr>\n",
       "    <tr>\n",
       "      <th>4</th>\n",
       "      <td>0.000011</td>\n",
       "      <td>0.001741</td>\n",
       "      <td>0.000151</td>\n",
       "      <td>11.512509</td>\n",
       "      <td>Organic acids</td>\n",
       "      <td>abscisic acid</td>\n",
       "      <td>5.064613e-10</td>\n",
       "      <td>0.011628</td>\n",
       "      <td>positive</td>\n",
       "      <td>6679185</td>\n",
       "      <td>2.537341e-17</td>\n",
       "      <td>7.0</td>\n",
       "      <td>1.645727e+06</td>\n",
       "      <td>0.066667</td>\n",
       "      <td>1.822902</td>\n",
       "      <td>15.000000</td>\n",
       "    </tr>\n",
       "  </tbody>\n",
       "</table>\n",
       "</div>"
      ],
      "text/plain": [
       "   transporter_density      Vmax        KD    affinity       ontology  \\\n",
       "0             0.003192  0.136527  0.000863  158.253125    Amino acids   \n",
       "1             0.000026  0.001946  0.000127   15.314888  Organic acids   \n",
       "2             0.000026  0.001946  0.000133   14.675118  Organic acids   \n",
       "3             0.002394  0.127995  0.000707  181.133816    Amino acids   \n",
       "4             0.000011  0.001741  0.000151   11.512509  Organic acids   \n",
       "\n",
       "                        name   diffusivity    zdistr  response  genome_size  \\\n",
       "0    2-aminoisobutyric acid   7.283438e-10  0.732558  positive      6679185   \n",
       "1  2,3-Dihydroxybenzoic acid  6.236958e-10  0.011628  positive      6679185   \n",
       "2     3-Dehydroshikimic acid  5.976413e-10  0.011628  positive      6679185   \n",
       "3        5-aminovaleric acid  6.933574e-10  0.732558  positive      6679185   \n",
       "4              abscisic acid  5.064613e-10  0.011628  positive      6679185   \n",
       "\n",
       "      cell_size  mingt           sav     yield  cell_radius        yDE  \n",
       "0  2.537341e-17    7.0  1.645727e+06  0.250000     1.822902   4.000000  \n",
       "1  2.537341e-17    7.0  1.645727e+06  0.164615     1.822902   6.074766  \n",
       "2  2.537341e-17    7.0  1.645727e+06  0.164615     1.822902   6.074766  \n",
       "3  2.537341e-17    7.0  1.645727e+06  0.200000     1.822902   5.000000  \n",
       "4  2.537341e-17    7.0  1.645727e+06  0.066667     1.822902  15.000000  "
      ]
     },
     "execution_count": 89,
     "metadata": {},
     "output_type": "execute_result"
    }
   ],
   "source": [
    "df = pd.read_csv(\"/Users/glmarschmann/.julia/dev/DEBmicroTrait/files/isolates_assimilation_name.csv\")\n",
    "df[\"cell_radius\"] = (3/(4*np.pi)*df.cell_size)**(1/3)*1e6\n",
    "df[\"yDE\"] = 1/df[\"yield\"]\n",
    "df.head()"
   ]
  },
  {
   "cell_type": "code",
   "execution_count": 9,
   "id": "b77d7ecf",
   "metadata": {},
   "outputs": [],
   "source": [
    "fig_width = 4.5                        # inches  \n",
    "golden_mean = (np.sqrt(5)-1.0)/2.0      # Aesthetic ratio\n",
    "fig_height = 3.5      # height in inches\n",
    "dpi = 300.0  \n",
    "# Margins are specified as a fraction of axes size.\n",
    "# May need to adjust (especially left and bottom) to accomodate axes labels/tickmarks\n",
    "leftmargin = 0.15\n",
    "bottommargin = 0.2\n",
    "rightmargin = 0.05\n",
    "topmargin = 0.1\n",
    "# These two parameters are used for adjusting spacing between subplots (when used)\n",
    "wspace = 0.2\n",
    "hspace = 0.2\n",
    "\n",
    "fig_size =  [fig_width,fig_height]\n",
    "params = {'backend': 'svg',\n",
    "          'axes.labelsize': 12,\n",
    "          'axes.titlesize': 12,\n",
    "          'legend.fontsize': 10,\n",
    "          'xtick.labelsize': 12,\n",
    "          'ytick.labelsize': 12,\n",
    "          'figure.figsize': fig_size,\n",
    "          'text.usetex': False, \n",
    "          'font.family':'sans-serif',\n",
    "          'font.sans-serif':'Arial',\n",
    "          'svg.fonttype':'none'}"
   ]
  },
  {
   "cell_type": "code",
   "execution_count": 10,
   "id": "62f60db4",
   "metadata": {},
   "outputs": [
    {
     "data": {
      "text/plain": [
       "<Axes:>"
      ]
     },
     "execution_count": 10,
     "metadata": {},
     "output_type": "execute_result"
    },
    {
     "data": {
      "image/png": "[encoded data removed]",
      "text/plain": [
       "<Figure size 324x252 with 1 Axes>"
      ]
     },
     "metadata": {
      "needs_background": "light"
     },
     "output_type": "display_data"
    }
   ],
   "source": [
    "plt.rcParams.update(params)\n",
    "plt.figure(1)\n",
    "plt.clf()\n",
    "plt.axes([leftmargin,\n",
    "            bottommargin,\n",
    "            1.0 - rightmargin-leftmargin,\n",
    "            1.0 - topmargin-bottommargin])"
   ]
  },
  {
   "cell_type": "code",
   "execution_count": 34,
   "id": "8ff04a4f",
   "metadata": {},
   "outputs": [
    {
     "data": {
      "image/png": "[encoded data removed]",
      "text/plain": [
       "<Figure size 324x252 with 1 Axes>"
      ]
     },
     "metadata": {
      "needs_background": "light"
     },
     "output_type": "display_data"
    }
   ],
   "source": [
    "from matplotlib.lines import Line2D\n",
    "ax = plt.gca()\n",
    "ax = sns.regplot(x=\"KD\", y=\"Vmax\", data=df,lowess=True, line_kws={\"color\":\"#045a8d\",\"alpha\":1.0,\"lw\":1.5}, scatter_kws={\"color\":\"#bdbdbd\", \"edgecolors\":\"k\", \"s\":10}, ax=ax, truncate=True);\n",
    "plt.xscale('log') \n",
    "plt.yscale('log') \n",
    "plt.minorticks_off()\n",
    "ax.set_ylim([1e-4, 1e1])\n",
    "#ax.set_yticklabels([1e-4, 1e-3, 1e-2, 1e-1, 1e0])\n",
    "ax.set_xlim([5e-5, 1e-1])\n",
    "plt.xlabel(\"Half-saturation constant []\")\n",
    "plt.ylabel(\"Max. spec. uptake rate [h-1]\")\n",
    "legend_elements = [Line2D([0], [0], marker='o', color='w', label='Estimated data \\n(82 metabolites x 39 isolates)',\n",
    "                          markerfacecolor='#bdbdbd',markeredgecolor=\"k\", markersize=4),\n",
    "                  Line2D([0], [0], color='#045a8d', lw=1.5, label='Nonlinear fit')]\n",
    "ax.legend(handles=legend_elements, loc='best')\n",
    "plt.savefig(\"/Users/glmarschmann/.julia/dev/DEBmicroTrait/pnas/figures_suppl/Vmax_K_tradeoff.svg\", format=\"svg\")"
   ]
  },
  {
   "cell_type": "code",
   "execution_count": 35,
   "id": "8655d987",
   "metadata": {},
   "outputs": [
    {
     "data": {
      "text/plain": [
       "<Axes:>"
      ]
     },
     "execution_count": 35,
     "metadata": {},
     "output_type": "execute_result"
    },
    {
     "data": {
      "image/png": "[encoded data removed]",
      "text/plain": [
       "<Figure size 324x252 with 1 Axes>"
      ]
     },
     "metadata": {
      "needs_background": "light"
     },
     "output_type": "display_data"
    }
   ],
   "source": [
    "plt.rcParams.update(params)\n",
    "plt.figure(1)\n",
    "plt.clf()\n",
    "plt.axes([leftmargin,\n",
    "            bottommargin,\n",
    "            1.0 - rightmargin-leftmargin,\n",
    "            1.0 - topmargin-bottommargin])"
   ]
  },
  {
   "cell_type": "code",
   "execution_count": 29,
   "id": "95f624cd",
   "metadata": {},
   "outputs": [
    {
     "name": "stderr",
     "output_type": "stream",
     "text": [
      "/Users/glmarschmann/anaconda3/lib/python3.7/site-packages/ipykernel_launcher.py:2: SettingWithCopyWarning: \n",
      "A value is trying to be set on a copy of a slice from a DataFrame.\n",
      "Try using .loc[row_indexer,col_indexer] = value instead\n",
      "\n",
      "See the caveats in the documentation: https://pandas.pydata.org/pandas-docs/stable/user_guide/indexing.html#returning-a-view-versus-a-copy\n",
      "  \n",
      "/Users/glmarschmann/anaconda3/lib/python3.7/site-packages/ipykernel_launcher.py:3: SettingWithCopyWarning: \n",
      "A value is trying to be set on a copy of a slice from a DataFrame.\n",
      "Try using .loc[row_indexer,col_indexer] = value instead\n",
      "\n",
      "See the caveats in the documentation: https://pandas.pydata.org/pandas-docs/stable/user_guide/indexing.html#returning-a-view-versus-a-copy\n",
      "  This is separate from the ipykernel package so we can avoid doing imports until\n"
     ]
    },
    {
     "data": {
      "text/html": [
       "<div>\n",
       "<style scoped>\n",
       "    .dataframe tbody tr th:only-of-type {\n",
       "        vertical-align: middle;\n",
       "    }\n",
       "\n",
       "    .dataframe tbody tr th {\n",
       "        vertical-align: top;\n",
       "    }\n",
       "\n",
       "    .dataframe thead th {\n",
       "        text-align: right;\n",
       "    }\n",
       "</style>\n",
       "<table border=\"1\" class=\"dataframe\">\n",
       "  <thead>\n",
       "    <tr style=\"text-align: right;\">\n",
       "      <th></th>\n",
       "      <th>transporter_density</th>\n",
       "      <th>Vmax</th>\n",
       "      <th>KD</th>\n",
       "      <th>affinity</th>\n",
       "      <th>ontology</th>\n",
       "      <th>name</th>\n",
       "      <th>diffusivity</th>\n",
       "      <th>zdistr</th>\n",
       "      <th>response</th>\n",
       "      <th>genome_size</th>\n",
       "      <th>cell_size</th>\n",
       "      <th>mingt</th>\n",
       "      <th>sav</th>\n",
       "      <th>yield</th>\n",
       "      <th>cell_radius</th>\n",
       "      <th>SAV</th>\n",
       "      <th>logaffinity</th>\n",
       "    </tr>\n",
       "  </thead>\n",
       "  <tbody>\n",
       "    <tr>\n",
       "      <th>28</th>\n",
       "      <td>0.000586</td>\n",
       "      <td>0.037584</td>\n",
       "      <td>0.000300</td>\n",
       "      <td>125.164710</td>\n",
       "      <td>Sugars</td>\n",
       "      <td>glucose</td>\n",
       "      <td>5.872272e-10</td>\n",
       "      <td>0.220930</td>\n",
       "      <td>positive</td>\n",
       "      <td>6679185</td>\n",
       "      <td>2.537341e-17</td>\n",
       "      <td>7.00</td>\n",
       "      <td>1.645727e+06</td>\n",
       "      <td>0.178333</td>\n",
       "      <td>1.822902</td>\n",
       "      <td>0.498182</td>\n",
       "      <td>4.829631</td>\n",
       "    </tr>\n",
       "    <tr>\n",
       "      <th>111</th>\n",
       "      <td>0.007771</td>\n",
       "      <td>0.560290</td>\n",
       "      <td>0.001754</td>\n",
       "      <td>319.424918</td>\n",
       "      <td>Sugars</td>\n",
       "      <td>glucose</td>\n",
       "      <td>5.872272e-10</td>\n",
       "      <td>0.292929</td>\n",
       "      <td>negative</td>\n",
       "      <td>5377210</td>\n",
       "      <td>9.035809e-18</td>\n",
       "      <td>1.31</td>\n",
       "      <td>2.321819e+06</td>\n",
       "      <td>0.178333</td>\n",
       "      <td>1.292090</td>\n",
       "      <td>0.842351</td>\n",
       "      <td>5.766522</td>\n",
       "    </tr>\n",
       "    <tr>\n",
       "      <th>194</th>\n",
       "      <td>0.001502</td>\n",
       "      <td>0.114327</td>\n",
       "      <td>0.000423</td>\n",
       "      <td>270.009796</td>\n",
       "      <td>Sugars</td>\n",
       "      <td>glucose</td>\n",
       "      <td>5.872272e-10</td>\n",
       "      <td>0.195489</td>\n",
       "      <td>undefined</td>\n",
       "      <td>5177578</td>\n",
       "      <td>7.546182e-18</td>\n",
       "      <td>2.78</td>\n",
       "      <td>2.465519e+06</td>\n",
       "      <td>0.178333</td>\n",
       "      <td>1.216782</td>\n",
       "      <td>0.902402</td>\n",
       "      <td>5.598458</td>\n",
       "    </tr>\n",
       "    <tr>\n",
       "      <th>277</th>\n",
       "      <td>0.000322</td>\n",
       "      <td>0.020532</td>\n",
       "      <td>0.000229</td>\n",
       "      <td>89.643508</td>\n",
       "      <td>Sugars</td>\n",
       "      <td>glucose</td>\n",
       "      <td>5.872272e-10</td>\n",
       "      <td>0.104439</td>\n",
       "      <td>positive</td>\n",
       "      <td>6972827</td>\n",
       "      <td>3.114275e-17</td>\n",
       "      <td>6.09</td>\n",
       "      <td>1.537087e+06</td>\n",
       "      <td>0.178333</td>\n",
       "      <td>1.951744</td>\n",
       "      <td>0.429889</td>\n",
       "      <td>4.495841</td>\n",
       "    </tr>\n",
       "    <tr>\n",
       "      <th>360</th>\n",
       "      <td>0.000527</td>\n",
       "      <td>0.033485</td>\n",
       "      <td>0.000302</td>\n",
       "      <td>110.769404</td>\n",
       "      <td>Sugars</td>\n",
       "      <td>glucose</td>\n",
       "      <td>5.872272e-10</td>\n",
       "      <td>0.159806</td>\n",
       "      <td>positive</td>\n",
       "      <td>7193102</td>\n",
       "      <td>3.611417e-17</td>\n",
       "      <td>5.73</td>\n",
       "      <td>1.463047e+06</td>\n",
       "      <td>0.178333</td>\n",
       "      <td>2.050515</td>\n",
       "      <td>0.380521</td>\n",
       "      <td>4.707451</td>\n",
       "    </tr>\n",
       "  </tbody>\n",
       "</table>\n",
       "</div>"
      ],
      "text/plain": [
       "     transporter_density      Vmax        KD    affinity ontology     name  \\\n",
       "28              0.000586  0.037584  0.000300  125.164710   Sugars  glucose   \n",
       "111             0.007771  0.560290  0.001754  319.424918   Sugars  glucose   \n",
       "194             0.001502  0.114327  0.000423  270.009796   Sugars  glucose   \n",
       "277             0.000322  0.020532  0.000229   89.643508   Sugars  glucose   \n",
       "360             0.000527  0.033485  0.000302  110.769404   Sugars  glucose   \n",
       "\n",
       "      diffusivity    zdistr   response  genome_size     cell_size  mingt  \\\n",
       "28   5.872272e-10  0.220930   positive      6679185  2.537341e-17   7.00   \n",
       "111  5.872272e-10  0.292929   negative      5377210  9.035809e-18   1.31   \n",
       "194  5.872272e-10  0.195489  undefined      5177578  7.546182e-18   2.78   \n",
       "277  5.872272e-10  0.104439   positive      6972827  3.114275e-17   6.09   \n",
       "360  5.872272e-10  0.159806   positive      7193102  3.611417e-17   5.73   \n",
       "\n",
       "              sav     yield  cell_radius       SAV  logaffinity  \n",
       "28   1.645727e+06  0.178333     1.822902  0.498182     4.829631  \n",
       "111  2.321819e+06  0.178333     1.292090  0.842351     5.766522  \n",
       "194  2.465519e+06  0.178333     1.216782  0.902402     5.598458  \n",
       "277  1.537087e+06  0.178333     1.951744  0.429889     4.495841  \n",
       "360  1.463047e+06  0.178333     2.050515  0.380521     4.707451  "
      ]
     },
     "execution_count": 29,
     "metadata": {},
     "output_type": "execute_result"
    }
   ],
   "source": [
    "df_glucose = df.loc[(df.name == \"glucose\")]\n",
    "df_glucose[\"SAV\"] = np.log(df_glucose[\"sav\"]/1e6)\n",
    "df_glucose[\"logaffinity\"] = np.log(df_glucose[\"affinity\"])\n",
    "df_glucose.head()"
   ]
  },
  {
   "cell_type": "code",
   "execution_count": 36,
   "id": "bacabbd2",
   "metadata": {},
   "outputs": [
    {
     "data": {
      "image/png": "[encoded data removed]",
      "text/plain": [
       "<Figure size 324x252 with 1 Axes>"
      ]
     },
     "metadata": {
      "needs_background": "light"
     },
     "output_type": "display_data"
    }
   ],
   "source": [
    "ax = plt.gca()\n",
    "ax = sns.regplot(x=\"SAV\", y=\"logaffinity\", data=df_glucose, line_kws={\"color\":\"#045a8d\",\"alpha\":1.0,\"lw\":1.5}, scatter_kws={\"color\":\"#bdbdbd\", \"edgecolors\":\"k\", \"s\":20}, ax=ax, truncate=True, label=\"r2=0.56, slope=0.82+-0.12,p <1e-5\")\n",
    "#ax.set_yscale(\"log\")\n",
    "#ax.set_xscale(\"log\")\n",
    "#ax.set_ylim([0.1, 200])\n",
    "#ax.set_xlim([1, 8])\n",
    "#ax.set_xticks([2, 3, 4,5, 6,7, 8])\n",
    "#ax.set_xticklabels([2, 3, 4,5, 6,7, 8])\n",
    "#ax.set_yticks([0,500, 1000])\n",
    "plt.xlabel(\"SAV []\")\n",
    "plt.ylabel(\"Log10 Affinity [mM h-1]\")\n",
    "plt.legend()\n",
    "plt.savefig(\"/Users/glmarschmann/.julia/dev/DEBmicroTrait/pnas/figures_suppl/affinity_SAV_glucose.svg\", format=\"svg\")#"
   ]
  },
  {
   "cell_type": "code",
   "execution_count": 90,
   "id": "d23f4230",
   "metadata": {},
   "outputs": [],
   "source": [
    "fig_width = 6.2                         # inches  \n",
    "golden_mean = (np.sqrt(5)-1.0)/2.0      # Aesthetic ratio\n",
    "fig_height = fig_width*golden_mean      # height in inches\n",
    "dpi = 300.0                             # Convert inch to pt\n",
    "\n",
    "# Margins are specified as a fraction of axes size.\n",
    "# May need to adjust (especially left and bottom) to accomodate axes labels/tickmarks\n",
    "leftmargin = 0.15\n",
    "bottommargin = 0.2\n",
    "rightmargin = 0.05\n",
    "topmargin = 0.1\n",
    "# These two parameters are used for adjusting spacing between subplots (when used)\n",
    "wspace = 0.2\n",
    "hspace = 0.2\n",
    "\n",
    "fig_size =  [fig_width,fig_height]\n",
    "params = {'backend': 'svg',\n",
    "          'axes.labelsize': 12,\n",
    "          'axes.titlesize': 12,\n",
    "          'legend.fontsize': 10,\n",
    "          'xtick.labelsize': 10,\n",
    "          'ytick.labelsize': 12,\n",
    "          'figure.figsize': fig_size,\n",
    "          'text.usetex': False, \n",
    "          'font.family':'sans-serif',\n",
    "          'font.sans-serif':'Arial',\n",
    "          'svg.fonttype':'none'}"
   ]
  },
  {
   "cell_type": "code",
   "execution_count": 91,
   "id": "e852c956",
   "metadata": {},
   "outputs": [
    {
     "data": {
      "text/plain": [
       "<Axes:>"
      ]
     },
     "execution_count": 91,
     "metadata": {},
     "output_type": "execute_result"
    },
    {
     "data": {
      "image/png": "[encoded data removed]",
      "text/plain": [
       "<Figure size 446.4x275.89 with 1 Axes>"
      ]
     },
     "metadata": {
      "needs_background": "light"
     },
     "output_type": "display_data"
    }
   ],
   "source": [
    "plt.rcParams.update(params)\n",
    "plt.figure(1)\n",
    "plt.clf()\n",
    "plt.axes([leftmargin,\n",
    "            bottommargin,\n",
    "            1.0 - rightmargin-leftmargin,\n",
    "            1.0 - topmargin-bottommargin])"
   ]
  },
  {
   "cell_type": "code",
   "execution_count": 104,
   "id": "43e8fd5e",
   "metadata": {},
   "outputs": [
    {
     "data": {
      "image/png": "[encoded data removed]",
      "text/plain": [
       "<Figure size 446.4x275.89 with 1 Axes>"
      ]
     },
     "metadata": {
      "needs_background": "light"
     },
     "output_type": "display_data"
    }
   ],
   "source": [
    "ax = plt.gca()\n",
    "ax = sns.boxplot(x=\"ontology\", y=\"yDE\", data=df, showfliers=False, order=[\n",
    "                 'Amino acids', 'Organic acids', 'Sugars', 'Nucleotides', 'Fatty acids', 'Auxins'])\n",
    "ax.set(yscale=\"log\")\n",
    "ax.set(ylabel='', xlabel='')\n",
    "ax.set_ylim([1, 30])\n",
    "plt.ylabel(\"Assimilation yield [-]\")\n",
    "plt.savefig(\"/Users/glmarschmann/.julia/dev/DEBmicroTrait/pnas/figures_suppl/suppl_class_yield.svg\", format=\"svg\")"
   ]
  },
  {
   "cell_type": "code",
   "execution_count": null,
   "id": "0429db7f",
   "metadata": {},
   "outputs": [],
   "source": [
    "fig_width = 4.5                        # inches  \n",
    "golden_mean = (np.sqrt(5)-1.0)/2.0      # Aesthetic ratio\n",
    "fig_height = 3.5      # height in inches\n",
    "dpi = 300.0  \n",
    "# Margins are specified as a fraction of axes size.\n",
    "# May need to adjust (especially left and bottom) to accomodate axes labels/tickmarks\n",
    "leftmargin = 0.15\n",
    "bottommargin = 0.2\n",
    "rightmargin = 0.05\n",
    "topmargin = 0.1\n",
    "# These two parameters are used for adjusting spacing between subplots (when used)\n",
    "wspace = 0.2\n",
    "hspace = 0.2\n",
    "\n",
    "fig_size =  [fig_width,fig_height]\n",
    "params = {'backend': 'svg',\n",
    "          'axes.labelsize': 12,\n",
    "          'axes.titlesize': 12,\n",
    "          'legend.fontsize': 10,\n",
    "          'xtick.labelsize': 12,\n",
    "          'ytick.labelsize': 12,\n",
    "          'figure.figsize': fig_size,\n",
    "          'text.usetex': False, \n",
    "          'font.family':'sans-serif',\n",
    "          'font.sans-serif':'Arial',\n",
    "          'svg.fonttype':'none'}"
   ]
  },
  {
   "cell_type": "code",
   "execution_count": 37,
   "id": "62d25c33",
   "metadata": {},
   "outputs": [
    {
     "data": {
      "text/plain": [
       "(13, 9)"
      ]
     },
     "execution_count": 37,
     "metadata": {},
     "output_type": "execute_result"
    }
   ],
   "source": [
    "df = pd.read_csv(\"/Users/glmarschmann/.julia/dev/DEBmicroTrait/files/benchmark_uptake_kinetics.csv\")\n",
    "df.shape"
   ]
  },
  {
   "cell_type": "code",
   "execution_count": 38,
   "id": "f854ac28",
   "metadata": {},
   "outputs": [
    {
     "data": {
      "text/plain": [
       "(3, 9)"
      ]
     },
     "execution_count": 38,
     "metadata": {},
     "output_type": "execute_result"
    }
   ],
   "source": [
    "dfout = pd.read_csv(\"/Users/glmarschmann/.julia/dev/DEBmicroTrait/files/benchmark_uptake_kinetics_outliers.csv\")\n",
    "dfout.shape"
   ]
  },
  {
   "cell_type": "code",
   "execution_count": 39,
   "id": "91f89e29",
   "metadata": {},
   "outputs": [
    {
     "data": {
      "text/plain": [
       "<Axes:>"
      ]
     },
     "execution_count": 39,
     "metadata": {},
     "output_type": "execute_result"
    },
    {
     "data": {
      "image/png": "[encoded data removed]",
      "text/plain": [
       "<Figure size 324x252 with 1 Axes>"
      ]
     },
     "metadata": {
      "needs_background": "light"
     },
     "output_type": "display_data"
    }
   ],
   "source": [
    "plt.rcParams.update(params)\n",
    "plt.figure(1)\n",
    "plt.clf()\n",
    "plt.axes([leftmargin,\n",
    "            bottommargin,\n",
    "            1.0 - rightmargin-leftmargin,\n",
    "            1.0 - topmargin-bottommargin])"
   ]
  },
  {
   "cell_type": "code",
   "execution_count": 41,
   "id": "62e7bca9",
   "metadata": {},
   "outputs": [
    {
     "data": {
      "image/png": "[encoded data removed]",
      "text/plain": [
       "<Figure size 324x252 with 1 Axes>"
      ]
     },
     "metadata": {
      "needs_background": "light"
     },
     "output_type": "display_data"
    }
   ],
   "source": [
    "plt.plot(df[\"Ktmodel\"], df[\"Kt\"], 'o', mfc='none', mec='k', ms=6, label=\"not significant\")\n",
    "plt.plot(dfout[\"Ktmodel\"], dfout[\"Kt\"], 'o', mfc='none', mec='r', ms=6, label=\"significant\")\n",
    "x = np.linspace(1e-1,1e2,100)\n",
    "y = x\n",
    "y1 = np.exp(0.29)*x**0.97\n",
    "plt.plot(x, y, '--', c='k', label=\"\")\n",
    "plt.plot(x, y1, '-', c='k', label=\"\")\n",
    "plt.grid(True)\n",
    "plt.xscale('log')\n",
    "plt.yscale('log')\n",
    "plt.ylabel(\"Half-saturation constant []\")\n",
    "plt.xlabel(\"Half-saturation constant predicted []\")\n",
    "plt.legend(title=\"Difference between\\n measured and predicted\", bbox_to_anchor=(1.01, 1))\n",
    "plt.savefig(\"/Users/glmarschmann/.julia/dev/DEBmicroTrait/pnas/figures_suppl/benchmark_uptake kinetics.svg\", format='svg')"
   ]
  },
  {
   "cell_type": "markdown",
   "id": "594e5509",
   "metadata": {},
   "source": [
    "# Translation power"
   ]
  },
  {
   "cell_type": "code",
   "execution_count": 45,
   "id": "a132a4b1",
   "metadata": {},
   "outputs": [],
   "source": [
    "f = h5py.File(\"/Users/glmarschmann/.julia/dev/DEBmicroTrait/files/generic_rate_yield_trade_off.jld\", \"r\")\n",
    "yield45 = f[\"yield_45\"]\n",
    "rate45 = f[\"rate_45\"]"
   ]
  },
  {
   "cell_type": "code",
   "execution_count": 46,
   "id": "568933d8",
   "metadata": {},
   "outputs": [
    {
     "data": {
      "text/plain": [
       "<Axes:>"
      ]
     },
     "execution_count": 46,
     "metadata": {},
     "output_type": "execute_result"
    },
    {
     "data": {
      "image/png": "[encoded data removed]",
      "text/plain": [
       "<Figure size 324x252 with 1 Axes>"
      ]
     },
     "metadata": {
      "needs_background": "light"
     },
     "output_type": "display_data"
    }
   ],
   "source": [
    "plt.rcParams.update(params)\n",
    "plt.figure(1)\n",
    "plt.clf()\n",
    "plt.axes([leftmargin,\n",
    "            bottommargin,\n",
    "            1.0 - rightmargin-leftmargin,\n",
    "            1.0 - topmargin-bottommargin])"
   ]
  },
  {
   "cell_type": "code",
   "execution_count": 52,
   "id": "e7ce50d9",
   "metadata": {},
   "outputs": [
    {
     "data": {
      "image/png": "[encoded data removed]",
      "text/plain": [
       "<Figure size 324x252 with 1 Axes>"
      ]
     },
     "metadata": {
      "needs_background": "light"
     },
     "output_type": "display_data"
    }
   ],
   "source": [
    "ax = plt.axes()  \n",
    "plt.plot(yield45[:], rate45[:]*4.2, '-', lw=2, color=\"k\")\n",
    "plt.axhline(y=max(rate45)*4.2, linestyle='--',color=\"k\")\n",
    "plt.axvline(x=max(yield45), linestyle='--',color=\"k\")\n",
    "plt.xscale('log') \n",
    "plt.yscale('log') \n",
    "#plt.xlabel(r\"$\\textnormal{Growth yield}\\,\\, [\\,\\textnormal{-}\\,]$\")\n",
    "#plt.ylabel(r\"$\\textnormal{Growth power}\\, \\mathrm{[\\Delta G\\, C\\textnormal{-} mol^{-1}h^{-1}]}$\")\n",
    "plt.xlabel(\"Structural yield [-]\")\n",
    "plt.ylabel(\"Growth rate [h-1]\")\n",
    "#ax.set_xlim([0.25, 0.62])\n",
    "ax.set_ylim([1e-5, 5e0])\n",
    "#from matplotlib.ticker import StrMethodFormatter, NullFormatter\n",
    "ax.xaxis.set_minor_formatter(StrMethodFormatter('{x:.1f}'))\n",
    "ax.yaxis.set_tick_params(which='minor', bottom=False)\n",
    "plt.savefig(\"/Users/glmarschmann/.julia/dev/DEBmicroTrait/pnas/figures_suppl/generic_power_yield.svg\", format='svg')"
   ]
  },
  {
   "cell_type": "code",
   "execution_count": 70,
   "id": "7fe2293c",
   "metadata": {},
   "outputs": [
    {
     "data": {
      "text/html": [
       "<div>\n",
       "<style scoped>\n",
       "    .dataframe tbody tr th:only-of-type {\n",
       "        vertical-align: middle;\n",
       "    }\n",
       "\n",
       "    .dataframe tbody tr th {\n",
       "        vertical-align: top;\n",
       "    }\n",
       "\n",
       "    .dataframe thead th {\n",
       "        text-align: right;\n",
       "    }\n",
       "</style>\n",
       "<table border=\"1\" class=\"dataframe\">\n",
       "  <thead>\n",
       "    <tr style=\"text-align: right;\">\n",
       "      <th></th>\n",
       "      <th>V_P</th>\n",
       "      <th>V_R</th>\n",
       "      <th>gmax</th>\n",
       "      <th>V_cell</th>\n",
       "      <th>k_E</th>\n",
       "      <th>V_cell_model</th>\n",
       "      <th>V_P_model</th>\n",
       "      <th>V_R_model</th>\n",
       "      <th>tRNA_model</th>\n",
       "      <th>mRNA_model</th>\n",
       "      <th>V_mtR_model</th>\n",
       "      <th>k_E_model</th>\n",
       "      <th>diff</th>\n",
       "    </tr>\n",
       "  </thead>\n",
       "  <tbody>\n",
       "    <tr>\n",
       "      <th>0</th>\n",
       "      <td>2.101147e-19</td>\n",
       "      <td>6.097366e-20</td>\n",
       "      <td>0.941429</td>\n",
       "      <td>2.752857e-18</td>\n",
       "      <td>3.244155</td>\n",
       "      <td>1.909016e-16</td>\n",
       "      <td>1.745318e-19</td>\n",
       "      <td>6.414248e-20</td>\n",
       "      <td>1.144949e-21</td>\n",
       "      <td>6.133402e-21</td>\n",
       "      <td>7.142083e-20</td>\n",
       "      <td>2.561630</td>\n",
       "      <td>-0.682525</td>\n",
       "    </tr>\n",
       "    <tr>\n",
       "      <th>1</th>\n",
       "      <td>3.240876e-19</td>\n",
       "      <td>8.603352e-20</td>\n",
       "      <td>0.677500</td>\n",
       "      <td>4.450000e-18</td>\n",
       "      <td>2.552137</td>\n",
       "      <td>3.977441e-16</td>\n",
       "      <td>2.442745e-19</td>\n",
       "      <td>6.905343e-20</td>\n",
       "      <td>1.601941e-21</td>\n",
       "      <td>8.581470e-21</td>\n",
       "      <td>7.923684e-20</td>\n",
       "      <td>2.396636</td>\n",
       "      <td>-0.155501</td>\n",
       "    </tr>\n",
       "    <tr>\n",
       "      <th>2</th>\n",
       "      <td>1.003650e-19</td>\n",
       "      <td>1.536313e-20</td>\n",
       "      <td>0.333500</td>\n",
       "      <td>1.950000e-18</td>\n",
       "      <td>2.178704</td>\n",
       "      <td>2.431404e-18</td>\n",
       "      <td>1.371041e-19</td>\n",
       "      <td>2.378735e-20</td>\n",
       "      <td>8.987359e-22</td>\n",
       "      <td>4.814456e-21</td>\n",
       "      <td>2.950054e-20</td>\n",
       "      <td>1.922207</td>\n",
       "      <td>-0.256497</td>\n",
       "    </tr>\n",
       "    <tr>\n",
       "      <th>3</th>\n",
       "      <td>6.861314e-20</td>\n",
       "      <td>1.284916e-20</td>\n",
       "      <td>0.545000</td>\n",
       "      <td>2.400000e-18</td>\n",
       "      <td>2.910241</td>\n",
       "      <td>3.761208e-20</td>\n",
       "      <td>1.585528e-19</td>\n",
       "      <td>3.812387e-20</td>\n",
       "      <td>1.039610e-21</td>\n",
       "      <td>5.569108e-21</td>\n",
       "      <td>4.473259e-20</td>\n",
       "      <td>2.266593</td>\n",
       "      <td>-0.643648</td>\n",
       "    </tr>\n",
       "    <tr>\n",
       "      <th>4</th>\n",
       "      <td>9.489051e-20</td>\n",
       "      <td>1.620112e-20</td>\n",
       "      <td>0.470000</td>\n",
       "      <td>2.300000e-18</td>\n",
       "      <td>2.752806</td>\n",
       "      <td>3.761208e-20</td>\n",
       "      <td>1.538989e-19</td>\n",
       "      <td>3.334090e-20</td>\n",
       "      <td>1.009001e-21</td>\n",
       "      <td>5.405136e-21</td>\n",
       "      <td>3.975503e-20</td>\n",
       "      <td>2.169482</td>\n",
       "      <td>-0.583324</td>\n",
       "    </tr>\n",
       "  </tbody>\n",
       "</table>\n",
       "</div>"
      ],
      "text/plain": [
       "            V_P           V_R      gmax        V_cell       k_E  V_cell_model  \\\n",
       "0  2.101147e-19  6.097366e-20  0.941429  2.752857e-18  3.244155  1.909016e-16   \n",
       "1  3.240876e-19  8.603352e-20  0.677500  4.450000e-18  2.552137  3.977441e-16   \n",
       "2  1.003650e-19  1.536313e-20  0.333500  1.950000e-18  2.178704  2.431404e-18   \n",
       "3  6.861314e-20  1.284916e-20  0.545000  2.400000e-18  2.910241  3.761208e-20   \n",
       "4  9.489051e-20  1.620112e-20  0.470000  2.300000e-18  2.752806  3.761208e-20   \n",
       "\n",
       "      V_P_model     V_R_model    tRNA_model    mRNA_model   V_mtR_model  \\\n",
       "0  1.745318e-19  6.414248e-20  1.144949e-21  6.133402e-21  7.142083e-20   \n",
       "1  2.442745e-19  6.905343e-20  1.601941e-21  8.581470e-21  7.923684e-20   \n",
       "2  1.371041e-19  2.378735e-20  8.987359e-22  4.814456e-21  2.950054e-20   \n",
       "3  1.585528e-19  3.812387e-20  1.039610e-21  5.569108e-21  4.473259e-20   \n",
       "4  1.538989e-19  3.334090e-20  1.009001e-21  5.405136e-21  3.975503e-20   \n",
       "\n",
       "   k_E_model      diff  \n",
       "0   2.561630 -0.682525  \n",
       "1   2.396636 -0.155501  \n",
       "2   1.922207 -0.256497  \n",
       "3   2.266593 -0.643648  \n",
       "4   2.169482 -0.583324  "
      ]
     },
     "execution_count": 70,
     "metadata": {},
     "output_type": "execute_result"
    }
   ],
   "source": [
    "df = pd.read_csv(\"/Users/glmarschmann/.julia/dev/DEBmicroTrait/files/benchmark_protein_synthesis.csv\")\n",
    "df.head()"
   ]
  },
  {
   "cell_type": "code",
   "execution_count": 74,
   "id": "4dfa7f86",
   "metadata": {},
   "outputs": [
    {
     "data": {
      "text/html": [
       "<div>\n",
       "<style scoped>\n",
       "    .dataframe tbody tr th:only-of-type {\n",
       "        vertical-align: middle;\n",
       "    }\n",
       "\n",
       "    .dataframe tbody tr th {\n",
       "        vertical-align: top;\n",
       "    }\n",
       "\n",
       "    .dataframe thead th {\n",
       "        text-align: right;\n",
       "    }\n",
       "</style>\n",
       "<table border=\"1\" class=\"dataframe\">\n",
       "  <thead>\n",
       "    <tr style=\"text-align: right;\">\n",
       "      <th></th>\n",
       "      <th>V_P</th>\n",
       "      <th>V_R</th>\n",
       "      <th>gmax</th>\n",
       "      <th>V_cell</th>\n",
       "      <th>k_E</th>\n",
       "      <th>V_cell_model</th>\n",
       "      <th>V_P_model</th>\n",
       "      <th>V_R_model</th>\n",
       "      <th>tRNA_model</th>\n",
       "      <th>mRNA_model</th>\n",
       "      <th>V_mtR_model</th>\n",
       "      <th>k_E_model</th>\n",
       "      <th>diff</th>\n",
       "    </tr>\n",
       "  </thead>\n",
       "  <tbody>\n",
       "    <tr>\n",
       "      <th>0</th>\n",
       "      <td>2.101147e-19</td>\n",
       "      <td>6.097366e-20</td>\n",
       "      <td>0.941429</td>\n",
       "      <td>2.752857e-18</td>\n",
       "      <td>3.244155</td>\n",
       "      <td>1.909016e-16</td>\n",
       "      <td>1.745318e-19</td>\n",
       "      <td>6.414248e-20</td>\n",
       "      <td>1.144949e-21</td>\n",
       "      <td>6.133402e-21</td>\n",
       "      <td>7.142083e-20</td>\n",
       "      <td>2.561630</td>\n",
       "      <td>-0.682525</td>\n",
       "    </tr>\n",
       "    <tr>\n",
       "      <th>1</th>\n",
       "      <td>3.240876e-19</td>\n",
       "      <td>8.603352e-20</td>\n",
       "      <td>0.677500</td>\n",
       "      <td>4.450000e-18</td>\n",
       "      <td>2.552137</td>\n",
       "      <td>3.977441e-16</td>\n",
       "      <td>2.442745e-19</td>\n",
       "      <td>6.905343e-20</td>\n",
       "      <td>1.601941e-21</td>\n",
       "      <td>8.581470e-21</td>\n",
       "      <td>7.923684e-20</td>\n",
       "      <td>2.396636</td>\n",
       "      <td>-0.155501</td>\n",
       "    </tr>\n",
       "    <tr>\n",
       "      <th>2</th>\n",
       "      <td>1.003650e-19</td>\n",
       "      <td>1.536313e-20</td>\n",
       "      <td>0.333500</td>\n",
       "      <td>1.950000e-18</td>\n",
       "      <td>2.178704</td>\n",
       "      <td>2.431404e-18</td>\n",
       "      <td>1.371041e-19</td>\n",
       "      <td>2.378735e-20</td>\n",
       "      <td>8.987359e-22</td>\n",
       "      <td>4.814456e-21</td>\n",
       "      <td>2.950054e-20</td>\n",
       "      <td>1.922207</td>\n",
       "      <td>-0.256497</td>\n",
       "    </tr>\n",
       "    <tr>\n",
       "      <th>3</th>\n",
       "      <td>6.861314e-20</td>\n",
       "      <td>1.284916e-20</td>\n",
       "      <td>0.545000</td>\n",
       "      <td>2.400000e-18</td>\n",
       "      <td>2.910241</td>\n",
       "      <td>3.761208e-20</td>\n",
       "      <td>1.585528e-19</td>\n",
       "      <td>3.812387e-20</td>\n",
       "      <td>1.039610e-21</td>\n",
       "      <td>5.569108e-21</td>\n",
       "      <td>4.473259e-20</td>\n",
       "      <td>2.266593</td>\n",
       "      <td>-0.643648</td>\n",
       "    </tr>\n",
       "    <tr>\n",
       "      <th>4</th>\n",
       "      <td>9.489051e-20</td>\n",
       "      <td>1.620112e-20</td>\n",
       "      <td>0.470000</td>\n",
       "      <td>2.300000e-18</td>\n",
       "      <td>2.752806</td>\n",
       "      <td>3.761208e-20</td>\n",
       "      <td>1.538989e-19</td>\n",
       "      <td>3.334090e-20</td>\n",
       "      <td>1.009001e-21</td>\n",
       "      <td>5.405136e-21</td>\n",
       "      <td>3.975503e-20</td>\n",
       "      <td>2.169482</td>\n",
       "      <td>-0.583324</td>\n",
       "    </tr>\n",
       "  </tbody>\n",
       "</table>\n",
       "</div>"
      ],
      "text/plain": [
       "            V_P           V_R      gmax        V_cell       k_E  V_cell_model  \\\n",
       "0  2.101147e-19  6.097366e-20  0.941429  2.752857e-18  3.244155  1.909016e-16   \n",
       "1  3.240876e-19  8.603352e-20  0.677500  4.450000e-18  2.552137  3.977441e-16   \n",
       "2  1.003650e-19  1.536313e-20  0.333500  1.950000e-18  2.178704  2.431404e-18   \n",
       "3  6.861314e-20  1.284916e-20  0.545000  2.400000e-18  2.910241  3.761208e-20   \n",
       "4  9.489051e-20  1.620112e-20  0.470000  2.300000e-18  2.752806  3.761208e-20   \n",
       "\n",
       "      V_P_model     V_R_model    tRNA_model    mRNA_model   V_mtR_model  \\\n",
       "0  1.745318e-19  6.414248e-20  1.144949e-21  6.133402e-21  7.142083e-20   \n",
       "1  2.442745e-19  6.905343e-20  1.601941e-21  8.581470e-21  7.923684e-20   \n",
       "2  1.371041e-19  2.378735e-20  8.987359e-22  4.814456e-21  2.950054e-20   \n",
       "3  1.585528e-19  3.812387e-20  1.039610e-21  5.569108e-21  4.473259e-20   \n",
       "4  1.538989e-19  3.334090e-20  1.009001e-21  5.405136e-21  3.975503e-20   \n",
       "\n",
       "   k_E_model      diff  \n",
       "0   2.561630 -0.682525  \n",
       "1   2.396636 -0.155501  \n",
       "2   1.922207 -0.256497  \n",
       "3   2.266593 -0.643648  \n",
       "4   2.169482 -0.583324  "
      ]
     },
     "execution_count": 74,
     "metadata": {},
     "output_type": "execute_result"
    }
   ],
   "source": [
    "df_non = df[:-1]\n",
    "df_non.head()"
   ]
  },
  {
   "cell_type": "code",
   "execution_count": 84,
   "id": "134b1ff7",
   "metadata": {},
   "outputs": [],
   "source": [
    "df_out = df.iloc[-1]"
   ]
  },
  {
   "cell_type": "code",
   "execution_count": 85,
   "id": "fb5cd59d",
   "metadata": {},
   "outputs": [
    {
     "data": {
      "text/plain": [
       "<Axes:>"
      ]
     },
     "execution_count": 85,
     "metadata": {},
     "output_type": "execute_result"
    },
    {
     "data": {
      "image/png": "[encoded data removed]",
      "text/plain": [
       "<Figure size 324x252 with 1 Axes>"
      ]
     },
     "metadata": {
      "needs_background": "light"
     },
     "output_type": "display_data"
    }
   ],
   "source": [
    "plt.rcParams.update(params)\n",
    "plt.figure(1)\n",
    "plt.clf()\n",
    "plt.axes([leftmargin,\n",
    "            bottommargin,\n",
    "            1.0 - rightmargin-leftmargin,\n",
    "            1.0 - topmargin-bottommargin])"
   ]
  },
  {
   "cell_type": "code",
   "execution_count": 87,
   "id": "c9c550e9",
   "metadata": {},
   "outputs": [
    {
     "data": {
      "image/png": "[encoded data removed]",
      "text/plain": [
       "<Figure size 324x252 with 1 Axes>"
      ]
     },
     "metadata": {
      "needs_background": "light"
     },
     "output_type": "display_data"
    }
   ],
   "source": [
    "plt.plot(df_non[\"k_E_model\"], df_non[\"k_E\"], 'o', mfc='none', mec='k', ms=5, label=\"not significant\")\n",
    "plt.plot(df_out[\"k_E_model\"], df_out[\"k_E\"], 'o', mfc='none', mec='r', ms=5, label=\"significant\")\n",
    "x = np.linspace(1e-1,1e1,100)\n",
    "y = x\n",
    "y1 = np.exp(0.023)*x**1.13\n",
    "plt.plot(x, y, '--', c='k', label=\"\")\n",
    "plt.plot(x, y1, '-', c='k', label=\"\")\n",
    "plt.grid(True)\n",
    "plt.xscale('log')\n",
    "plt.yscale('log')\n",
    "plt.ylabel(\"Translation power [h-1]\")\n",
    "plt.xlabel(\"Translation power predicted [h-1]\")\n",
    "plt.legend(title=\"Difference between\\n measured and predicted\", bbox_to_anchor=(1.01, 1))\n",
    "plt.savefig(\"/Users/glmarschmann/.julia/dev/DEBmicroTrait/pnas/figures_suppl/benchmark_protein_synthesis.svg\", format='svg')"
   ]
  },
  {
   "cell_type": "code",
   "execution_count": 61,
   "id": "6307b44e",
   "metadata": {},
   "outputs": [],
   "source": [
    "df = pd.read_csv(\"/Users/glmarschmann/.julia/dev/DEBmicroTrait/files/isolates_max_yield.csv\")"
   ]
  },
  {
   "cell_type": "code",
   "execution_count": 62,
   "id": "6425aba9",
   "metadata": {},
   "outputs": [
    {
     "data": {
      "text/plain": [
       "<Axes:>"
      ]
     },
     "execution_count": 62,
     "metadata": {},
     "output_type": "execute_result"
    },
    {
     "data": {
      "image/png": "[encoded data removed]",
      "text/plain": [
       "<Figure size 324x252 with 1 Axes>"
      ]
     },
     "metadata": {
      "needs_background": "light"
     },
     "output_type": "display_data"
    }
   ],
   "source": [
    "plt.rcParams.update(params)\n",
    "plt.figure(1)\n",
    "plt.clf()\n",
    "plt.axes([leftmargin,\n",
    "            bottommargin,\n",
    "            1.0 - rightmargin-leftmargin,\n",
    "            1.0 - topmargin-bottommargin])"
   ]
  },
  {
   "cell_type": "code",
   "execution_count": 65,
   "id": "37e25d4e",
   "metadata": {},
   "outputs": [
    {
     "data": {
      "image/png": "[encoded data removed]",
      "text/plain": [
       "<Figure size 324x252 with 1 Axes>"
      ]
     },
     "metadata": {
      "needs_background": "light"
     },
     "output_type": "display_data"
    }
   ],
   "source": [
    "from matplotlib.lines import Line2D\n",
    "ax = plt.gca()\n",
    "ax = sns.regplot(x=\"kE\", y=\"yvmax\", data=df, lowess=True, line_kws={\"color\":\"#045a8d\",\"alpha\":1.0,\"lw\":1.5}, scatter_kws={\"color\":\"#bdbdbd\", \"edgecolors\":\"k\", \"s\":20}, ax=ax, truncate=False, label=\"Isolates (n=39)\")\n",
    "ax.set_xlim([0.85, 2.6])\n",
    "#ax.set_ylim([0.3, 0.81])\n",
    "plt.xlabel(\"Translation power [h-1]\")\n",
    "plt.ylabel(\"Maximum structural yield [-]\")\n",
    "ax.legend( loc='best')\n",
    "plt.savefig(\"/Users/glmarschmann/.julia/dev/DEBmicroTrait/pnas/figures_suppl/isolates_max_yield.svg\", format='svg')"
   ]
  },
  {
   "cell_type": "markdown",
   "id": "ca06db9b",
   "metadata": {},
   "source": [
    "# Levin's index"
   ]
  },
  {
   "cell_type": "code",
   "execution_count": 11,
   "id": "356c1a72",
   "metadata": {},
   "outputs": [
    {
     "data": {
      "text/html": [
       "<div>\n",
       "<style scoped>\n",
       "    .dataframe tbody tr th:only-of-type {\n",
       "        vertical-align: middle;\n",
       "    }\n",
       "\n",
       "    .dataframe tbody tr th {\n",
       "        vertical-align: top;\n",
       "    }\n",
       "\n",
       "    .dataframe thead th {\n",
       "        text-align: right;\n",
       "    }\n",
       "</style>\n",
       "<table border=\"1\" class=\"dataframe\">\n",
       "  <thead>\n",
       "    <tr style=\"text-align: right;\">\n",
       "      <th></th>\n",
       "      <th>isolate</th>\n",
       "      <th>BGE_med</th>\n",
       "      <th>levins</th>\n",
       "      <th>response</th>\n",
       "    </tr>\n",
       "  </thead>\n",
       "  <tbody>\n",
       "    <tr>\n",
       "      <th>0</th>\n",
       "      <td>Acidobacteriaceae bacterium URHE0068</td>\n",
       "      <td>0.630717</td>\n",
       "      <td>0.458870</td>\n",
       "      <td>positive</td>\n",
       "    </tr>\n",
       "    <tr>\n",
       "      <th>1</th>\n",
       "      <td>Bacillus sp. URHB0009</td>\n",
       "      <td>0.378302</td>\n",
       "      <td>0.911913</td>\n",
       "      <td>negative</td>\n",
       "    </tr>\n",
       "    <tr>\n",
       "      <th>2</th>\n",
       "      <td>Blastococcus sp. URHD0036</td>\n",
       "      <td>0.445137</td>\n",
       "      <td>0.480510</td>\n",
       "      <td>undefined</td>\n",
       "    </tr>\n",
       "    <tr>\n",
       "      <th>3</th>\n",
       "      <td>Bradyrhizobium sp. URHA0002</td>\n",
       "      <td>0.630696</td>\n",
       "      <td>0.790844</td>\n",
       "      <td>positive</td>\n",
       "    </tr>\n",
       "    <tr>\n",
       "      <th>4</th>\n",
       "      <td>Bradyrhizobium sp. URHA0013</td>\n",
       "      <td>0.630861</td>\n",
       "      <td>0.767366</td>\n",
       "      <td>positive</td>\n",
       "    </tr>\n",
       "  </tbody>\n",
       "</table>\n",
       "</div>"
      ],
      "text/plain": [
       "                                isolate   BGE_med    levins   response\n",
       "0  Acidobacteriaceae bacterium URHE0068  0.630717  0.458870   positive\n",
       "1                 Bacillus sp. URHB0009  0.378302  0.911913   negative\n",
       "2             Blastococcus sp. URHD0036  0.445137  0.480510  undefined\n",
       "3           Bradyrhizobium sp. URHA0002  0.630696  0.790844   positive\n",
       "4           Bradyrhizobium sp. URHA0013  0.630861  0.767366   positive"
      ]
     },
     "execution_count": 11,
     "metadata": {},
     "output_type": "execute_result"
    }
   ],
   "source": [
    "df_levin = pd.read_csv(\"/Users/glmarschmann/.julia/dev/DEBmicroTrait/files/isolates_batch_model_bge_levin.csv\")\n",
    "df_levin.head()"
   ]
  },
  {
   "cell_type": "code",
   "execution_count": 12,
   "id": "50ec4ebc",
   "metadata": {},
   "outputs": [],
   "source": [
    "df_levin_p = df_levin.loc[(df_levin.response == \"positive\")]\n",
    "df_levin_n = df_levin.loc[(df_levin.response == \"negative\")]\n",
    "df_levin_u = df_levin.loc[(df_levin.response == \"undefined\")]"
   ]
  },
  {
   "cell_type": "code",
   "execution_count": 13,
   "id": "e1d126c8",
   "metadata": {},
   "outputs": [
    {
     "data": {
      "text/plain": [
       "<Axes:>"
      ]
     },
     "execution_count": 13,
     "metadata": {},
     "output_type": "execute_result"
    },
    {
     "data": {
      "image/png": "[encoded data removed]",
      "text/plain": [
       "<Figure size 324x252 with 1 Axes>"
      ]
     },
     "metadata": {
      "needs_background": "light"
     },
     "output_type": "display_data"
    }
   ],
   "source": [
    "plt.rcParams.update(params)\n",
    "plt.figure(1)\n",
    "plt.clf()\n",
    "plt.axes([leftmargin,\n",
    "            bottommargin,\n",
    "            1.0 - rightmargin-leftmargin,\n",
    "            1.0 - topmargin-bottommargin])"
   ]
  },
  {
   "cell_type": "code",
   "execution_count": 41,
   "id": "e7f73744",
   "metadata": {},
   "outputs": [
    {
     "data": {
      "image/png": "[encoded data removed]",
      "text/plain": [
       "<Figure size 324x252 with 1 Axes>"
      ]
     },
     "metadata": {
      "needs_background": "light"
     },
     "output_type": "display_data"
    }
   ],
   "source": [
    "plt.scatter(df_levin_p.levins, df_levin_p.BGE_med, s=100, color='w', edgecolor='k', marker='^', label=\"positive\")\n",
    "plt.scatter(df_levin_n.levins, df_levin_n.BGE_med, s=100, color='w', edgecolor='k', marker='v', label=\"negative\")\n",
    "plt.scatter(df_levin_u.levins, df_levin_u.BGE_med, s=100, color='w', edgecolor='k', marker='s', label=\"undefined\")\n",
    "ax = plt.gca()\n",
    "ax = sns.regplot(x=\"levins\", y=\"BGE_med\", data=df_levin, line_kws={\"color\":\"#045a8d\",\"alpha\":1.0,\"lw\":1.5}, scatter_kws={\"color\":\"none\", \"edgecolors\":\"none\", \"s\":0}, ax=ax, truncate=False, label=\"\")\n",
    "plt.ylabel(\"Carbon use efficiency [-]\")\n",
    "plt.xlabel(\"Levins index [-]\")\n",
    "plt.legend(bbox_to_anchor=(1.01, 1))\n",
    "plt.savefig(\"/Users/glmarschmann/.julia/dev/DEBmicroTrait/pnas/figures_suppl/batch_levins.svg\", format='svg')"
   ]
  },
  {
   "cell_type": "code",
   "execution_count": 23,
   "id": "30d22514",
   "metadata": {},
   "outputs": [
    {
     "data": {
      "text/plain": [
       "<Axes:>"
      ]
     },
     "execution_count": 23,
     "metadata": {},
     "output_type": "execute_result"
    },
    {
     "data": {
      "image/png": "[encoded data removed]",
      "text/plain": [
       "<Figure size 324x252 with 1 Axes>"
      ]
     },
     "metadata": {
      "needs_background": "light"
     },
     "output_type": "display_data"
    }
   ],
   "source": [
    "plt.rcParams.update(params)\n",
    "plt.figure(1)\n",
    "plt.clf()\n",
    "plt.axes([leftmargin,\n",
    "            bottommargin,\n",
    "            1.0 - rightmargin-leftmargin,\n",
    "            1.0 - topmargin-bottommargin])"
   ]
  },
  {
   "cell_type": "code",
   "execution_count": 31,
   "id": "943697d5",
   "metadata": {},
   "outputs": [
    {
     "data": {
      "image/png": "[encoded data removed]",
      "text/plain": [
       "<Figure size 324x252 with 1 Axes>"
      ]
     },
     "metadata": {
      "needs_background": "light"
     },
     "output_type": "display_data"
    }
   ],
   "source": [
    "ax = plt.gca()\n",
    "ax = sns.kdeplot(df_levin.levins, color='k')\n",
    "ax.set(xlabel=\"Levins index [-]\", ylabel=\"Density\")\n",
    "plt.savefig(\"/Users/glmarschmann/.julia/dev/DEBmicroTrait/pnas/figures_suppl/batch_levins_density.svg\", format='svg')"
   ]
  },
  {
   "cell_type": "code",
   "execution_count": null,
   "id": "5e943198",
   "metadata": {},
   "outputs": [],
   "source": []
  }
 ],
 "metadata": {
  "kernelspec": {
   "display_name": "Python 3 (ipykernel)",
   "language": "python",
   "name": "python3"
  },
  "language_info": {
   "codemirror_mode": {
    "name": "ipython",
    "version": 3
   },
   "file_extension": ".py",
   "mimetype": "text/x-python",
   "name": "python",
   "nbconvert_exporter": "python",
   "pygments_lexer": "ipython3",
   "version": "3.7.1"
  }
 },
 "nbformat": 4,
 "nbformat_minor": 5
}
